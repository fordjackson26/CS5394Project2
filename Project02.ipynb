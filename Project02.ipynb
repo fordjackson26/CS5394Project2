{
 "cells": [
  {
   "cell_type": "markdown",
   "id": "245918b3-be3c-4d1f-9a58-7f2a88d01183",
   "metadata": {},
   "source": [
    "# Project 2\n",
    "### CS 5/7394 - Applied Machine Learning\n",
    "\n",
    "- **Due** - March 11 @ 11:59 pm pushed to Github repo\n",
    "- **Teams** - You can do this project solo or in pairs.  Not 3, not 4 not 5... Max of 2. If a 5394 student pairs with a 7394 student, the pair needs to do the 7394 work. "
   ]
  },
  {
   "cell_type": "markdown",
   "id": "cae9b08f-7745-4dfb-8927-258f22423720",
   "metadata": {},
   "source": [
    "Below are 6 Kaggle Datasets.  You will choose 1 to work with for this project. \n",
    "\n",
    "- [Airfare Prediction Dataset](https://www.kaggle.com/zwartfreak/airline-fare-prediction)\n",
    "- [Chinese Rest Holiday Dataset](https://www.kaggle.com/holoong9291/chinese-rest-holiday-dataset-2020-to-2022)\n",
    "- [Jigsaw Toxic Comment Classification Challenge](https://www.kaggle.com/julian3833/jigsaw-toxic-comment-classification-challenge?select=train.csv)\n",
    "- [Latest Covid 19 Dataset Worldwide](https://www.kaggle.com/sandhyakrishnan02/latest-covid-19-dataset-worldwide)\n",
    "- [Trains](https://www.kaggle.com/vahidehdashti/machinelearningdatabase-trains?select=trains-original.data)\n",
    "- [Football Data top 5 Leagues](https://www.kaggle.com/sanjeetsinghnaik/football-data-top-5-leagues)\n",
    "\n",
    "Merging disparate datasets is a staple of the data exploration process.  Therefore, for which ever data set above that you choose, you will need to independently find **an additional** dataset to merge with your selection.  The only requirement is that it add to the richness of the original dataset. Students in the 7000-level version of the class need to find two additional data sets to merge with the original selection. \n",
    "\n",
    "_Note_: If you want to start with a different data set, you need to get Fontenot's OK first.  "
   ]
  },
  {
   "cell_type": "markdown",
   "id": "126330db-b29f-46d9-b16e-7811612a9e73",
   "metadata": {},
   "source": [
    "### Your Tasks\n",
    "\n",
    "Below, there are cells that provide directions on what to do for the project.  \n",
    "\n",
    "You can insert as many cells between the ones below as you'd like, but please **Do NOT** change the cells already provided. "
   ]
  },
  {
   "cell_type": "markdown",
   "id": "0f2ca87f-07eb-4792-b76e-15f2f01d1408",
   "metadata": {},
   "source": [
    "### Part 1 - Getting Started\n",
    "\n",
    "- Import libraries\n",
    "- Load original Data (which ever one you chose from the provided list) into a data frame. \n",
    "- Load your additional data set(s) into a data frame. \n",
    "- In a markdown cell, provide a brief description of your the data sets you've chosen to work with.  \n",
    "- Develop a list of 3 - 4 questions that you hope to be able to answer after the exploration of the data and write them in this section. "
   ]
  },
  {
   "cell_type": "markdown",
   "source": [
    "## Dataset summary\n",
    "- the intial dataset contains a number of football fixtures from the top five leagues in europe\n",
    "  - each observation/fixture contains attributes such as goals for each team, match excitement among other things\n",
    "- the supplementary dataset has a similar format but conatains odds from many bookmakers accross the internet\n",
    "  - it also has more detailed statistics including halftime statistics"
   ],
   "metadata": {
    "collapsed": false
   }
  },
  {
   "cell_type": "markdown",
   "source": [
    "### Questions\n",
    "1. What team beats the odds the most often in each league?\n",
    "2. which league is most prone to upsets?\n",
    "3. which team has the biggest homecourt advantage?\n",
    "4. which teams are the best on the road?"
   ],
   "metadata": {
    "collapsed": false
   }
  },
  {
   "cell_type": "code",
   "execution_count": 109,
   "id": "ef9b70f5-346e-47af-9d38-043de6663c0c",
   "metadata": {},
   "outputs": [],
   "source": [
    "# data manipulation\n",
    "import numpy as np\n",
    "import pandas as pd\n",
    "%matplotlib inline\n",
    "\n",
    "# modeling utilities\n",
    "import scipy.stats as stats\n",
    "from sklearn import metrics\n",
    "from sklearn import preprocessing\n",
    "from sklearn import  linear_model\n",
    "from sklearn.model_selection import cross_val_score\n",
    "from sklearn.model_selection import train_test_split\n",
    "from sklearn.model_selection import cross_val_predict\n",
    "\n",
    "# plotting libraries\n",
    "import matplotlib.pyplot as plt\n",
    "import seaborn as sn\n",
    "params = {'legend.fontsize': 'x-large',\n",
    "          'figure.figsize': (30, 10),\n",
    "          'axes.labelsize': 'x-large',\n",
    "          'axes.titlesize':'x-large',\n",
    "          'xtick.labelsize':'x-large',\n",
    "          'ytick.labelsize':'x-large'}\n",
    "\n",
    "sn.set_style('whitegrid')\n",
    "sn.set_context('talk')\n",
    "plt.rcParams.update(params)\n",
    "pd.options.display.max_colwidth = 600"
   ]
  },
  {
   "cell_type": "code",
   "execution_count": 73,
   "outputs": [
    {
     "data": {
      "text/plain": "   Unnamed: 0       Home Team   Away Team Score Half Time Score  \\\n0           0         MAN UTD     SWANSEA   1-2             0-1   \n1           1       WEST BROM  SUNDERLAND   2-2             1-1   \n2           2  LEICESTER CITY     EVERTON   2-2             1-2   \n3           3        WEST HAM   TOTTENHAM   0-1             0-0   \n4           4             QPR   HULL CITY   0-1             0-0   \n\n   Match Excitement  Home Team Rating  Away Team Rating  \\\n0               5.9               5.6               7.6   \n1               7.3               6.5               7.4   \n2               7.0               6.5               6.3   \n3               4.8               5.9               6.4   \n4               3.8               5.7               6.6   \n\n   Home Team Possession %  Away Team Possession %  ...  Away Team Fouls  \\\n0                      60                      40  ...             20.0   \n1                      58                      42  ...              9.0   \n2                      37                      63  ...             10.0   \n3                      47                      53  ...             10.0   \n4                      51                      49  ...             10.0   \n\n   Away Team Yellow Cards  Away Team Second Yellow Cards  Away Team Red Cards  \\\n0                     4.0                            0.0                  0.0   \n1                     1.0                            0.0                  0.0   \n2                     1.0                            0.0                  0.0   \n3                     0.0                            0.0                  1.0   \n4                     2.0                            0.0                  0.0   \n\n   Home Team Goals Scored  Away Team Goals Scored  Home Team Goals Conceeded  \\\n0                       1                       2                          2   \n1                       2                       2                          2   \n2                       2                       2                          2   \n3                       0                       1                          1   \n4                       0                       1                          1   \n\n   Away Team Goals Conceeded  year   league  \n0                          1  2014  english  \n1                          2  2014  english  \n2                          2  2014  english  \n3                          0  2014  english  \n4                          0  2014  english  \n\n[5 rows x 42 columns]",
      "text/html": "<div>\n<style scoped>\n    .dataframe tbody tr th:only-of-type {\n        vertical-align: middle;\n    }\n\n    .dataframe tbody tr th {\n        vertical-align: top;\n    }\n\n    .dataframe thead th {\n        text-align: right;\n    }\n</style>\n<table border=\"1\" class=\"dataframe\">\n  <thead>\n    <tr style=\"text-align: right;\">\n      <th></th>\n      <th>Unnamed: 0</th>\n      <th>Home Team</th>\n      <th>Away Team</th>\n      <th>Score</th>\n      <th>Half Time Score</th>\n      <th>Match Excitement</th>\n      <th>Home Team Rating</th>\n      <th>Away Team Rating</th>\n      <th>Home Team Possession %</th>\n      <th>Away Team Possession %</th>\n      <th>...</th>\n      <th>Away Team Fouls</th>\n      <th>Away Team Yellow Cards</th>\n      <th>Away Team Second Yellow Cards</th>\n      <th>Away Team Red Cards</th>\n      <th>Home Team Goals Scored</th>\n      <th>Away Team Goals Scored</th>\n      <th>Home Team Goals Conceeded</th>\n      <th>Away Team Goals Conceeded</th>\n      <th>year</th>\n      <th>league</th>\n    </tr>\n  </thead>\n  <tbody>\n    <tr>\n      <th>0</th>\n      <td>0</td>\n      <td>MAN UTD</td>\n      <td>SWANSEA</td>\n      <td>1-2</td>\n      <td>0-1</td>\n      <td>5.9</td>\n      <td>5.6</td>\n      <td>7.6</td>\n      <td>60</td>\n      <td>40</td>\n      <td>...</td>\n      <td>20.0</td>\n      <td>4.0</td>\n      <td>0.0</td>\n      <td>0.0</td>\n      <td>1</td>\n      <td>2</td>\n      <td>2</td>\n      <td>1</td>\n      <td>2014</td>\n      <td>english</td>\n    </tr>\n    <tr>\n      <th>1</th>\n      <td>1</td>\n      <td>WEST BROM</td>\n      <td>SUNDERLAND</td>\n      <td>2-2</td>\n      <td>1-1</td>\n      <td>7.3</td>\n      <td>6.5</td>\n      <td>7.4</td>\n      <td>58</td>\n      <td>42</td>\n      <td>...</td>\n      <td>9.0</td>\n      <td>1.0</td>\n      <td>0.0</td>\n      <td>0.0</td>\n      <td>2</td>\n      <td>2</td>\n      <td>2</td>\n      <td>2</td>\n      <td>2014</td>\n      <td>english</td>\n    </tr>\n    <tr>\n      <th>2</th>\n      <td>2</td>\n      <td>LEICESTER CITY</td>\n      <td>EVERTON</td>\n      <td>2-2</td>\n      <td>1-2</td>\n      <td>7.0</td>\n      <td>6.5</td>\n      <td>6.3</td>\n      <td>37</td>\n      <td>63</td>\n      <td>...</td>\n      <td>10.0</td>\n      <td>1.0</td>\n      <td>0.0</td>\n      <td>0.0</td>\n      <td>2</td>\n      <td>2</td>\n      <td>2</td>\n      <td>2</td>\n      <td>2014</td>\n      <td>english</td>\n    </tr>\n    <tr>\n      <th>3</th>\n      <td>3</td>\n      <td>WEST HAM</td>\n      <td>TOTTENHAM</td>\n      <td>0-1</td>\n      <td>0-0</td>\n      <td>4.8</td>\n      <td>5.9</td>\n      <td>6.4</td>\n      <td>47</td>\n      <td>53</td>\n      <td>...</td>\n      <td>10.0</td>\n      <td>0.0</td>\n      <td>0.0</td>\n      <td>1.0</td>\n      <td>0</td>\n      <td>1</td>\n      <td>1</td>\n      <td>0</td>\n      <td>2014</td>\n      <td>english</td>\n    </tr>\n    <tr>\n      <th>4</th>\n      <td>4</td>\n      <td>QPR</td>\n      <td>HULL CITY</td>\n      <td>0-1</td>\n      <td>0-0</td>\n      <td>3.8</td>\n      <td>5.7</td>\n      <td>6.6</td>\n      <td>51</td>\n      <td>49</td>\n      <td>...</td>\n      <td>10.0</td>\n      <td>2.0</td>\n      <td>0.0</td>\n      <td>0.0</td>\n      <td>0</td>\n      <td>1</td>\n      <td>1</td>\n      <td>0</td>\n      <td>2014</td>\n      <td>english</td>\n    </tr>\n  </tbody>\n</table>\n<p>5 rows × 42 columns</p>\n</div>"
     },
     "execution_count": 73,
     "metadata": {},
     "output_type": "execute_result"
    }
   ],
   "source": [
    "metadata = pd.read_csv('combined_data.csv')\n",
    "metadata.head()"
   ],
   "metadata": {
    "collapsed": false,
    "pycharm": {
     "name": "#%%\n"
    }
   }
  },
  {
   "cell_type": "code",
   "execution_count": 74,
   "outputs": [
    {
     "data": {
      "text/plain": "english    2660\nspanish    2660\nitalian    2658\nfrench     2554\ngerman     1530\nName: league, dtype: int64"
     },
     "execution_count": 74,
     "metadata": {},
     "output_type": "execute_result"
    }
   ],
   "source": [
    "metadata[\"league\"].value_counts()"
   ],
   "metadata": {
    "collapsed": false,
    "pycharm": {
     "name": "#%%\n"
    }
   }
  },
  {
   "cell_type": "markdown",
   "id": "7dc8b1e5-3e29-4da6-8d36-0e7cf48a3e59",
   "metadata": {},
   "source": [
    "### Part 2 - Data Inspection\n",
    "\n",
    "Write some code to summarize the datasets.  Think about the following questions:\n",
    "- What type of data is each variable? (think like a data scientist here, not a computer scientist)\n",
    "- What is the total size of the data sets?\n",
    "- What time boundaries are there in the dataset?  IOW, what time frame do they span?\n",
    "- Are there any missing values in any of the variables? \n",
    "\n",
    "Do this with Intentionality.  Don't skimp. "
   ]
  },
  {
   "cell_type": "code",
   "execution_count": 75,
   "outputs": [
    {
     "name": "stdout",
     "output_type": "stream",
     "text": [
      "<class 'pandas.core.frame.DataFrame'>\n",
      "RangeIndex: 12062 entries, 0 to 12061\n",
      "Data columns (total 42 columns):\n",
      " #   Column                         Non-Null Count  Dtype  \n",
      "---  ------                         --------------  -----  \n",
      " 0   Unnamed: 0                     12062 non-null  int64  \n",
      " 1   Home Team                      12062 non-null  object \n",
      " 2   Away Team                      12062 non-null  object \n",
      " 3   Score                          12062 non-null  object \n",
      " 4   Half Time Score                12062 non-null  object \n",
      " 5   Match Excitement               12062 non-null  float64\n",
      " 6   Home Team Rating               12062 non-null  float64\n",
      " 7   Away Team Rating               12062 non-null  float64\n",
      " 8   Home Team Possession %         12062 non-null  int64  \n",
      " 9   Away Team Possession %         12062 non-null  int64  \n",
      " 10  Home Team Off Target Shots     12062 non-null  float64\n",
      " 11  Home Team On Target Shots      12062 non-null  float64\n",
      " 12  Home Team Total Shots          12062 non-null  float64\n",
      " 13  Home Team Blocked Shots        12062 non-null  float64\n",
      " 14  Home Team Corners              12062 non-null  float64\n",
      " 15  Home Team Throw Ins            12062 non-null  float64\n",
      " 16  Home Team Pass Success %       12062 non-null  float64\n",
      " 17  Home Team Aerials Won          12062 non-null  float64\n",
      " 18  Home Team Clearances           12062 non-null  float64\n",
      " 19  Home Team Fouls                12062 non-null  float64\n",
      " 20  Home Team Yellow Cards         12062 non-null  float64\n",
      " 21  Home Team Second Yellow Cards  12062 non-null  float64\n",
      " 22  Home Team Red Cards            12062 non-null  float64\n",
      " 23  Away Team Off Target Shots     12062 non-null  float64\n",
      " 24  Away Team On Target Shots      12062 non-null  float64\n",
      " 25  Away Team Total Shots          12062 non-null  float64\n",
      " 26  Away Team Blocked Shots        12062 non-null  float64\n",
      " 27  Away Team Corners              12062 non-null  float64\n",
      " 28  Away Team Throw Ins            12062 non-null  float64\n",
      " 29  Away Team Pass Success %       12062 non-null  float64\n",
      " 30  Away Team Aerials Won          12062 non-null  float64\n",
      " 31  Away Team Clearances           12062 non-null  float64\n",
      " 32  Away Team Fouls                12062 non-null  float64\n",
      " 33  Away Team Yellow Cards         12062 non-null  float64\n",
      " 34  Away Team Second Yellow Cards  12062 non-null  float64\n",
      " 35  Away Team Red Cards            12062 non-null  float64\n",
      " 36  Home Team Goals Scored         12062 non-null  int64  \n",
      " 37  Away Team Goals Scored         12062 non-null  int64  \n",
      " 38  Home Team Goals Conceeded      12062 non-null  int64  \n",
      " 39  Away Team Goals Conceeded      12062 non-null  int64  \n",
      " 40  year                           12062 non-null  int64  \n",
      " 41  league                         12062 non-null  object \n",
      "dtypes: float64(29), int64(8), object(5)\n",
      "memory usage: 3.9+ MB\n"
     ]
    }
   ],
   "source": [
    "metadata.info()"
   ],
   "metadata": {
    "collapsed": false,
    "pycharm": {
     "name": "#%%\n"
    }
   }
  },
  {
   "cell_type": "code",
   "execution_count": 76,
   "id": "31ea0e37-841e-4be8-95c3-40c54118a52b",
   "metadata": {},
   "outputs": [
    {
     "data": {
      "text/plain": "         Unnamed: 0  Match Excitement  Home Team Rating  Away Team Rating  \\\ncount  12062.000000      12062.000000      12062.000000      12062.000000   \nmean    6030.500000          5.391494          6.399702          6.142539   \nstd     3482.143808          1.719655          0.988037          0.992074   \nmin        0.000000          1.400000          2.100000          1.300000   \n25%     3015.250000          4.100000          5.700000          5.500000   \n50%     6030.500000          5.300000          6.400000          6.100000   \n75%     9045.750000          6.400000          7.000000          6.800000   \nmax    12061.000000         10.000000         10.000000         10.000000   \n\n       Home Team Possession %  Away Team Possession %  \\\ncount            12062.000000            12062.000000   \nmean                51.199469               48.800531   \nstd                 11.275257               11.275257   \nmin                 17.000000               16.000000   \n25%                 43.000000               41.000000   \n50%                 51.000000               49.000000   \n75%                 59.000000               57.000000   \nmax                 84.000000               83.000000   \n\n       Home Team Off Target Shots  Home Team On Target Shots  \\\ncount                12062.000000               12062.000000   \nmean                     5.644338                   4.723180   \nstd                      2.781520                   2.559607   \nmin                      0.000000                   0.000000   \n25%                      4.000000                   3.000000   \n50%                      5.000000                   4.000000   \n75%                      7.000000                   6.000000   \nmax                     20.000000                  18.000000   \n\n       Home Team Total Shots  Home Team Blocked Shots  ...  \\\ncount           12062.000000             12062.000000  ...   \nmean               13.690764                 3.338501  ...   \nstd                 5.244448                 2.246498  ...   \nmin                 0.000000                 0.000000  ...   \n25%                10.000000                 2.000000  ...   \n50%                13.000000                 3.000000  ...   \n75%                17.000000                 5.000000  ...   \nmax                47.000000                19.000000  ...   \n\n       Away Team Clearances  Away Team Fouls  Away Team Yellow Cards  \\\ncount          12062.000000     12062.000000            12062.000000   \nmean              22.792323        13.083154                2.162245   \nstd               10.141781         4.205046                1.365581   \nmin                1.000000         0.000000                0.000000   \n25%               15.000000        10.000000                1.000000   \n50%               22.000000        13.000000                2.000000   \n75%               29.000000        16.000000                3.000000   \nmax               79.000000        32.000000                9.000000   \n\n       Away Team Second Yellow Cards  Away Team Red Cards  \\\ncount                   12062.000000         12062.000000   \nmean                        0.060852             0.057785   \nstd                         0.244216             0.243772   \nmin                         0.000000             0.000000   \n25%                         0.000000             0.000000   \n50%                         0.000000             0.000000   \n75%                         0.000000             0.000000   \nmax                         2.000000             2.000000   \n\n       Home Team Goals Scored  Away Team Goals Scored  \\\ncount            12062.000000            12062.000000   \nmean                 1.531172                1.206351   \nstd                  1.305178                1.168266   \nmin                  0.000000                0.000000   \n25%                  1.000000                0.000000   \n50%                  1.000000                1.000000   \n75%                  2.000000                2.000000   \nmax                 10.000000                9.000000   \n\n       Home Team Goals Conceeded  Away Team Goals Conceeded          year  \ncount               12062.000000               12062.000000  12062.000000  \nmean                    1.206351                   1.531172   2017.109352  \nstd                     1.168266                   1.305178      1.965096  \nmin                     0.000000                   0.000000   2014.000000  \n25%                     0.000000                   1.000000   2015.000000  \n50%                     1.000000                   1.000000   2017.000000  \n75%                     2.000000                   2.000000   2019.000000  \nmax                     9.000000                  10.000000   2020.000000  \n\n[8 rows x 37 columns]",
      "text/html": "<div>\n<style scoped>\n    .dataframe tbody tr th:only-of-type {\n        vertical-align: middle;\n    }\n\n    .dataframe tbody tr th {\n        vertical-align: top;\n    }\n\n    .dataframe thead th {\n        text-align: right;\n    }\n</style>\n<table border=\"1\" class=\"dataframe\">\n  <thead>\n    <tr style=\"text-align: right;\">\n      <th></th>\n      <th>Unnamed: 0</th>\n      <th>Match Excitement</th>\n      <th>Home Team Rating</th>\n      <th>Away Team Rating</th>\n      <th>Home Team Possession %</th>\n      <th>Away Team Possession %</th>\n      <th>Home Team Off Target Shots</th>\n      <th>Home Team On Target Shots</th>\n      <th>Home Team Total Shots</th>\n      <th>Home Team Blocked Shots</th>\n      <th>...</th>\n      <th>Away Team Clearances</th>\n      <th>Away Team Fouls</th>\n      <th>Away Team Yellow Cards</th>\n      <th>Away Team Second Yellow Cards</th>\n      <th>Away Team Red Cards</th>\n      <th>Home Team Goals Scored</th>\n      <th>Away Team Goals Scored</th>\n      <th>Home Team Goals Conceeded</th>\n      <th>Away Team Goals Conceeded</th>\n      <th>year</th>\n    </tr>\n  </thead>\n  <tbody>\n    <tr>\n      <th>count</th>\n      <td>12062.000000</td>\n      <td>12062.000000</td>\n      <td>12062.000000</td>\n      <td>12062.000000</td>\n      <td>12062.000000</td>\n      <td>12062.000000</td>\n      <td>12062.000000</td>\n      <td>12062.000000</td>\n      <td>12062.000000</td>\n      <td>12062.000000</td>\n      <td>...</td>\n      <td>12062.000000</td>\n      <td>12062.000000</td>\n      <td>12062.000000</td>\n      <td>12062.000000</td>\n      <td>12062.000000</td>\n      <td>12062.000000</td>\n      <td>12062.000000</td>\n      <td>12062.000000</td>\n      <td>12062.000000</td>\n      <td>12062.000000</td>\n    </tr>\n    <tr>\n      <th>mean</th>\n      <td>6030.500000</td>\n      <td>5.391494</td>\n      <td>6.399702</td>\n      <td>6.142539</td>\n      <td>51.199469</td>\n      <td>48.800531</td>\n      <td>5.644338</td>\n      <td>4.723180</td>\n      <td>13.690764</td>\n      <td>3.338501</td>\n      <td>...</td>\n      <td>22.792323</td>\n      <td>13.083154</td>\n      <td>2.162245</td>\n      <td>0.060852</td>\n      <td>0.057785</td>\n      <td>1.531172</td>\n      <td>1.206351</td>\n      <td>1.206351</td>\n      <td>1.531172</td>\n      <td>2017.109352</td>\n    </tr>\n    <tr>\n      <th>std</th>\n      <td>3482.143808</td>\n      <td>1.719655</td>\n      <td>0.988037</td>\n      <td>0.992074</td>\n      <td>11.275257</td>\n      <td>11.275257</td>\n      <td>2.781520</td>\n      <td>2.559607</td>\n      <td>5.244448</td>\n      <td>2.246498</td>\n      <td>...</td>\n      <td>10.141781</td>\n      <td>4.205046</td>\n      <td>1.365581</td>\n      <td>0.244216</td>\n      <td>0.243772</td>\n      <td>1.305178</td>\n      <td>1.168266</td>\n      <td>1.168266</td>\n      <td>1.305178</td>\n      <td>1.965096</td>\n    </tr>\n    <tr>\n      <th>min</th>\n      <td>0.000000</td>\n      <td>1.400000</td>\n      <td>2.100000</td>\n      <td>1.300000</td>\n      <td>17.000000</td>\n      <td>16.000000</td>\n      <td>0.000000</td>\n      <td>0.000000</td>\n      <td>0.000000</td>\n      <td>0.000000</td>\n      <td>...</td>\n      <td>1.000000</td>\n      <td>0.000000</td>\n      <td>0.000000</td>\n      <td>0.000000</td>\n      <td>0.000000</td>\n      <td>0.000000</td>\n      <td>0.000000</td>\n      <td>0.000000</td>\n      <td>0.000000</td>\n      <td>2014.000000</td>\n    </tr>\n    <tr>\n      <th>25%</th>\n      <td>3015.250000</td>\n      <td>4.100000</td>\n      <td>5.700000</td>\n      <td>5.500000</td>\n      <td>43.000000</td>\n      <td>41.000000</td>\n      <td>4.000000</td>\n      <td>3.000000</td>\n      <td>10.000000</td>\n      <td>2.000000</td>\n      <td>...</td>\n      <td>15.000000</td>\n      <td>10.000000</td>\n      <td>1.000000</td>\n      <td>0.000000</td>\n      <td>0.000000</td>\n      <td>1.000000</td>\n      <td>0.000000</td>\n      <td>0.000000</td>\n      <td>1.000000</td>\n      <td>2015.000000</td>\n    </tr>\n    <tr>\n      <th>50%</th>\n      <td>6030.500000</td>\n      <td>5.300000</td>\n      <td>6.400000</td>\n      <td>6.100000</td>\n      <td>51.000000</td>\n      <td>49.000000</td>\n      <td>5.000000</td>\n      <td>4.000000</td>\n      <td>13.000000</td>\n      <td>3.000000</td>\n      <td>...</td>\n      <td>22.000000</td>\n      <td>13.000000</td>\n      <td>2.000000</td>\n      <td>0.000000</td>\n      <td>0.000000</td>\n      <td>1.000000</td>\n      <td>1.000000</td>\n      <td>1.000000</td>\n      <td>1.000000</td>\n      <td>2017.000000</td>\n    </tr>\n    <tr>\n      <th>75%</th>\n      <td>9045.750000</td>\n      <td>6.400000</td>\n      <td>7.000000</td>\n      <td>6.800000</td>\n      <td>59.000000</td>\n      <td>57.000000</td>\n      <td>7.000000</td>\n      <td>6.000000</td>\n      <td>17.000000</td>\n      <td>5.000000</td>\n      <td>...</td>\n      <td>29.000000</td>\n      <td>16.000000</td>\n      <td>3.000000</td>\n      <td>0.000000</td>\n      <td>0.000000</td>\n      <td>2.000000</td>\n      <td>2.000000</td>\n      <td>2.000000</td>\n      <td>2.000000</td>\n      <td>2019.000000</td>\n    </tr>\n    <tr>\n      <th>max</th>\n      <td>12061.000000</td>\n      <td>10.000000</td>\n      <td>10.000000</td>\n      <td>10.000000</td>\n      <td>84.000000</td>\n      <td>83.000000</td>\n      <td>20.000000</td>\n      <td>18.000000</td>\n      <td>47.000000</td>\n      <td>19.000000</td>\n      <td>...</td>\n      <td>79.000000</td>\n      <td>32.000000</td>\n      <td>9.000000</td>\n      <td>2.000000</td>\n      <td>2.000000</td>\n      <td>10.000000</td>\n      <td>9.000000</td>\n      <td>9.000000</td>\n      <td>10.000000</td>\n      <td>2020.000000</td>\n    </tr>\n  </tbody>\n</table>\n<p>8 rows × 37 columns</p>\n</div>"
     },
     "execution_count": 76,
     "metadata": {},
     "output_type": "execute_result"
    }
   ],
   "source": [
    "metadata.describe()"
   ]
  },
  {
   "cell_type": "code",
   "execution_count": 77,
   "outputs": [
    {
     "data": {
      "text/plain": "         Unnamed: 0  Match Excitement  Home Team Rating  Away Team Rating  \\\nleague                                                                      \nenglish      1329.5          5.348571          6.476692          6.238797   \nfrench       3936.5          5.207596          6.402388          6.147220   \ngerman       5978.5          5.619542          6.400719          6.161961   \nitalian      8072.5          5.622460          6.350527          6.128066   \nspanish     10731.5          5.249023          6.368684          6.045075   \n\n         Home Team Possession %  Away Team Possession %  \\\nleague                                                    \nenglish               51.321429               48.678571   \nfrench                51.459280               48.540720   \ngerman                51.173856               48.826144   \nitalian               50.500000               49.500000   \nspanish               51.541729               48.458271   \n\n         Home Team Off Target Shots  Home Team On Target Shots  \\\nleague                                                           \nenglish                    5.378947                   4.670677   \nfrench                     5.621770                   4.539546   \ngerman                     5.669935                   4.966013   \nitalian                    6.028593                   4.887133   \nspanish                    5.532707                   4.648496   \n\n         Home Team Total Shots  Home Team Blocked Shots  ...  \\\nleague                                                   ...   \nenglish              13.858271                 3.818045  ...   \nfrench               13.162882                 3.031323  ...   \ngerman               13.909804                 3.287582  ...   \nitalian              14.517306                 3.609105  ...   \nspanish              13.078195                 2.912782  ...   \n\n         Away Team Clearances  Away Team Fouls  Away Team Yellow Cards  \\\nleague                                                                   \nenglish             26.070301        10.986466                1.757143   \nfrench              22.571261        13.348081                1.938528   \ngerman              20.293464        13.250980                1.929412   \nitalian             22.528593        14.142588                2.437547   \nspanish             21.427444        13.770301                2.640977   \n\n         Away Team Second Yellow Cards  Away Team Red Cards  \\\nleague                                                        \nenglish                       0.035338             0.040602   \nfrench                        0.051292             0.090446   \ngerman                        0.049673             0.035294   \nitalian                       0.085403             0.065463   \nspanish                       0.077444             0.048872   \n\n         Home Team Goals Scored  Away Team Goals Scored  \\\nleague                                                    \nenglish                1.504511                1.207143   \nfrench                 1.469460                1.133125   \ngerman                 1.677124                1.339216   \nitalian                1.546652                1.264861   \nspanish                1.517669                1.140977   \n\n         Home Team Goals Conceeded  Away Team Goals Conceeded         year  \nleague                                                                      \nenglish                   1.207143                   1.504511  2017.000000  \nfrench                    1.133125                   1.469460  2016.918168  \ngerman                    1.339216                   1.677124  2018.000000  \nitalian                   1.264861                   1.546652  2016.999248  \nspanish                   1.140977                   1.517669  2017.000000  \n\n[5 rows x 37 columns]",
      "text/html": "<div>\n<style scoped>\n    .dataframe tbody tr th:only-of-type {\n        vertical-align: middle;\n    }\n\n    .dataframe tbody tr th {\n        vertical-align: top;\n    }\n\n    .dataframe thead th {\n        text-align: right;\n    }\n</style>\n<table border=\"1\" class=\"dataframe\">\n  <thead>\n    <tr style=\"text-align: right;\">\n      <th></th>\n      <th>Unnamed: 0</th>\n      <th>Match Excitement</th>\n      <th>Home Team Rating</th>\n      <th>Away Team Rating</th>\n      <th>Home Team Possession %</th>\n      <th>Away Team Possession %</th>\n      <th>Home Team Off Target Shots</th>\n      <th>Home Team On Target Shots</th>\n      <th>Home Team Total Shots</th>\n      <th>Home Team Blocked Shots</th>\n      <th>...</th>\n      <th>Away Team Clearances</th>\n      <th>Away Team Fouls</th>\n      <th>Away Team Yellow Cards</th>\n      <th>Away Team Second Yellow Cards</th>\n      <th>Away Team Red Cards</th>\n      <th>Home Team Goals Scored</th>\n      <th>Away Team Goals Scored</th>\n      <th>Home Team Goals Conceeded</th>\n      <th>Away Team Goals Conceeded</th>\n      <th>year</th>\n    </tr>\n    <tr>\n      <th>league</th>\n      <th></th>\n      <th></th>\n      <th></th>\n      <th></th>\n      <th></th>\n      <th></th>\n      <th></th>\n      <th></th>\n      <th></th>\n      <th></th>\n      <th></th>\n      <th></th>\n      <th></th>\n      <th></th>\n      <th></th>\n      <th></th>\n      <th></th>\n      <th></th>\n      <th></th>\n      <th></th>\n      <th></th>\n    </tr>\n  </thead>\n  <tbody>\n    <tr>\n      <th>english</th>\n      <td>1329.5</td>\n      <td>5.348571</td>\n      <td>6.476692</td>\n      <td>6.238797</td>\n      <td>51.321429</td>\n      <td>48.678571</td>\n      <td>5.378947</td>\n      <td>4.670677</td>\n      <td>13.858271</td>\n      <td>3.818045</td>\n      <td>...</td>\n      <td>26.070301</td>\n      <td>10.986466</td>\n      <td>1.757143</td>\n      <td>0.035338</td>\n      <td>0.040602</td>\n      <td>1.504511</td>\n      <td>1.207143</td>\n      <td>1.207143</td>\n      <td>1.504511</td>\n      <td>2017.000000</td>\n    </tr>\n    <tr>\n      <th>french</th>\n      <td>3936.5</td>\n      <td>5.207596</td>\n      <td>6.402388</td>\n      <td>6.147220</td>\n      <td>51.459280</td>\n      <td>48.540720</td>\n      <td>5.621770</td>\n      <td>4.539546</td>\n      <td>13.162882</td>\n      <td>3.031323</td>\n      <td>...</td>\n      <td>22.571261</td>\n      <td>13.348081</td>\n      <td>1.938528</td>\n      <td>0.051292</td>\n      <td>0.090446</td>\n      <td>1.469460</td>\n      <td>1.133125</td>\n      <td>1.133125</td>\n      <td>1.469460</td>\n      <td>2016.918168</td>\n    </tr>\n    <tr>\n      <th>german</th>\n      <td>5978.5</td>\n      <td>5.619542</td>\n      <td>6.400719</td>\n      <td>6.161961</td>\n      <td>51.173856</td>\n      <td>48.826144</td>\n      <td>5.669935</td>\n      <td>4.966013</td>\n      <td>13.909804</td>\n      <td>3.287582</td>\n      <td>...</td>\n      <td>20.293464</td>\n      <td>13.250980</td>\n      <td>1.929412</td>\n      <td>0.049673</td>\n      <td>0.035294</td>\n      <td>1.677124</td>\n      <td>1.339216</td>\n      <td>1.339216</td>\n      <td>1.677124</td>\n      <td>2018.000000</td>\n    </tr>\n    <tr>\n      <th>italian</th>\n      <td>8072.5</td>\n      <td>5.622460</td>\n      <td>6.350527</td>\n      <td>6.128066</td>\n      <td>50.500000</td>\n      <td>49.500000</td>\n      <td>6.028593</td>\n      <td>4.887133</td>\n      <td>14.517306</td>\n      <td>3.609105</td>\n      <td>...</td>\n      <td>22.528593</td>\n      <td>14.142588</td>\n      <td>2.437547</td>\n      <td>0.085403</td>\n      <td>0.065463</td>\n      <td>1.546652</td>\n      <td>1.264861</td>\n      <td>1.264861</td>\n      <td>1.546652</td>\n      <td>2016.999248</td>\n    </tr>\n    <tr>\n      <th>spanish</th>\n      <td>10731.5</td>\n      <td>5.249023</td>\n      <td>6.368684</td>\n      <td>6.045075</td>\n      <td>51.541729</td>\n      <td>48.458271</td>\n      <td>5.532707</td>\n      <td>4.648496</td>\n      <td>13.078195</td>\n      <td>2.912782</td>\n      <td>...</td>\n      <td>21.427444</td>\n      <td>13.770301</td>\n      <td>2.640977</td>\n      <td>0.077444</td>\n      <td>0.048872</td>\n      <td>1.517669</td>\n      <td>1.140977</td>\n      <td>1.140977</td>\n      <td>1.517669</td>\n      <td>2017.000000</td>\n    </tr>\n  </tbody>\n</table>\n<p>5 rows × 37 columns</p>\n</div>"
     },
     "execution_count": 77,
     "metadata": {},
     "output_type": "execute_result"
    }
   ],
   "source": [
    "leagues = metadata.groupby(by='league')\n",
    "leagues.mean()"
   ],
   "metadata": {
    "collapsed": false,
    "pycharm": {
     "name": "#%%\n"
    }
   }
  },
  {
   "cell_type": "markdown",
   "source": [
    "### Part 3 - Merge the data\n",
    "\n",
    "Now that you have a better feel for each of your two (or three, for the 7394 students) data sets, it is time to merge them. Describe your strategy for merging the data sets and then actually perform the merge.\n",
    "\n",
    "Develop a strategy for verifying that the data is properly merged (hoping and finger-crossing are not valid strategies)."
   ],
   "metadata": {
    "collapsed": false
   }
  },
  {
   "cell_type": "markdown",
   "source": [
    "## Spanish Data Merging\n",
    "#### 2014-2015 season"
   ],
   "metadata": {
    "collapsed": false,
    "pycharm": {
     "name": "#%% md\n"
    }
   }
  },
  {
   "cell_type": "code",
   "execution_count": 78,
   "outputs": [],
   "source": [
    "spanish = leagues.get_group('spanish')\n",
    "spg_by_years = spanish.groupby('year')"
   ],
   "metadata": {
    "collapsed": false,
    "pycharm": {
     "name": "#%%\n"
    }
   }
  },
  {
   "cell_type": "code",
   "execution_count": 79,
   "outputs": [],
   "source": [
    "#2014 dataset merging\n",
    "df2014 = spg_by_years.get_group(2014)\n",
    "dfdates = pd.read_csv('spanish-la-liga_zip/archive/season-1415.csv')\n",
    "dfdates['HomeTeam'] = dfdates['HomeTeam'].str.upper()\n",
    "dfdates['AwayTeam'] = dfdates['AwayTeam'].str.upper()\n",
    "t1 = df2014['Home Team'].unique()\n",
    "t2 = dfdates['HomeTeam'].unique()\n",
    "\n",
    "# dfjoin = pd.merge(dfdates,df2014, left_on=['HomeTeam','AwayTeam'], right_on=['Home Team', 'Away Team'])\n",
    "# dfjoin.head()\n",
    "names = dict()\n",
    "t1.sort()\n",
    "t2.sort()\n",
    "for i in range(len(t1)):\n",
    "    names[t2[i]] = t1[i]\n"
   ],
   "metadata": {
    "collapsed": false,
    "pycharm": {
     "name": "#%%\n"
    }
   }
  },
  {
   "cell_type": "code",
   "execution_count": 80,
   "outputs": [],
   "source": [
    "names['EIBAR'] = 'EIBAR'\n",
    "names['ESPANYOL'] = 'ESPANOL'\n",
    "names['ELCHE'] = 'ELCHE'\n",
    "names['GETAFE'] = 'GETAFE'\n",
    "names['GRANADA'] = 'GRANADA'\n",
    "names['DEPORTIVE'] = 'LA CORUNA'\n",
    "names['RAYO VALLECANO'] = 'VALLECANO'\n",
    "names['REAL MADRID'] = 'REAL MADRID'\n",
    "names['SEVILLA FC'] = 'SEVILLA'\n",
    "names['VALENCIA'] = 'VALENCIA'\n"
   ],
   "metadata": {
    "collapsed": false,
    "pycharm": {
     "name": "#%%\n"
    }
   }
  },
  {
   "cell_type": "code",
   "execution_count": 81,
   "outputs": [
    {
     "name": "stdout",
     "output_type": "stream",
     "text": [
      "{'ALMERIA': 'ALMERÍA', 'ATH BILBAO': 'ATHLETIC', 'ATH MADRID': 'ATLETICO MADRID', 'BARCELONA': 'BARCELONA', 'CELTA': 'CELTA', 'CORDOBA': 'CÓRDOBA', 'EIBAR': 'EIBAR', 'ELCHE': 'ELCHE', 'ESPANOL': 'ELCHE', 'GETAFE': 'GETAFE', 'GRANADA': 'GRANADA', 'LA CORUNA': 'GRANADA', 'LEVANTE': 'LEVANTE', 'MALAGA': 'MÁLAGA', 'REAL MADRID': 'REAL MADRID', 'SEVILLA': 'REAL MADRID', 'SOCIEDAD': 'REAL SOCIEDAD', 'VALENCIA': 'VALENCIA', 'VALLECANO': 'VALENCIA', 'VILLARREAL': 'VILLARREAL', 'ESPANYOL': 'ESPANOL', 'DEPORTIVE': 'LA CORUNA', 'RAYO VALLECANO': 'VALLECANO', 'SEVILLA FC': 'SEVILLA'}\n"
     ]
    }
   ],
   "source": [
    "print(names)"
   ],
   "metadata": {
    "collapsed": false,
    "pycharm": {
     "name": "#%%\n"
    }
   }
  },
  {
   "cell_type": "code",
   "execution_count": 82,
   "outputs": [
    {
     "name": "stdout",
     "output_type": "stream",
     "text": [
      "['ELCHE' 'GRANADA' 'ATHLETIC' 'VALENCIA' 'GETAFE' 'REAL SOCIEDAD'\n",
      " 'VILLARREAL' 'CÓRDOBA' 'ATLETICO MADRID' 'ALMERÍA' 'MÁLAGA' 'LEVANTE'\n",
      " 'EIBAR' 'CELTA' 'REAL MADRID' 'BARCELONA']\n"
     ]
    }
   ],
   "source": [
    "dfdates['HomeTeam'] = dfdates['HomeTeam'].apply(lambda x: names[x])\n",
    "dfdates['AwayTeam'] = dfdates['AwayTeam'].apply(lambda x: names[x])\n",
    "print(dfdates['AwayTeam'].unique())"
   ],
   "metadata": {
    "collapsed": false,
    "pycharm": {
     "name": "#%%\n"
    }
   }
  },
  {
   "cell_type": "code",
   "execution_count": 83,
   "outputs": [
    {
     "data": {
      "text/plain": "      Unnamed: 0   Home Team      Away Team Score Half Time Score  \\\n9402        9402      MÁLAGA       ATHLETIC   1-0             1-0   \n9403        9403  SEVILLA FC       VALENCIA   1-1             1-0   \n9404        9404     GRANADA      DEPORTIVO   2-1             0-1   \n9405        9405     ALMERÍA       ESPANYOL   1-1             0-0   \n9406        9406       EIBAR  REAL SOCIEDAD   1-0             1-0   \n\n      Match Excitement  Home Team Rating  Away Team Rating  \\\n9402               4.4               6.0               5.7   \n9403               4.7               6.5               6.8   \n9404               4.6               7.2               5.9   \n9405               5.6               6.9               5.5   \n9406               3.7               6.5               5.9   \n\n      Home Team Possession %  Away Team Possession %  ...  Away Team Fouls  \\\n9402                      40                      60  ...              9.0   \n9403                      47                      53  ...              8.0   \n9404                      53                      47  ...             26.0   \n9405                      56                      44  ...              9.0   \n9406                      41                      59  ...             14.0   \n\n      Away Team Yellow Cards  Away Team Second Yellow Cards  \\\n9402                     3.0                            0.0   \n9403                     2.0                            0.0   \n9404                     3.0                            0.0   \n9405                     3.0                            1.0   \n9406                     1.0                            0.0   \n\n      Away Team Red Cards  Home Team Goals Scored  Away Team Goals Scored  \\\n9402                  0.0                       1                       0   \n9403                  1.0                       1                       1   \n9404                  0.0                       2                       1   \n9405                  0.0                       1                       1   \n9406                  0.0                       1                       0   \n\n      Home Team Goals Conceeded  Away Team Goals Conceeded  year   league  \n9402                          0                          1  2014  spanish  \n9403                          1                          1  2014  spanish  \n9404                          1                          2  2014  spanish  \n9405                          1                          1  2014  spanish  \n9406                          0                          1  2014  spanish  \n\n[5 rows x 42 columns]",
      "text/html": "<div>\n<style scoped>\n    .dataframe tbody tr th:only-of-type {\n        vertical-align: middle;\n    }\n\n    .dataframe tbody tr th {\n        vertical-align: top;\n    }\n\n    .dataframe thead th {\n        text-align: right;\n    }\n</style>\n<table border=\"1\" class=\"dataframe\">\n  <thead>\n    <tr style=\"text-align: right;\">\n      <th></th>\n      <th>Unnamed: 0</th>\n      <th>Home Team</th>\n      <th>Away Team</th>\n      <th>Score</th>\n      <th>Half Time Score</th>\n      <th>Match Excitement</th>\n      <th>Home Team Rating</th>\n      <th>Away Team Rating</th>\n      <th>Home Team Possession %</th>\n      <th>Away Team Possession %</th>\n      <th>...</th>\n      <th>Away Team Fouls</th>\n      <th>Away Team Yellow Cards</th>\n      <th>Away Team Second Yellow Cards</th>\n      <th>Away Team Red Cards</th>\n      <th>Home Team Goals Scored</th>\n      <th>Away Team Goals Scored</th>\n      <th>Home Team Goals Conceeded</th>\n      <th>Away Team Goals Conceeded</th>\n      <th>year</th>\n      <th>league</th>\n    </tr>\n  </thead>\n  <tbody>\n    <tr>\n      <th>9402</th>\n      <td>9402</td>\n      <td>MÁLAGA</td>\n      <td>ATHLETIC</td>\n      <td>1-0</td>\n      <td>1-0</td>\n      <td>4.4</td>\n      <td>6.0</td>\n      <td>5.7</td>\n      <td>40</td>\n      <td>60</td>\n      <td>...</td>\n      <td>9.0</td>\n      <td>3.0</td>\n      <td>0.0</td>\n      <td>0.0</td>\n      <td>1</td>\n      <td>0</td>\n      <td>0</td>\n      <td>1</td>\n      <td>2014</td>\n      <td>spanish</td>\n    </tr>\n    <tr>\n      <th>9403</th>\n      <td>9403</td>\n      <td>SEVILLA FC</td>\n      <td>VALENCIA</td>\n      <td>1-1</td>\n      <td>1-0</td>\n      <td>4.7</td>\n      <td>6.5</td>\n      <td>6.8</td>\n      <td>47</td>\n      <td>53</td>\n      <td>...</td>\n      <td>8.0</td>\n      <td>2.0</td>\n      <td>0.0</td>\n      <td>1.0</td>\n      <td>1</td>\n      <td>1</td>\n      <td>1</td>\n      <td>1</td>\n      <td>2014</td>\n      <td>spanish</td>\n    </tr>\n    <tr>\n      <th>9404</th>\n      <td>9404</td>\n      <td>GRANADA</td>\n      <td>DEPORTIVO</td>\n      <td>2-1</td>\n      <td>0-1</td>\n      <td>4.6</td>\n      <td>7.2</td>\n      <td>5.9</td>\n      <td>53</td>\n      <td>47</td>\n      <td>...</td>\n      <td>26.0</td>\n      <td>3.0</td>\n      <td>0.0</td>\n      <td>0.0</td>\n      <td>2</td>\n      <td>1</td>\n      <td>1</td>\n      <td>2</td>\n      <td>2014</td>\n      <td>spanish</td>\n    </tr>\n    <tr>\n      <th>9405</th>\n      <td>9405</td>\n      <td>ALMERÍA</td>\n      <td>ESPANYOL</td>\n      <td>1-1</td>\n      <td>0-0</td>\n      <td>5.6</td>\n      <td>6.9</td>\n      <td>5.5</td>\n      <td>56</td>\n      <td>44</td>\n      <td>...</td>\n      <td>9.0</td>\n      <td>3.0</td>\n      <td>1.0</td>\n      <td>0.0</td>\n      <td>1</td>\n      <td>1</td>\n      <td>1</td>\n      <td>1</td>\n      <td>2014</td>\n      <td>spanish</td>\n    </tr>\n    <tr>\n      <th>9406</th>\n      <td>9406</td>\n      <td>EIBAR</td>\n      <td>REAL SOCIEDAD</td>\n      <td>1-0</td>\n      <td>1-0</td>\n      <td>3.7</td>\n      <td>6.5</td>\n      <td>5.9</td>\n      <td>41</td>\n      <td>59</td>\n      <td>...</td>\n      <td>14.0</td>\n      <td>1.0</td>\n      <td>0.0</td>\n      <td>0.0</td>\n      <td>1</td>\n      <td>0</td>\n      <td>0</td>\n      <td>1</td>\n      <td>2014</td>\n      <td>spanish</td>\n    </tr>\n  </tbody>\n</table>\n<p>5 rows × 42 columns</p>\n</div>"
     },
     "execution_count": 83,
     "metadata": {},
     "output_type": "execute_result"
    }
   ],
   "source": [
    "df2014.head()"
   ],
   "metadata": {
    "collapsed": false,
    "pycharm": {
     "name": "#%%\n"
    }
   }
  },
  {
   "cell_type": "code",
   "execution_count": 84,
   "outputs": [
    {
     "data": {
      "text/plain": "   Div      Date     HomeTeam  AwayTeam  FTHG  FTAG FTR  HTHG  HTAG HTR  ...  \\\n0  SP1  23/08/14      ALMERÍA     ELCHE     1     1   D     0     0   D  ...   \n1  SP1  04/10/14      ALMERÍA     ELCHE     2     2   D     1     1   D  ...   \n2  SP1  23/08/14       MÁLAGA  ATHLETIC     1     0   H     1     0   H  ...   \n3  SP1  23/08/14  REAL MADRID  VALENCIA     1     1   D     1     0   H  ...   \n4  SP1  08/11/14  REAL MADRID  VALENCIA     5     1   H     2     1   H  ...   \n\n   Away Team Fouls  Away Team Yellow Cards  Away Team Second Yellow Cards  \\\n0             19.0                     5.0                            1.0   \n1             19.0                     5.0                            1.0   \n2              9.0                     3.0                            0.0   \n3             19.0                     4.0                            0.0   \n4             19.0                     4.0                            0.0   \n\n   Away Team Red Cards  Home Team Goals Scored  Away Team Goals Scored  \\\n0                  0.0                       2                       2   \n1                  0.0                       2                       2   \n2                  0.0                       1                       0   \n3                  0.0                       2                       2   \n4                  0.0                       2                       2   \n\n   Home Team Goals Conceeded  Away Team Goals Conceeded  year   league  \n0                          2                          2  2014  spanish  \n1                          2                          2  2014  spanish  \n2                          0                          1  2014  spanish  \n3                          2                          2  2014  spanish  \n4                          2                          2  2014  spanish  \n\n[5 rows x 109 columns]",
      "text/html": "<div>\n<style scoped>\n    .dataframe tbody tr th:only-of-type {\n        vertical-align: middle;\n    }\n\n    .dataframe tbody tr th {\n        vertical-align: top;\n    }\n\n    .dataframe thead th {\n        text-align: right;\n    }\n</style>\n<table border=\"1\" class=\"dataframe\">\n  <thead>\n    <tr style=\"text-align: right;\">\n      <th></th>\n      <th>Div</th>\n      <th>Date</th>\n      <th>HomeTeam</th>\n      <th>AwayTeam</th>\n      <th>FTHG</th>\n      <th>FTAG</th>\n      <th>FTR</th>\n      <th>HTHG</th>\n      <th>HTAG</th>\n      <th>HTR</th>\n      <th>...</th>\n      <th>Away Team Fouls</th>\n      <th>Away Team Yellow Cards</th>\n      <th>Away Team Second Yellow Cards</th>\n      <th>Away Team Red Cards</th>\n      <th>Home Team Goals Scored</th>\n      <th>Away Team Goals Scored</th>\n      <th>Home Team Goals Conceeded</th>\n      <th>Away Team Goals Conceeded</th>\n      <th>year</th>\n      <th>league</th>\n    </tr>\n  </thead>\n  <tbody>\n    <tr>\n      <th>0</th>\n      <td>SP1</td>\n      <td>23/08/14</td>\n      <td>ALMERÍA</td>\n      <td>ELCHE</td>\n      <td>1</td>\n      <td>1</td>\n      <td>D</td>\n      <td>0</td>\n      <td>0</td>\n      <td>D</td>\n      <td>...</td>\n      <td>19.0</td>\n      <td>5.0</td>\n      <td>1.0</td>\n      <td>0.0</td>\n      <td>2</td>\n      <td>2</td>\n      <td>2</td>\n      <td>2</td>\n      <td>2014</td>\n      <td>spanish</td>\n    </tr>\n    <tr>\n      <th>1</th>\n      <td>SP1</td>\n      <td>04/10/14</td>\n      <td>ALMERÍA</td>\n      <td>ELCHE</td>\n      <td>2</td>\n      <td>2</td>\n      <td>D</td>\n      <td>1</td>\n      <td>1</td>\n      <td>D</td>\n      <td>...</td>\n      <td>19.0</td>\n      <td>5.0</td>\n      <td>1.0</td>\n      <td>0.0</td>\n      <td>2</td>\n      <td>2</td>\n      <td>2</td>\n      <td>2</td>\n      <td>2014</td>\n      <td>spanish</td>\n    </tr>\n    <tr>\n      <th>2</th>\n      <td>SP1</td>\n      <td>23/08/14</td>\n      <td>MÁLAGA</td>\n      <td>ATHLETIC</td>\n      <td>1</td>\n      <td>0</td>\n      <td>H</td>\n      <td>1</td>\n      <td>0</td>\n      <td>H</td>\n      <td>...</td>\n      <td>9.0</td>\n      <td>3.0</td>\n      <td>0.0</td>\n      <td>0.0</td>\n      <td>1</td>\n      <td>0</td>\n      <td>0</td>\n      <td>1</td>\n      <td>2014</td>\n      <td>spanish</td>\n    </tr>\n    <tr>\n      <th>3</th>\n      <td>SP1</td>\n      <td>23/08/14</td>\n      <td>REAL MADRID</td>\n      <td>VALENCIA</td>\n      <td>1</td>\n      <td>1</td>\n      <td>D</td>\n      <td>1</td>\n      <td>0</td>\n      <td>H</td>\n      <td>...</td>\n      <td>19.0</td>\n      <td>4.0</td>\n      <td>0.0</td>\n      <td>0.0</td>\n      <td>2</td>\n      <td>2</td>\n      <td>2</td>\n      <td>2</td>\n      <td>2014</td>\n      <td>spanish</td>\n    </tr>\n    <tr>\n      <th>4</th>\n      <td>SP1</td>\n      <td>08/11/14</td>\n      <td>REAL MADRID</td>\n      <td>VALENCIA</td>\n      <td>5</td>\n      <td>1</td>\n      <td>H</td>\n      <td>2</td>\n      <td>1</td>\n      <td>H</td>\n      <td>...</td>\n      <td>19.0</td>\n      <td>4.0</td>\n      <td>0.0</td>\n      <td>0.0</td>\n      <td>2</td>\n      <td>2</td>\n      <td>2</td>\n      <td>2</td>\n      <td>2014</td>\n      <td>spanish</td>\n    </tr>\n  </tbody>\n</table>\n<p>5 rows × 109 columns</p>\n</div>"
     },
     "execution_count": 84,
     "metadata": {},
     "output_type": "execute_result"
    }
   ],
   "source": [
    "sp2014combo = pd.merge(dfdates, df2014, left_on=['HomeTeam','AwayTeam'], right_on=['Home Team', 'Away Team'])\n",
    "sp2014combo.head()"
   ],
   "metadata": {
    "collapsed": false,
    "pycharm": {
     "name": "#%%\n"
    }
   }
  },
  {
   "cell_type": "markdown",
   "source": [
    "#### 2015-2016 season"
   ],
   "metadata": {
    "collapsed": false,
    "pycharm": {
     "name": "#%% md\n"
    }
   }
  },
  {
   "cell_type": "code",
   "execution_count": 85,
   "outputs": [
    {
     "name": "stdout",
     "output_type": "stream",
     "text": [
      "ATH BILBAO--ATHLETIC\n",
      "ATH MADRID--ATLETICO MADRID\n",
      "BARCELONA--BARCELONA\n",
      "BETIS--CELTA\n",
      "CELTA--DEPORTIVO\n",
      "EIBAR--EIBAR\n",
      "ESPANOL--ESPANYOL\n",
      "GETAFE--GETAFE\n",
      "GRANADA--GIJÓN\n",
      "LA CORUNA--GRANADA\n",
      "LAS PALMAS--LAS PALMAS\n",
      "LEVANTE--LEVANTE\n",
      "MALAGA--MÁLAGA\n",
      "REAL MADRID--RAYO VALLECANO\n",
      "SEVILLA--REAL BETIS\n",
      "SOCIEDAD--REAL MADRID\n",
      "SP GIJON--REAL SOCIEDAD\n",
      "VALENCIA--SEVILLA FC\n",
      "VALLECANO--VALENCIA\n",
      "VILLARREAL--VILLARREAL\n"
     ]
    }
   ],
   "source": [
    "#2015 dataset merging\n",
    "df2015 = spg_by_years.get_group(2015)\n",
    "dfdates = pd.read_csv('spanish-la-liga_zip/archive/season-1516.csv')\n",
    "dfdates['HomeTeam'] = dfdates['HomeTeam'].str.upper()\n",
    "dfdates['AwayTeam'] = dfdates['AwayTeam'].str.upper()\n",
    "t1 = df2015['Home Team'].unique()\n",
    "t2 = dfdates['HomeTeam'].unique()\n",
    "\n",
    "names = dict()\n",
    "t1.sort()\n",
    "t2.sort()\n",
    "for i in range(len(t1)):\n",
    "    print(t2[i] + '--' + t1[i])\n",
    "    names[t2[i]] = t1[i]"
   ],
   "metadata": {
    "collapsed": false,
    "pycharm": {
     "name": "#%%\n"
    }
   }
  },
  {
   "cell_type": "code",
   "execution_count": 86,
   "outputs": [
    {
     "name": "stdout",
     "output_type": "stream",
     "text": [
      "{'ATH BILBAO': 'ATHLETIC', 'ATH MADRID': 'ATLETICO MADRID', 'BARCELONA': 'BARCELONA', 'BETIS': 'REAL BETIS', 'CELTA': 'CELTA', 'EIBAR': 'EIBAR', 'ESPANOL': 'ESPANYOL', 'GETAFE': 'GETAFE', 'GRANADA': 'GRANADA', 'LA CORUNA': 'DEPORTIVO', 'LAS PALMAS': 'LAS PALMAS', 'LEVANTE': 'LEVANTE', 'MALAGA': 'MÁLAGA', 'REAL MADRID': 'REAL MADRID', 'SEVILLA': 'SEVILLA FC', 'SOCIEDAD': 'REAL SOCIEDAD', 'SP GIJON': 'GIJÓN', 'VALENCIA': 'VALENCIA', 'VALLECANO': 'RAYO VALLECANO', 'VILLARREAL': 'VILLARREAL'}\n"
     ]
    }
   ],
   "source": [
    "names['BETIS'] = 'REAL BETIS'\n",
    "names['GRANADA'] = 'GRANADA'\n",
    "names['LA CORUNA'] = 'DEPORTIVO'\n",
    "names['CELTA'] = 'CELTA'\n",
    "names['GRANADA'] = 'GRANADA'\n",
    "names['REAL MADRID'] = 'REAL MADRID'\n",
    "names['SEVILLA'] = 'SEVILLA FC'\n",
    "names['SOCIEDAD'] = 'REAL SOCIEDAD'\n",
    "names['SP GIJON'] = 'GIJÓN'\n",
    "names['VALENCIA'] = 'VALENCIA'\n",
    "names['VALLECANO'] = 'RAYO VALLECANO'\n",
    "print(names)"
   ],
   "metadata": {
    "collapsed": false,
    "pycharm": {
     "name": "#%%\n"
    }
   }
  },
  {
   "cell_type": "code",
   "execution_count": 87,
   "outputs": [
    {
     "name": "stdout",
     "output_type": "stream",
     "text": [
      "['SEVILLA FC' 'LAS PALMAS' 'GETAFE' 'REAL SOCIEDAD' 'VALENCIA' 'BARCELONA'\n",
      " 'VILLARREAL' 'CELTA' 'REAL MADRID' 'EIBAR' 'ESPANYOL' 'MÁLAGA'\n",
      " 'RAYO VALLECANO' 'REAL BETIS' 'GIJÓN' 'ATHLETIC' 'GRANADA' 'LEVANTE'\n",
      " 'ATLETICO MADRID' 'DEPORTIVO']\n"
     ]
    }
   ],
   "source": [
    "dfdates['HomeTeam'] = dfdates['HomeTeam'].apply(lambda x: names[x])\n",
    "dfdates['AwayTeam'] = dfdates['AwayTeam'].apply(lambda x: names[x])\n",
    "print(dfdates['AwayTeam'].unique())"
   ],
   "metadata": {
    "collapsed": false,
    "pycharm": {
     "name": "#%%\n"
    }
   }
  },
  {
   "cell_type": "code",
   "execution_count": 88,
   "outputs": [
    {
     "data": {
      "text/plain": "   Div      Date         HomeTeam       AwayTeam  FTHG  FTAG FTR  HTHG  HTAG  \\\n0  SP1  21/08/15           MÁLAGA     SEVILLA FC     0     0   D     0     0   \n1  SP1  22/08/15  ATLETICO MADRID     LAS PALMAS     1     0   H     1     0   \n2  SP1  22/08/15         ESPANYOL         GETAFE     1     0   H     1     0   \n3  SP1  22/08/15        DEPORTIVO  REAL SOCIEDAD     0     0   D     0     0   \n4  SP1  22/08/15   RAYO VALLECANO       VALENCIA     0     0   D     0     0   \n\n  HTR  ...  Away Team Fouls  Away Team Yellow Cards  \\\n0   D  ...             11.0                     4.0   \n1   H  ...             16.0                     0.0   \n2   H  ...             14.0                     4.0   \n3   D  ...             10.0                     2.0   \n4   D  ...             11.0                     1.0   \n\n   Away Team Second Yellow Cards  Away Team Red Cards  Home Team Goals Scored  \\\n0                            1.0                  0.0                       0   \n1                            0.0                  0.0                       1   \n2                            1.0                  0.0                       1   \n3                            0.0                  0.0                       0   \n4                            0.0                  0.0                       0   \n\n   Away Team Goals Scored  Home Team Goals Conceeded  \\\n0                       0                          0   \n1                       0                          0   \n2                       0                          0   \n3                       0                          0   \n4                       0                          0   \n\n   Away Team Goals Conceeded  year   league  \n0                          0  2015  spanish  \n1                          1  2015  spanish  \n2                          1  2015  spanish  \n3                          0  2015  spanish  \n4                          0  2015  spanish  \n\n[5 rows x 106 columns]",
      "text/html": "<div>\n<style scoped>\n    .dataframe tbody tr th:only-of-type {\n        vertical-align: middle;\n    }\n\n    .dataframe tbody tr th {\n        vertical-align: top;\n    }\n\n    .dataframe thead th {\n        text-align: right;\n    }\n</style>\n<table border=\"1\" class=\"dataframe\">\n  <thead>\n    <tr style=\"text-align: right;\">\n      <th></th>\n      <th>Div</th>\n      <th>Date</th>\n      <th>HomeTeam</th>\n      <th>AwayTeam</th>\n      <th>FTHG</th>\n      <th>FTAG</th>\n      <th>FTR</th>\n      <th>HTHG</th>\n      <th>HTAG</th>\n      <th>HTR</th>\n      <th>...</th>\n      <th>Away Team Fouls</th>\n      <th>Away Team Yellow Cards</th>\n      <th>Away Team Second Yellow Cards</th>\n      <th>Away Team Red Cards</th>\n      <th>Home Team Goals Scored</th>\n      <th>Away Team Goals Scored</th>\n      <th>Home Team Goals Conceeded</th>\n      <th>Away Team Goals Conceeded</th>\n      <th>year</th>\n      <th>league</th>\n    </tr>\n  </thead>\n  <tbody>\n    <tr>\n      <th>0</th>\n      <td>SP1</td>\n      <td>21/08/15</td>\n      <td>MÁLAGA</td>\n      <td>SEVILLA FC</td>\n      <td>0</td>\n      <td>0</td>\n      <td>D</td>\n      <td>0</td>\n      <td>0</td>\n      <td>D</td>\n      <td>...</td>\n      <td>11.0</td>\n      <td>4.0</td>\n      <td>1.0</td>\n      <td>0.0</td>\n      <td>0</td>\n      <td>0</td>\n      <td>0</td>\n      <td>0</td>\n      <td>2015</td>\n      <td>spanish</td>\n    </tr>\n    <tr>\n      <th>1</th>\n      <td>SP1</td>\n      <td>22/08/15</td>\n      <td>ATLETICO MADRID</td>\n      <td>LAS PALMAS</td>\n      <td>1</td>\n      <td>0</td>\n      <td>H</td>\n      <td>1</td>\n      <td>0</td>\n      <td>H</td>\n      <td>...</td>\n      <td>16.0</td>\n      <td>0.0</td>\n      <td>0.0</td>\n      <td>0.0</td>\n      <td>1</td>\n      <td>0</td>\n      <td>0</td>\n      <td>1</td>\n      <td>2015</td>\n      <td>spanish</td>\n    </tr>\n    <tr>\n      <th>2</th>\n      <td>SP1</td>\n      <td>22/08/15</td>\n      <td>ESPANYOL</td>\n      <td>GETAFE</td>\n      <td>1</td>\n      <td>0</td>\n      <td>H</td>\n      <td>1</td>\n      <td>0</td>\n      <td>H</td>\n      <td>...</td>\n      <td>14.0</td>\n      <td>4.0</td>\n      <td>1.0</td>\n      <td>0.0</td>\n      <td>1</td>\n      <td>0</td>\n      <td>0</td>\n      <td>1</td>\n      <td>2015</td>\n      <td>spanish</td>\n    </tr>\n    <tr>\n      <th>3</th>\n      <td>SP1</td>\n      <td>22/08/15</td>\n      <td>DEPORTIVO</td>\n      <td>REAL SOCIEDAD</td>\n      <td>0</td>\n      <td>0</td>\n      <td>D</td>\n      <td>0</td>\n      <td>0</td>\n      <td>D</td>\n      <td>...</td>\n      <td>10.0</td>\n      <td>2.0</td>\n      <td>0.0</td>\n      <td>0.0</td>\n      <td>0</td>\n      <td>0</td>\n      <td>0</td>\n      <td>0</td>\n      <td>2015</td>\n      <td>spanish</td>\n    </tr>\n    <tr>\n      <th>4</th>\n      <td>SP1</td>\n      <td>22/08/15</td>\n      <td>RAYO VALLECANO</td>\n      <td>VALENCIA</td>\n      <td>0</td>\n      <td>0</td>\n      <td>D</td>\n      <td>0</td>\n      <td>0</td>\n      <td>D</td>\n      <td>...</td>\n      <td>11.0</td>\n      <td>1.0</td>\n      <td>0.0</td>\n      <td>0.0</td>\n      <td>0</td>\n      <td>0</td>\n      <td>0</td>\n      <td>0</td>\n      <td>2015</td>\n      <td>spanish</td>\n    </tr>\n  </tbody>\n</table>\n<p>5 rows × 106 columns</p>\n</div>"
     },
     "execution_count": 88,
     "metadata": {},
     "output_type": "execute_result"
    }
   ],
   "source": [
    "sp2015combo = pd.merge(dfdates, df2015, left_on=['HomeTeam','AwayTeam'], right_on=['Home Team', 'Away Team'])\n",
    "sp2015combo.head()"
   ],
   "metadata": {
    "collapsed": false,
    "pycharm": {
     "name": "#%%\n"
    }
   }
  },
  {
   "cell_type": "markdown",
   "source": [
    "#### 2016-2017 season"
   ],
   "metadata": {
    "collapsed": false,
    "pycharm": {
     "name": "#%% md\n"
    }
   }
  },
  {
   "cell_type": "code",
   "execution_count": 89,
   "outputs": [
    {
     "name": "stdout",
     "output_type": "stream",
     "text": [
      "ALAVES--ALAVÉS\n",
      "ATH BILBAO--ATHLETIC\n",
      "ATH MADRID--ATLETICO MADRID\n",
      "BARCELONA--BARCELONA\n",
      "BETIS--CELTA\n",
      "CELTA--DEPORTIVO\n",
      "EIBAR--EIBAR\n",
      "ESPANOL--ESPANYOL\n",
      "GRANADA--GIJÓN\n",
      "LA CORUNA--GRANADA\n",
      "LAS PALMAS--LAS PALMAS\n",
      "LEGANES--LEGANÉS\n",
      "MALAGA--MÁLAGA\n",
      "OSASUNA--OSASUNA\n",
      "REAL MADRID--REAL BETIS\n",
      "SEVILLA--REAL MADRID\n",
      "SOCIEDAD--REAL SOCIEDAD\n",
      "SP GIJON--SEVILLA FC\n",
      "VALENCIA--VALENCIA\n",
      "VILLARREAL--VILLARREAL\n"
     ]
    }
   ],
   "source": [
    "#2016 dataset merging\n",
    "df2016 = spg_by_years.get_group(2016)\n",
    "dfdates = pd.read_csv('spanish-la-liga_zip/archive/season-1617.csv')\n",
    "dfdates['HomeTeam'] = dfdates['HomeTeam'].str.upper()\n",
    "dfdates['AwayTeam'] = dfdates['AwayTeam'].str.upper()\n",
    "t1 = df2016['Home Team'].unique()\n",
    "t2 = dfdates['HomeTeam'].unique()\n",
    "\n",
    "names = dict()\n",
    "t1.sort()\n",
    "t2.sort()\n",
    "for i in range(len(t1)):\n",
    "    print(t2[i] + '--' + t1[i])\n",
    "    names[t2[i]] = t1[i]"
   ],
   "metadata": {
    "collapsed": false,
    "pycharm": {
     "name": "#%%\n"
    }
   }
  },
  {
   "cell_type": "code",
   "execution_count": 90,
   "outputs": [
    {
     "name": "stdout",
     "output_type": "stream",
     "text": [
      "{'ALAVES': 'ALAVÉS', 'ATH BILBAO': 'ATHLETIC', 'ATH MADRID': 'ATLETICO MADRID', 'BARCELONA': 'BARCELONA', 'BETIS': 'REAL BETIS', 'CELTA': 'CELTA', 'EIBAR': 'EIBAR', 'ESPANOL': 'ESPANYOL', 'GRANADA': 'GRANADA', 'LA CORUNA': 'DEPORTIVO', 'LAS PALMAS': 'LAS PALMAS', 'LEGANES': 'LEGANÉS', 'MALAGA': 'MÁLAGA', 'OSASUNA': 'OSASUNA', 'REAL MADRID': 'REAL MADRID', 'SEVILLA': 'SEVILLA FC', 'SOCIEDAD': 'REAL SOCIEDAD', 'SP GIJON': 'GIJÓN', 'VALENCIA': 'VALENCIA', 'VILLARREAL': 'VILLARREAL'}\n"
     ]
    }
   ],
   "source": [
    "names['BETIS'] = 'REAL BETIS'\n",
    "names['CELTA'] = 'CELTA'\n",
    "names['LA CORUNA'] = 'DEPORTIVO'\n",
    "names['GRANADA'] = 'GRANADA'\n",
    "names['SP GIJON'] = 'GIJÓN'\n",
    "names['REAL MADRID'] = 'REAL MADRID'\n",
    "names['SEVILLA'] = 'SEVILLA FC'\n",
    "names['GRANADA'] = 'GRANADA'\n",
    "\n",
    "\n",
    "names['SOCIEDAD'] = 'REAL SOCIEDAD'\n",
    "\n",
    "names['VALENCIA'] = 'VALENCIA'\n",
    "print(names)"
   ],
   "metadata": {
    "collapsed": false,
    "pycharm": {
     "name": "#%%\n"
    }
   }
  },
  {
   "cell_type": "code",
   "execution_count": 91,
   "outputs": [
    {
     "name": "stdout",
     "output_type": "stream",
     "text": [
      "['EIBAR' 'OSASUNA' 'REAL BETIS' 'VILLARREAL' 'ESPANYOL' 'ALAVÉS'\n",
      " 'REAL MADRID' 'ATHLETIC' 'LEGANÉS' 'LAS PALMAS' 'DEPORTIVO' 'MÁLAGA'\n",
      " 'VALENCIA' 'ATLETICO MADRID' 'REAL SOCIEDAD' 'CELTA' 'GIJÓN' 'BARCELONA'\n",
      " 'GRANADA' 'SEVILLA FC']\n"
     ]
    }
   ],
   "source": [
    "dfdates['HomeTeam'] = dfdates['HomeTeam'].apply(lambda x: names[x])\n",
    "dfdates['AwayTeam'] = dfdates['AwayTeam'].apply(lambda x: names[x])\n",
    "print(dfdates['AwayTeam'].unique())"
   ],
   "metadata": {
    "collapsed": false,
    "pycharm": {
     "name": "#%%\n"
    }
   }
  },
  {
   "cell_type": "code",
   "execution_count": 92,
   "outputs": [
    {
     "data": {
      "text/plain": "   Div      Date    HomeTeam    AwayTeam  FTHG  FTAG FTR  HTHG  HTAG HTR  ...  \\\n0  SP1  19/08/16   DEPORTIVO       EIBAR     2     1   H     0     0   D  ...   \n1  SP1  19/08/16      MÁLAGA     OSASUNA     1     1   D     0     0   D  ...   \n2  SP1  20/08/16   BARCELONA  REAL BETIS     6     2   H     3     1   H  ...   \n3  SP1  20/08/16     GRANADA  VILLARREAL     1     1   D     0     0   D  ...   \n4  SP1  20/08/16  SEVILLA FC    ESPANYOL     6     4   H     3     3   D  ...   \n\n   Away Team Fouls  Away Team Yellow Cards  Away Team Second Yellow Cards  \\\n0             18.0                     3.0                            0.0   \n1             23.0                     3.0                            0.0   \n2             13.0                     3.0                            0.0   \n3             11.0                     3.0                            0.0   \n4             15.0                     2.0                            0.0   \n\n   Away Team Red Cards  Home Team Goals Scored  Away Team Goals Scored  \\\n0                  0.0                       2                       1   \n1                  0.0                       1                       1   \n2                  0.0                       6                       2   \n3                  0.0                       1                       1   \n4                  0.0                       6                       4   \n\n   Home Team Goals Conceeded  Away Team Goals Conceeded  year   league  \n0                          1                          2  2016  spanish  \n1                          1                          1  2016  spanish  \n2                          2                          6  2016  spanish  \n3                          1                          1  2016  spanish  \n4                          4                          6  2016  spanish  \n\n[5 rows x 106 columns]",
      "text/html": "<div>\n<style scoped>\n    .dataframe tbody tr th:only-of-type {\n        vertical-align: middle;\n    }\n\n    .dataframe tbody tr th {\n        vertical-align: top;\n    }\n\n    .dataframe thead th {\n        text-align: right;\n    }\n</style>\n<table border=\"1\" class=\"dataframe\">\n  <thead>\n    <tr style=\"text-align: right;\">\n      <th></th>\n      <th>Div</th>\n      <th>Date</th>\n      <th>HomeTeam</th>\n      <th>AwayTeam</th>\n      <th>FTHG</th>\n      <th>FTAG</th>\n      <th>FTR</th>\n      <th>HTHG</th>\n      <th>HTAG</th>\n      <th>HTR</th>\n      <th>...</th>\n      <th>Away Team Fouls</th>\n      <th>Away Team Yellow Cards</th>\n      <th>Away Team Second Yellow Cards</th>\n      <th>Away Team Red Cards</th>\n      <th>Home Team Goals Scored</th>\n      <th>Away Team Goals Scored</th>\n      <th>Home Team Goals Conceeded</th>\n      <th>Away Team Goals Conceeded</th>\n      <th>year</th>\n      <th>league</th>\n    </tr>\n  </thead>\n  <tbody>\n    <tr>\n      <th>0</th>\n      <td>SP1</td>\n      <td>19/08/16</td>\n      <td>DEPORTIVO</td>\n      <td>EIBAR</td>\n      <td>2</td>\n      <td>1</td>\n      <td>H</td>\n      <td>0</td>\n      <td>0</td>\n      <td>D</td>\n      <td>...</td>\n      <td>18.0</td>\n      <td>3.0</td>\n      <td>0.0</td>\n      <td>0.0</td>\n      <td>2</td>\n      <td>1</td>\n      <td>1</td>\n      <td>2</td>\n      <td>2016</td>\n      <td>spanish</td>\n    </tr>\n    <tr>\n      <th>1</th>\n      <td>SP1</td>\n      <td>19/08/16</td>\n      <td>MÁLAGA</td>\n      <td>OSASUNA</td>\n      <td>1</td>\n      <td>1</td>\n      <td>D</td>\n      <td>0</td>\n      <td>0</td>\n      <td>D</td>\n      <td>...</td>\n      <td>23.0</td>\n      <td>3.0</td>\n      <td>0.0</td>\n      <td>0.0</td>\n      <td>1</td>\n      <td>1</td>\n      <td>1</td>\n      <td>1</td>\n      <td>2016</td>\n      <td>spanish</td>\n    </tr>\n    <tr>\n      <th>2</th>\n      <td>SP1</td>\n      <td>20/08/16</td>\n      <td>BARCELONA</td>\n      <td>REAL BETIS</td>\n      <td>6</td>\n      <td>2</td>\n      <td>H</td>\n      <td>3</td>\n      <td>1</td>\n      <td>H</td>\n      <td>...</td>\n      <td>13.0</td>\n      <td>3.0</td>\n      <td>0.0</td>\n      <td>0.0</td>\n      <td>6</td>\n      <td>2</td>\n      <td>2</td>\n      <td>6</td>\n      <td>2016</td>\n      <td>spanish</td>\n    </tr>\n    <tr>\n      <th>3</th>\n      <td>SP1</td>\n      <td>20/08/16</td>\n      <td>GRANADA</td>\n      <td>VILLARREAL</td>\n      <td>1</td>\n      <td>1</td>\n      <td>D</td>\n      <td>0</td>\n      <td>0</td>\n      <td>D</td>\n      <td>...</td>\n      <td>11.0</td>\n      <td>3.0</td>\n      <td>0.0</td>\n      <td>0.0</td>\n      <td>1</td>\n      <td>1</td>\n      <td>1</td>\n      <td>1</td>\n      <td>2016</td>\n      <td>spanish</td>\n    </tr>\n    <tr>\n      <th>4</th>\n      <td>SP1</td>\n      <td>20/08/16</td>\n      <td>SEVILLA FC</td>\n      <td>ESPANYOL</td>\n      <td>6</td>\n      <td>4</td>\n      <td>H</td>\n      <td>3</td>\n      <td>3</td>\n      <td>D</td>\n      <td>...</td>\n      <td>15.0</td>\n      <td>2.0</td>\n      <td>0.0</td>\n      <td>0.0</td>\n      <td>6</td>\n      <td>4</td>\n      <td>4</td>\n      <td>6</td>\n      <td>2016</td>\n      <td>spanish</td>\n    </tr>\n  </tbody>\n</table>\n<p>5 rows × 106 columns</p>\n</div>"
     },
     "execution_count": 92,
     "metadata": {},
     "output_type": "execute_result"
    }
   ],
   "source": [
    "sp2016combo = pd.merge(dfdates, df2016, left_on=['HomeTeam','AwayTeam'], right_on=['Home Team', 'Away Team'])\n",
    "sp2016combo.head()"
   ],
   "metadata": {
    "collapsed": false,
    "pycharm": {
     "name": "#%%\n"
    }
   }
  },
  {
   "cell_type": "markdown",
   "source": [
    "#### 2017-2018 season"
   ],
   "metadata": {
    "collapsed": false,
    "pycharm": {
     "name": "#%% md\n"
    }
   }
  },
  {
   "cell_type": "code",
   "execution_count": 93,
   "outputs": [
    {
     "name": "stdout",
     "output_type": "stream",
     "text": [
      "ALAVES--ALAVÉS\n",
      "ATH BILBAO--ATHLETIC\n",
      "ATH MADRID--ATLETICO MADRID\n",
      "BARCELONA--BARCELONA\n",
      "BETIS--CELTA\n",
      "CELTA--DEPORTIVO\n",
      "EIBAR--EIBAR\n",
      "ESPANOL--ESPANYOL\n",
      "GETAFE--GETAFE\n",
      "GIRONA--GIRONA\n",
      "LA CORUNA--LAS PALMAS\n",
      "LAS PALMAS--LEGANÉS\n",
      "LEGANES--LEVANTE\n",
      "LEVANTE--MÁLAGA\n",
      "MALAGA--REAL BETIS\n",
      "REAL MADRID--REAL MADRID\n",
      "SEVILLA--REAL SOCIEDAD\n",
      "SOCIEDAD--SEVILLA FC\n",
      "VALENCIA--VALENCIA\n",
      "VILLARREAL--VILLARREAL\n"
     ]
    }
   ],
   "source": [
    "#2017 dataset merging\n",
    "df2017 = spg_by_years.get_group(2017)\n",
    "dfdates = pd.read_csv('spanish-la-liga_zip/archive/season-1718.csv')\n",
    "dfdates['HomeTeam'] = dfdates['HomeTeam'].str.upper()\n",
    "dfdates['AwayTeam'] = dfdates['AwayTeam'].str.upper()\n",
    "t1 = df2017['Home Team'].unique()\n",
    "t2 = dfdates['HomeTeam'].unique()\n",
    "\n",
    "names = dict()\n",
    "t1.sort()\n",
    "t2.sort()\n",
    "for i in range(len(t1)):\n",
    "    print(t2[i] + '--' + t1[i])\n",
    "    names[t2[i]] = t1[i]"
   ],
   "metadata": {
    "collapsed": false,
    "pycharm": {
     "name": "#%%\n"
    }
   }
  },
  {
   "cell_type": "code",
   "execution_count": 94,
   "outputs": [
    {
     "name": "stdout",
     "output_type": "stream",
     "text": [
      "{'ALAVES': 'ALAVÉS', 'ATH BILBAO': 'ATHLETIC', 'ATH MADRID': 'ATLETICO MADRID', 'BARCELONA': 'BARCELONA', 'BETIS': 'REAL BETIS', 'CELTA': 'CELTA', 'EIBAR': 'EIBAR', 'ESPANOL': 'ESPANYOL', 'GETAFE': 'GETAFE', 'GIRONA': 'GIRONA', 'LA CORUNA': 'DEPORTIVO', 'LAS PALMAS': 'LAS PALMAS', 'LEGANES': 'LEGANÉS', 'LEVANTE': 'LEVANTE', 'MALAGA': 'MÁLAGA', 'REAL MADRID': 'REAL MADRID', 'SEVILLA': 'SEVILLA FC', 'SOCIEDAD': 'REAL SOCIEDAD', 'VALENCIA': 'VALENCIA', 'VILLARREAL': 'VILLARREAL', 'GRANADA': 'GRANADA', 'SP GIJON': 'GIJÓN'}\n"
     ]
    }
   ],
   "source": [
    "names['BETIS'] = 'REAL BETIS'\n",
    "names['CELTA'] = 'CELTA'\n",
    "names['LA CORUNA'] = 'DEPORTIVO'\n",
    "names['GRANADA'] = 'GRANADA'\n",
    "names['SP GIJON'] = 'GIJÓN'\n",
    "names['LAS PALMAS']= 'LAS PALMAS'\n",
    "names['LEGANES'] = 'LEGANÉS'\n",
    "names['LEVANTE'] = 'LEVANTE'\n",
    "names['MALAGA'] = 'MÁLAGA'\n",
    "names['SEVILLA'] = 'SEVILLA FC'\n",
    "names['SOCIEDAD'] = 'REAL SOCIEDAD'\n",
    "print(names)"
   ],
   "metadata": {
    "collapsed": false,
    "pycharm": {
     "name": "#%%\n"
    }
   }
  },
  {
   "cell_type": "code",
   "execution_count": 95,
   "outputs": [
    {
     "name": "stdout",
     "output_type": "stream",
     "text": [
      "['ALAVÉS' 'LAS PALMAS' 'REAL SOCIEDAD' 'ATLETICO MADRID' 'ESPANYOL'\n",
      " 'GETAFE' 'REAL BETIS' 'REAL MADRID' 'VILLARREAL' 'EIBAR' 'CELTA'\n",
      " 'BARCELONA' 'MÁLAGA' 'DEPORTIVO' 'ATHLETIC' 'LEGANÉS' 'SEVILLA FC'\n",
      " 'VALENCIA' 'LEVANTE' 'GIRONA']\n"
     ]
    }
   ],
   "source": [
    "dfdates['HomeTeam'] = dfdates['HomeTeam'].apply(lambda x: names[x])\n",
    "dfdates['AwayTeam'] = dfdates['AwayTeam'].apply(lambda x: names[x])\n",
    "print(dfdates['AwayTeam'].unique())"
   ],
   "metadata": {
    "collapsed": false,
    "pycharm": {
     "name": "#%%\n"
    }
   }
  },
  {
   "cell_type": "code",
   "execution_count": 96,
   "outputs": [
    {
     "data": {
      "text/plain": "   Div      Date    HomeTeam         AwayTeam  FTHG  FTAG FTR  HTHG  HTAG HTR  \\\n0  SP1  18/08/17     LEGANÉS           ALAVÉS     1     0   H     1     0   H   \n1  SP1  18/08/17    VALENCIA       LAS PALMAS     1     0   H     1     0   H   \n2  SP1  19/08/17       CELTA    REAL SOCIEDAD     2     3   A     1     1   D   \n3  SP1  19/08/17      GIRONA  ATLETICO MADRID     2     2   D     2     0   H   \n4  SP1  19/08/17  SEVILLA FC         ESPANYOL     1     1   D     1     1   D   \n\n   ...  Away Team Fouls  Away Team Yellow Cards  \\\n0  ...             17.0                     1.0   \n1  ...             13.0                     3.0   \n2  ...             11.0                     1.0   \n3  ...             15.0                     4.0   \n4  ...             12.0                     4.0   \n\n   Away Team Second Yellow Cards  Away Team Red Cards  Home Team Goals Scored  \\\n0                            0.0                  0.0                       1   \n1                            0.0                  1.0                       1   \n2                            0.0                  0.0                       2   \n3                            0.0                  1.0                       2   \n4                            0.0                  0.0                       1   \n\n   Away Team Goals Scored  Home Team Goals Conceeded  \\\n0                       0                          0   \n1                       0                          0   \n2                       3                          3   \n3                       2                          2   \n4                       1                          1   \n\n   Away Team Goals Conceeded  year   league  \n0                          1  2017  spanish  \n1                          1  2017  spanish  \n2                          2  2017  spanish  \n3                          2  2017  spanish  \n4                          1  2017  spanish  \n\n[5 rows x 106 columns]",
      "text/html": "<div>\n<style scoped>\n    .dataframe tbody tr th:only-of-type {\n        vertical-align: middle;\n    }\n\n    .dataframe tbody tr th {\n        vertical-align: top;\n    }\n\n    .dataframe thead th {\n        text-align: right;\n    }\n</style>\n<table border=\"1\" class=\"dataframe\">\n  <thead>\n    <tr style=\"text-align: right;\">\n      <th></th>\n      <th>Div</th>\n      <th>Date</th>\n      <th>HomeTeam</th>\n      <th>AwayTeam</th>\n      <th>FTHG</th>\n      <th>FTAG</th>\n      <th>FTR</th>\n      <th>HTHG</th>\n      <th>HTAG</th>\n      <th>HTR</th>\n      <th>...</th>\n      <th>Away Team Fouls</th>\n      <th>Away Team Yellow Cards</th>\n      <th>Away Team Second Yellow Cards</th>\n      <th>Away Team Red Cards</th>\n      <th>Home Team Goals Scored</th>\n      <th>Away Team Goals Scored</th>\n      <th>Home Team Goals Conceeded</th>\n      <th>Away Team Goals Conceeded</th>\n      <th>year</th>\n      <th>league</th>\n    </tr>\n  </thead>\n  <tbody>\n    <tr>\n      <th>0</th>\n      <td>SP1</td>\n      <td>18/08/17</td>\n      <td>LEGANÉS</td>\n      <td>ALAVÉS</td>\n      <td>1</td>\n      <td>0</td>\n      <td>H</td>\n      <td>1</td>\n      <td>0</td>\n      <td>H</td>\n      <td>...</td>\n      <td>17.0</td>\n      <td>1.0</td>\n      <td>0.0</td>\n      <td>0.0</td>\n      <td>1</td>\n      <td>0</td>\n      <td>0</td>\n      <td>1</td>\n      <td>2017</td>\n      <td>spanish</td>\n    </tr>\n    <tr>\n      <th>1</th>\n      <td>SP1</td>\n      <td>18/08/17</td>\n      <td>VALENCIA</td>\n      <td>LAS PALMAS</td>\n      <td>1</td>\n      <td>0</td>\n      <td>H</td>\n      <td>1</td>\n      <td>0</td>\n      <td>H</td>\n      <td>...</td>\n      <td>13.0</td>\n      <td>3.0</td>\n      <td>0.0</td>\n      <td>1.0</td>\n      <td>1</td>\n      <td>0</td>\n      <td>0</td>\n      <td>1</td>\n      <td>2017</td>\n      <td>spanish</td>\n    </tr>\n    <tr>\n      <th>2</th>\n      <td>SP1</td>\n      <td>19/08/17</td>\n      <td>CELTA</td>\n      <td>REAL SOCIEDAD</td>\n      <td>2</td>\n      <td>3</td>\n      <td>A</td>\n      <td>1</td>\n      <td>1</td>\n      <td>D</td>\n      <td>...</td>\n      <td>11.0</td>\n      <td>1.0</td>\n      <td>0.0</td>\n      <td>0.0</td>\n      <td>2</td>\n      <td>3</td>\n      <td>3</td>\n      <td>2</td>\n      <td>2017</td>\n      <td>spanish</td>\n    </tr>\n    <tr>\n      <th>3</th>\n      <td>SP1</td>\n      <td>19/08/17</td>\n      <td>GIRONA</td>\n      <td>ATLETICO MADRID</td>\n      <td>2</td>\n      <td>2</td>\n      <td>D</td>\n      <td>2</td>\n      <td>0</td>\n      <td>H</td>\n      <td>...</td>\n      <td>15.0</td>\n      <td>4.0</td>\n      <td>0.0</td>\n      <td>1.0</td>\n      <td>2</td>\n      <td>2</td>\n      <td>2</td>\n      <td>2</td>\n      <td>2017</td>\n      <td>spanish</td>\n    </tr>\n    <tr>\n      <th>4</th>\n      <td>SP1</td>\n      <td>19/08/17</td>\n      <td>SEVILLA FC</td>\n      <td>ESPANYOL</td>\n      <td>1</td>\n      <td>1</td>\n      <td>D</td>\n      <td>1</td>\n      <td>1</td>\n      <td>D</td>\n      <td>...</td>\n      <td>12.0</td>\n      <td>4.0</td>\n      <td>0.0</td>\n      <td>0.0</td>\n      <td>1</td>\n      <td>1</td>\n      <td>1</td>\n      <td>1</td>\n      <td>2017</td>\n      <td>spanish</td>\n    </tr>\n  </tbody>\n</table>\n<p>5 rows × 106 columns</p>\n</div>"
     },
     "execution_count": 96,
     "metadata": {},
     "output_type": "execute_result"
    }
   ],
   "source": [
    "sp2017combo = pd.merge(dfdates, df2017, left_on=['HomeTeam','AwayTeam'], right_on=['Home Team', 'Away Team'])\n",
    "sp2017combo.head()"
   ],
   "metadata": {
    "collapsed": false,
    "pycharm": {
     "name": "#%%\n"
    }
   }
  },
  {
   "cell_type": "markdown",
   "source": [
    "#### 2018-2019 season"
   ],
   "metadata": {
    "collapsed": false,
    "pycharm": {
     "name": "#%% md\n"
    }
   }
  },
  {
   "cell_type": "code",
   "execution_count": 97,
   "outputs": [
    {
     "name": "stdout",
     "output_type": "stream",
     "text": [
      "ALAVES--ALAVÉS\n",
      "ATH BILBAO--ATHLETIC\n",
      "ATH MADRID--ATLETICO MADRID\n",
      "BARCELONA--BARCELONA\n",
      "BETIS--CELTA\n",
      "CELTA--EIBAR\n",
      "EIBAR--ESPANYOL\n",
      "ESPANOL--GETAFE\n",
      "GETAFE--GIRONA\n",
      "GIRONA--HUESCA\n",
      "HUESCA--LEGANÉS\n",
      "LEGANES--LEVANTE\n",
      "LEVANTE--RAYO VALLECANO\n",
      "REAL MADRID--REAL BETIS\n",
      "SEVILLA--REAL MADRID\n",
      "SOCIEDAD--REAL SOCIEDAD\n",
      "VALENCIA--SEVILLA FC\n",
      "VALLADOLID--VALENCIA\n",
      "VALLECANO--VALLADOLID\n",
      "VILLARREAL--VILLARREAL\n"
     ]
    }
   ],
   "source": [
    "#2017 dataset merging\n",
    "df2018 = spg_by_years.get_group(2018)\n",
    "dfdates = pd.read_csv('spanish-la-liga_zip/archive/season-1819.csv')\n",
    "dfdates['HomeTeam'] = dfdates['HomeTeam'].str.upper()\n",
    "dfdates['AwayTeam'] = dfdates['AwayTeam'].str.upper()\n",
    "t1 = df2018['Home Team'].unique()\n",
    "t2 = dfdates['HomeTeam'].unique()\n",
    "\n",
    "names = dict()\n",
    "t1.sort()\n",
    "t2.sort()\n",
    "for i in range(len(t1)):\n",
    "    print(t2[i] + '--' + t1[i])\n",
    "    names[t2[i]] = t1[i]"
   ],
   "metadata": {
    "collapsed": false,
    "pycharm": {
     "name": "#%%\n"
    }
   }
  },
  {
   "cell_type": "code",
   "execution_count": 98,
   "outputs": [
    {
     "name": "stdout",
     "output_type": "stream",
     "text": [
      "{'ALAVES': 'ALAVÉS', 'ATH BILBAO': 'ATHLETIC', 'ATH MADRID': 'ATLETICO MADRID', 'BARCELONA': 'BARCELONA', 'BETIS': 'REAL BETIS', 'CELTA': 'CELTA', 'EIBAR': 'EIBAR', 'ESPANOL': 'ESPANYOL', 'GETAFE': 'GETAFE', 'GIRONA': 'GIRONA', 'HUESCA': 'HUESCA', 'LEGANES': 'LEGANÉS', 'LEVANTE': 'LEVANTE', 'REAL MADRID': 'REAL MADRID', 'SEVILLA': 'SEVILLA FC', 'SOCIEDAD': 'REAL SOCIEDAD', 'VALENCIA': 'VALENCIA', 'VALLADOLID': 'VALLADOLID', 'VALLECANO': 'RAYO VELLECANO', 'VILLARREAL': 'VILLARREAL'}\n"
     ]
    }
   ],
   "source": [
    "names['BETIS'] = 'REAL BETIS'\n",
    "names['CELTA'] = 'CELTA'\n",
    "names['EIBAR'] = 'EIBAR'\n",
    "names['ESPANOL'] = 'ESPANYOL'\n",
    "names['GETAFE'] = 'GETAFE'\n",
    "names['GIRONA'] = 'GIRONA'\n",
    "names['HUESCA'] = 'HUESCA'\n",
    "names['LEGANES'] = 'LEGANÉS'\n",
    "names['LEVANTE'] = 'LEVANTE'\n",
    "names['REAL MADRID'] = 'REAL MADRID'\n",
    "names['SEVILLA'] = 'SEVILLA FC'\n",
    "names['VALENCIA'] = 'VALENCIA'\n",
    "names['VALLECANO'] = 'RAYO VELLECANO'\n",
    "names['VALLADOLID'] = 'VALLADOLID'\n",
    "print(names)"
   ],
   "metadata": {
    "collapsed": false,
    "pycharm": {
     "name": "#%%\n"
    }
   }
  },
  {
   "cell_type": "code",
   "execution_count": 99,
   "outputs": [
    {
     "name": "stdout",
     "output_type": "stream",
     "text": [
      "['LEVANTE' 'VALLADOLID' 'ALAVÉS' 'ESPANYOL' 'REAL SOCIEDAD' 'HUESCA'\n",
      " 'GETAFE' 'SEVILLA FC' 'LEGANÉS' 'ATLETICO MADRID' 'EIBAR' 'REAL BETIS'\n",
      " 'RAYO VELLECANO' 'BARCELONA' 'VALENCIA' 'REAL MADRID' 'VILLARREAL'\n",
      " 'CELTA' 'GIRONA' 'ATHLETIC']\n"
     ]
    }
   ],
   "source": [
    "dfdates['HomeTeam'] = dfdates['HomeTeam'].apply(lambda x: names[x])\n",
    "dfdates['AwayTeam'] = dfdates['AwayTeam'].apply(lambda x: names[x])\n",
    "print(dfdates['AwayTeam'].unique())"
   ],
   "metadata": {
    "collapsed": false,
    "pycharm": {
     "name": "#%%\n"
    }
   }
  },
  {
   "cell_type": "code",
   "execution_count": 100,
   "outputs": [
    {
     "data": {
      "text/plain": "   Div        Date    HomeTeam       AwayTeam  FTHG  FTAG FTR  HTHG  HTAG HTR  \\\n0  SP1  17/08/2018  REAL BETIS        LEVANTE     0     3   A     0     1   A   \n1  SP1  17/08/2018      GIRONA     VALLADOLID     0     0   D     0     0   D   \n2  SP1  18/08/2018   BARCELONA         ALAVÉS     3     0   H     0     0   D   \n3  SP1  18/08/2018       CELTA       ESPANYOL     1     1   D     0     1   A   \n4  SP1  18/08/2018  VILLARREAL  REAL SOCIEDAD     1     2   A     1     1   D   \n\n   ...  Away Team Fouls  Away Team Yellow Cards  \\\n0  ...             10.0                     2.0   \n1  ...             20.0                     1.0   \n2  ...             13.0                     2.0   \n3  ...             14.0                     2.0   \n4  ...             10.0                     3.0   \n\n   Away Team Second Yellow Cards  Away Team Red Cards  Home Team Goals Scored  \\\n0                            0.0                  0.0                       0   \n1                            0.0                  0.0                       0   \n2                            0.0                  0.0                       3   \n3                            0.0                  0.0                       1   \n4                            0.0                  0.0                       1   \n\n   Away Team Goals Scored  Home Team Goals Conceeded  \\\n0                       3                          3   \n1                       0                          0   \n2                       0                          0   \n3                       1                          1   \n4                       2                          2   \n\n   Away Team Goals Conceeded  year   league  \n0                          0  2018  spanish  \n1                          0  2018  spanish  \n2                          3  2018  spanish  \n3                          1  2018  spanish  \n4                          1  2018  spanish  \n\n[5 rows x 103 columns]",
      "text/html": "<div>\n<style scoped>\n    .dataframe tbody tr th:only-of-type {\n        vertical-align: middle;\n    }\n\n    .dataframe tbody tr th {\n        vertical-align: top;\n    }\n\n    .dataframe thead th {\n        text-align: right;\n    }\n</style>\n<table border=\"1\" class=\"dataframe\">\n  <thead>\n    <tr style=\"text-align: right;\">\n      <th></th>\n      <th>Div</th>\n      <th>Date</th>\n      <th>HomeTeam</th>\n      <th>AwayTeam</th>\n      <th>FTHG</th>\n      <th>FTAG</th>\n      <th>FTR</th>\n      <th>HTHG</th>\n      <th>HTAG</th>\n      <th>HTR</th>\n      <th>...</th>\n      <th>Away Team Fouls</th>\n      <th>Away Team Yellow Cards</th>\n      <th>Away Team Second Yellow Cards</th>\n      <th>Away Team Red Cards</th>\n      <th>Home Team Goals Scored</th>\n      <th>Away Team Goals Scored</th>\n      <th>Home Team Goals Conceeded</th>\n      <th>Away Team Goals Conceeded</th>\n      <th>year</th>\n      <th>league</th>\n    </tr>\n  </thead>\n  <tbody>\n    <tr>\n      <th>0</th>\n      <td>SP1</td>\n      <td>17/08/2018</td>\n      <td>REAL BETIS</td>\n      <td>LEVANTE</td>\n      <td>0</td>\n      <td>3</td>\n      <td>A</td>\n      <td>0</td>\n      <td>1</td>\n      <td>A</td>\n      <td>...</td>\n      <td>10.0</td>\n      <td>2.0</td>\n      <td>0.0</td>\n      <td>0.0</td>\n      <td>0</td>\n      <td>3</td>\n      <td>3</td>\n      <td>0</td>\n      <td>2018</td>\n      <td>spanish</td>\n    </tr>\n    <tr>\n      <th>1</th>\n      <td>SP1</td>\n      <td>17/08/2018</td>\n      <td>GIRONA</td>\n      <td>VALLADOLID</td>\n      <td>0</td>\n      <td>0</td>\n      <td>D</td>\n      <td>0</td>\n      <td>0</td>\n      <td>D</td>\n      <td>...</td>\n      <td>20.0</td>\n      <td>1.0</td>\n      <td>0.0</td>\n      <td>0.0</td>\n      <td>0</td>\n      <td>0</td>\n      <td>0</td>\n      <td>0</td>\n      <td>2018</td>\n      <td>spanish</td>\n    </tr>\n    <tr>\n      <th>2</th>\n      <td>SP1</td>\n      <td>18/08/2018</td>\n      <td>BARCELONA</td>\n      <td>ALAVÉS</td>\n      <td>3</td>\n      <td>0</td>\n      <td>H</td>\n      <td>0</td>\n      <td>0</td>\n      <td>D</td>\n      <td>...</td>\n      <td>13.0</td>\n      <td>2.0</td>\n      <td>0.0</td>\n      <td>0.0</td>\n      <td>3</td>\n      <td>0</td>\n      <td>0</td>\n      <td>3</td>\n      <td>2018</td>\n      <td>spanish</td>\n    </tr>\n    <tr>\n      <th>3</th>\n      <td>SP1</td>\n      <td>18/08/2018</td>\n      <td>CELTA</td>\n      <td>ESPANYOL</td>\n      <td>1</td>\n      <td>1</td>\n      <td>D</td>\n      <td>0</td>\n      <td>1</td>\n      <td>A</td>\n      <td>...</td>\n      <td>14.0</td>\n      <td>2.0</td>\n      <td>0.0</td>\n      <td>0.0</td>\n      <td>1</td>\n      <td>1</td>\n      <td>1</td>\n      <td>1</td>\n      <td>2018</td>\n      <td>spanish</td>\n    </tr>\n    <tr>\n      <th>4</th>\n      <td>SP1</td>\n      <td>18/08/2018</td>\n      <td>VILLARREAL</td>\n      <td>REAL SOCIEDAD</td>\n      <td>1</td>\n      <td>2</td>\n      <td>A</td>\n      <td>1</td>\n      <td>1</td>\n      <td>D</td>\n      <td>...</td>\n      <td>10.0</td>\n      <td>3.0</td>\n      <td>0.0</td>\n      <td>0.0</td>\n      <td>1</td>\n      <td>2</td>\n      <td>2</td>\n      <td>1</td>\n      <td>2018</td>\n      <td>spanish</td>\n    </tr>\n  </tbody>\n</table>\n<p>5 rows × 103 columns</p>\n</div>"
     },
     "execution_count": 100,
     "metadata": {},
     "output_type": "execute_result"
    }
   ],
   "source": [
    "sp2018combo = pd.merge(dfdates, df2018, left_on=['HomeTeam','AwayTeam'], right_on=['Home Team', 'Away Team'])\n",
    "sp2018combo.head()"
   ],
   "metadata": {
    "collapsed": false,
    "pycharm": {
     "name": "#%%\n"
    }
   }
  },
  {
   "cell_type": "markdown",
   "source": [
    "### combine the new dataframes"
   ],
   "metadata": {
    "collapsed": false,
    "pycharm": {
     "name": "#%% md\n"
    }
   }
  },
  {
   "cell_type": "code",
   "execution_count": 101,
   "outputs": [
    {
     "data": {
      "text/plain": "   Div      Date     HomeTeam  AwayTeam  FTHG  FTAG FTR  HTHG  HTAG HTR  ...  \\\n0  SP1  23/08/14      ALMERÍA     ELCHE     1     1   D     0     0   D  ...   \n1  SP1  04/10/14      ALMERÍA     ELCHE     2     2   D     1     1   D  ...   \n2  SP1  23/08/14       MÁLAGA  ATHLETIC     1     0   H     1     0   H  ...   \n3  SP1  23/08/14  REAL MADRID  VALENCIA     1     1   D     1     0   H  ...   \n4  SP1  08/11/14  REAL MADRID  VALENCIA     5     1   H     2     1   H  ...   \n\n   Away Team Fouls  Away Team Yellow Cards  Away Team Second Yellow Cards  \\\n0             19.0                     5.0                            1.0   \n1             19.0                     5.0                            1.0   \n2              9.0                     3.0                            0.0   \n3             19.0                     4.0                            0.0   \n4             19.0                     4.0                            0.0   \n\n   Away Team Red Cards  Home Team Goals Scored  Away Team Goals Scored  \\\n0                  0.0                       2                       2   \n1                  0.0                       2                       2   \n2                  0.0                       1                       0   \n3                  0.0                       2                       2   \n4                  0.0                       2                       2   \n\n   Home Team Goals Conceeded  Away Team Goals Conceeded  year   league  \n0                          2                          2  2014  spanish  \n1                          2                          2  2014  spanish  \n2                          0                          1  2014  spanish  \n3                          2                          2  2014  spanish  \n4                          2                          2  2014  spanish  \n\n[5 rows x 109 columns]",
      "text/html": "<div>\n<style scoped>\n    .dataframe tbody tr th:only-of-type {\n        vertical-align: middle;\n    }\n\n    .dataframe tbody tr th {\n        vertical-align: top;\n    }\n\n    .dataframe thead th {\n        text-align: right;\n    }\n</style>\n<table border=\"1\" class=\"dataframe\">\n  <thead>\n    <tr style=\"text-align: right;\">\n      <th></th>\n      <th>Div</th>\n      <th>Date</th>\n      <th>HomeTeam</th>\n      <th>AwayTeam</th>\n      <th>FTHG</th>\n      <th>FTAG</th>\n      <th>FTR</th>\n      <th>HTHG</th>\n      <th>HTAG</th>\n      <th>HTR</th>\n      <th>...</th>\n      <th>Away Team Fouls</th>\n      <th>Away Team Yellow Cards</th>\n      <th>Away Team Second Yellow Cards</th>\n      <th>Away Team Red Cards</th>\n      <th>Home Team Goals Scored</th>\n      <th>Away Team Goals Scored</th>\n      <th>Home Team Goals Conceeded</th>\n      <th>Away Team Goals Conceeded</th>\n      <th>year</th>\n      <th>league</th>\n    </tr>\n  </thead>\n  <tbody>\n    <tr>\n      <th>0</th>\n      <td>SP1</td>\n      <td>23/08/14</td>\n      <td>ALMERÍA</td>\n      <td>ELCHE</td>\n      <td>1</td>\n      <td>1</td>\n      <td>D</td>\n      <td>0</td>\n      <td>0</td>\n      <td>D</td>\n      <td>...</td>\n      <td>19.0</td>\n      <td>5.0</td>\n      <td>1.0</td>\n      <td>0.0</td>\n      <td>2</td>\n      <td>2</td>\n      <td>2</td>\n      <td>2</td>\n      <td>2014</td>\n      <td>spanish</td>\n    </tr>\n    <tr>\n      <th>1</th>\n      <td>SP1</td>\n      <td>04/10/14</td>\n      <td>ALMERÍA</td>\n      <td>ELCHE</td>\n      <td>2</td>\n      <td>2</td>\n      <td>D</td>\n      <td>1</td>\n      <td>1</td>\n      <td>D</td>\n      <td>...</td>\n      <td>19.0</td>\n      <td>5.0</td>\n      <td>1.0</td>\n      <td>0.0</td>\n      <td>2</td>\n      <td>2</td>\n      <td>2</td>\n      <td>2</td>\n      <td>2014</td>\n      <td>spanish</td>\n    </tr>\n    <tr>\n      <th>2</th>\n      <td>SP1</td>\n      <td>23/08/14</td>\n      <td>MÁLAGA</td>\n      <td>ATHLETIC</td>\n      <td>1</td>\n      <td>0</td>\n      <td>H</td>\n      <td>1</td>\n      <td>0</td>\n      <td>H</td>\n      <td>...</td>\n      <td>9.0</td>\n      <td>3.0</td>\n      <td>0.0</td>\n      <td>0.0</td>\n      <td>1</td>\n      <td>0</td>\n      <td>0</td>\n      <td>1</td>\n      <td>2014</td>\n      <td>spanish</td>\n    </tr>\n    <tr>\n      <th>3</th>\n      <td>SP1</td>\n      <td>23/08/14</td>\n      <td>REAL MADRID</td>\n      <td>VALENCIA</td>\n      <td>1</td>\n      <td>1</td>\n      <td>D</td>\n      <td>1</td>\n      <td>0</td>\n      <td>H</td>\n      <td>...</td>\n      <td>19.0</td>\n      <td>4.0</td>\n      <td>0.0</td>\n      <td>0.0</td>\n      <td>2</td>\n      <td>2</td>\n      <td>2</td>\n      <td>2</td>\n      <td>2014</td>\n      <td>spanish</td>\n    </tr>\n    <tr>\n      <th>4</th>\n      <td>SP1</td>\n      <td>08/11/14</td>\n      <td>REAL MADRID</td>\n      <td>VALENCIA</td>\n      <td>5</td>\n      <td>1</td>\n      <td>H</td>\n      <td>2</td>\n      <td>1</td>\n      <td>H</td>\n      <td>...</td>\n      <td>19.0</td>\n      <td>4.0</td>\n      <td>0.0</td>\n      <td>0.0</td>\n      <td>2</td>\n      <td>2</td>\n      <td>2</td>\n      <td>2</td>\n      <td>2014</td>\n      <td>spanish</td>\n    </tr>\n  </tbody>\n</table>\n<p>5 rows × 109 columns</p>\n</div>"
     },
     "execution_count": 101,
     "metadata": {},
     "output_type": "execute_result"
    }
   ],
   "source": [
    "spanishData = pd.DataFrame().append([sp2014combo,sp2015combo,sp2016combo,sp2017combo, sp2018combo])\n",
    "spanishData.head()"
   ],
   "metadata": {
    "collapsed": false,
    "pycharm": {
     "name": "#%%\n"
    }
   }
  },
  {
   "cell_type": "code",
   "execution_count": 102,
   "outputs": [
    {
     "data": {
      "text/plain": "    Div       Date     HomeTeam         AwayTeam  FTHG  FTAG FTR  HTHG  HTAG  \\\n0   SP1 2014-08-23      ALMERÍA            ELCHE     1     1   D     0     0   \n2   SP1 2014-08-23       MÁLAGA         ATHLETIC     1     0   H     1     0   \n3   SP1 2014-08-23  REAL MADRID         VALENCIA     1     1   D     1     0   \n11  SP1 2014-08-24      LEVANTE       VILLARREAL     0     2   A     0     0   \n7   SP1 2014-08-24    BARCELONA            ELCHE     3     0   H     1     0   \n10  SP1 2014-08-24        EIBAR    REAL SOCIEDAD     1     0   H     1     0   \n9   SP1 2014-08-24        CELTA           GETAFE     3     1   H     1     0   \n14  SP1 2014-08-25     VALENCIA  ATLETICO MADRID     0     0   D     0     0   \n12  SP1 2014-08-25  REAL MADRID          CÓRDOBA     2     0   H     1     0   \n16  SP1 2014-08-29       GETAFE          ALMERÍA     1     0   H     1     0   \n\n   HTR  ...  Away Team Fouls  Away Team Yellow Cards  \\\n0    D  ...             19.0                     5.0   \n2    H  ...              9.0                     3.0   \n3    H  ...             19.0                     4.0   \n11   D  ...             14.0                     3.0   \n7    H  ...             13.0                     1.0   \n10   H  ...             14.0                     1.0   \n9    H  ...             15.0                     1.0   \n14   D  ...             14.0                     1.0   \n12   H  ...             13.0                     2.0   \n16   H  ...             11.0                     2.0   \n\n    Away Team Second Yellow Cards  Away Team Red Cards  \\\n0                             1.0                  0.0   \n2                             0.0                  0.0   \n3                             0.0                  0.0   \n11                            0.0                  0.0   \n7                             0.0                  0.0   \n10                            0.0                  0.0   \n9                             0.0                  0.0   \n14                            1.0                  0.0   \n12                            0.0                  0.0   \n16                            0.0                  0.0   \n\n    Home Team Goals Scored  Away Team Goals Scored  Home Team Goals Conceeded  \\\n0                        2                       2                          2   \n2                        1                       0                          0   \n3                        2                       2                          2   \n11                       0                       2                          2   \n7                        3                       0                          0   \n10                       1                       0                          0   \n9                        3                       1                          1   \n14                       3                       1                          1   \n12                       2                       0                          0   \n16                       1                       0                          0   \n\n    Away Team Goals Conceeded  year   league  \n0                           2  2014  spanish  \n2                           1  2014  spanish  \n3                           2  2014  spanish  \n11                          0  2014  spanish  \n7                           3  2014  spanish  \n10                          1  2014  spanish  \n9                           3  2014  spanish  \n14                          3  2014  spanish  \n12                          2  2014  spanish  \n16                          1  2014  spanish  \n\n[10 rows x 109 columns]",
      "text/html": "<div>\n<style scoped>\n    .dataframe tbody tr th:only-of-type {\n        vertical-align: middle;\n    }\n\n    .dataframe tbody tr th {\n        vertical-align: top;\n    }\n\n    .dataframe thead th {\n        text-align: right;\n    }\n</style>\n<table border=\"1\" class=\"dataframe\">\n  <thead>\n    <tr style=\"text-align: right;\">\n      <th></th>\n      <th>Div</th>\n      <th>Date</th>\n      <th>HomeTeam</th>\n      <th>AwayTeam</th>\n      <th>FTHG</th>\n      <th>FTAG</th>\n      <th>FTR</th>\n      <th>HTHG</th>\n      <th>HTAG</th>\n      <th>HTR</th>\n      <th>...</th>\n      <th>Away Team Fouls</th>\n      <th>Away Team Yellow Cards</th>\n      <th>Away Team Second Yellow Cards</th>\n      <th>Away Team Red Cards</th>\n      <th>Home Team Goals Scored</th>\n      <th>Away Team Goals Scored</th>\n      <th>Home Team Goals Conceeded</th>\n      <th>Away Team Goals Conceeded</th>\n      <th>year</th>\n      <th>league</th>\n    </tr>\n  </thead>\n  <tbody>\n    <tr>\n      <th>0</th>\n      <td>SP1</td>\n      <td>2014-08-23</td>\n      <td>ALMERÍA</td>\n      <td>ELCHE</td>\n      <td>1</td>\n      <td>1</td>\n      <td>D</td>\n      <td>0</td>\n      <td>0</td>\n      <td>D</td>\n      <td>...</td>\n      <td>19.0</td>\n      <td>5.0</td>\n      <td>1.0</td>\n      <td>0.0</td>\n      <td>2</td>\n      <td>2</td>\n      <td>2</td>\n      <td>2</td>\n      <td>2014</td>\n      <td>spanish</td>\n    </tr>\n    <tr>\n      <th>2</th>\n      <td>SP1</td>\n      <td>2014-08-23</td>\n      <td>MÁLAGA</td>\n      <td>ATHLETIC</td>\n      <td>1</td>\n      <td>0</td>\n      <td>H</td>\n      <td>1</td>\n      <td>0</td>\n      <td>H</td>\n      <td>...</td>\n      <td>9.0</td>\n      <td>3.0</td>\n      <td>0.0</td>\n      <td>0.0</td>\n      <td>1</td>\n      <td>0</td>\n      <td>0</td>\n      <td>1</td>\n      <td>2014</td>\n      <td>spanish</td>\n    </tr>\n    <tr>\n      <th>3</th>\n      <td>SP1</td>\n      <td>2014-08-23</td>\n      <td>REAL MADRID</td>\n      <td>VALENCIA</td>\n      <td>1</td>\n      <td>1</td>\n      <td>D</td>\n      <td>1</td>\n      <td>0</td>\n      <td>H</td>\n      <td>...</td>\n      <td>19.0</td>\n      <td>4.0</td>\n      <td>0.0</td>\n      <td>0.0</td>\n      <td>2</td>\n      <td>2</td>\n      <td>2</td>\n      <td>2</td>\n      <td>2014</td>\n      <td>spanish</td>\n    </tr>\n    <tr>\n      <th>11</th>\n      <td>SP1</td>\n      <td>2014-08-24</td>\n      <td>LEVANTE</td>\n      <td>VILLARREAL</td>\n      <td>0</td>\n      <td>2</td>\n      <td>A</td>\n      <td>0</td>\n      <td>0</td>\n      <td>D</td>\n      <td>...</td>\n      <td>14.0</td>\n      <td>3.0</td>\n      <td>0.0</td>\n      <td>0.0</td>\n      <td>0</td>\n      <td>2</td>\n      <td>2</td>\n      <td>0</td>\n      <td>2014</td>\n      <td>spanish</td>\n    </tr>\n    <tr>\n      <th>7</th>\n      <td>SP1</td>\n      <td>2014-08-24</td>\n      <td>BARCELONA</td>\n      <td>ELCHE</td>\n      <td>3</td>\n      <td>0</td>\n      <td>H</td>\n      <td>1</td>\n      <td>0</td>\n      <td>H</td>\n      <td>...</td>\n      <td>13.0</td>\n      <td>1.0</td>\n      <td>0.0</td>\n      <td>0.0</td>\n      <td>3</td>\n      <td>0</td>\n      <td>0</td>\n      <td>3</td>\n      <td>2014</td>\n      <td>spanish</td>\n    </tr>\n    <tr>\n      <th>10</th>\n      <td>SP1</td>\n      <td>2014-08-24</td>\n      <td>EIBAR</td>\n      <td>REAL SOCIEDAD</td>\n      <td>1</td>\n      <td>0</td>\n      <td>H</td>\n      <td>1</td>\n      <td>0</td>\n      <td>H</td>\n      <td>...</td>\n      <td>14.0</td>\n      <td>1.0</td>\n      <td>0.0</td>\n      <td>0.0</td>\n      <td>1</td>\n      <td>0</td>\n      <td>0</td>\n      <td>1</td>\n      <td>2014</td>\n      <td>spanish</td>\n    </tr>\n    <tr>\n      <th>9</th>\n      <td>SP1</td>\n      <td>2014-08-24</td>\n      <td>CELTA</td>\n      <td>GETAFE</td>\n      <td>3</td>\n      <td>1</td>\n      <td>H</td>\n      <td>1</td>\n      <td>0</td>\n      <td>H</td>\n      <td>...</td>\n      <td>15.0</td>\n      <td>1.0</td>\n      <td>0.0</td>\n      <td>0.0</td>\n      <td>3</td>\n      <td>1</td>\n      <td>1</td>\n      <td>3</td>\n      <td>2014</td>\n      <td>spanish</td>\n    </tr>\n    <tr>\n      <th>14</th>\n      <td>SP1</td>\n      <td>2014-08-25</td>\n      <td>VALENCIA</td>\n      <td>ATLETICO MADRID</td>\n      <td>0</td>\n      <td>0</td>\n      <td>D</td>\n      <td>0</td>\n      <td>0</td>\n      <td>D</td>\n      <td>...</td>\n      <td>14.0</td>\n      <td>1.0</td>\n      <td>1.0</td>\n      <td>0.0</td>\n      <td>3</td>\n      <td>1</td>\n      <td>1</td>\n      <td>3</td>\n      <td>2014</td>\n      <td>spanish</td>\n    </tr>\n    <tr>\n      <th>12</th>\n      <td>SP1</td>\n      <td>2014-08-25</td>\n      <td>REAL MADRID</td>\n      <td>CÓRDOBA</td>\n      <td>2</td>\n      <td>0</td>\n      <td>H</td>\n      <td>1</td>\n      <td>0</td>\n      <td>H</td>\n      <td>...</td>\n      <td>13.0</td>\n      <td>2.0</td>\n      <td>0.0</td>\n      <td>0.0</td>\n      <td>2</td>\n      <td>0</td>\n      <td>0</td>\n      <td>2</td>\n      <td>2014</td>\n      <td>spanish</td>\n    </tr>\n    <tr>\n      <th>16</th>\n      <td>SP1</td>\n      <td>2014-08-29</td>\n      <td>GETAFE</td>\n      <td>ALMERÍA</td>\n      <td>1</td>\n      <td>0</td>\n      <td>H</td>\n      <td>1</td>\n      <td>0</td>\n      <td>H</td>\n      <td>...</td>\n      <td>11.0</td>\n      <td>2.0</td>\n      <td>0.0</td>\n      <td>0.0</td>\n      <td>1</td>\n      <td>0</td>\n      <td>0</td>\n      <td>1</td>\n      <td>2014</td>\n      <td>spanish</td>\n    </tr>\n  </tbody>\n</table>\n<p>10 rows × 109 columns</p>\n</div>"
     },
     "execution_count": 102,
     "metadata": {},
     "output_type": "execute_result"
    }
   ],
   "source": [
    "spanishData['Date'] = pd.to_datetime(spanishData['Date'], dayfirst=1)\n",
    "spanishData.sort_values(by=['Date'],inplace=True,ascending=1)\n",
    "spanishData.head(10)"
   ],
   "metadata": {
    "collapsed": false,
    "pycharm": {
     "name": "#%%\n"
    }
   }
  },
  {
   "cell_type": "code",
   "execution_count": 103,
   "outputs": [
    {
     "data": {
      "text/plain": "              FTHG         FTAG         HTHG         HTAG           HS  \\\ncount  1854.000000  1854.000000  1854.000000  1854.000000  1854.000000   \nmean      1.560410     1.158576     0.679072     0.499461    13.514563   \nstd       1.370559     1.182572     0.852933     0.724820     4.791334   \nmin       0.000000     0.000000     0.000000     0.000000     2.000000   \n25%       1.000000     0.000000     0.000000     0.000000    10.000000   \n50%       1.000000     1.000000     0.000000     0.000000    13.000000   \n75%       2.000000     2.000000     1.000000     1.000000    16.000000   \nmax      10.000000     8.000000     5.000000     5.000000    34.000000   \n\n                AS          HST          AST           HF           AF  ...  \\\ncount  1854.000000  1854.000000  1854.000000  1854.000000  1854.000000  ...   \nmean     10.447681     4.837109     3.740022    13.814455    13.830097  ...   \nstd       4.327052     2.557573     2.209811     4.273576     4.188456  ...   \nmin       0.000000     0.000000     0.000000     1.000000     0.000000  ...   \n25%       7.000000     3.000000     2.000000    11.000000    11.000000  ...   \n50%      10.000000     5.000000     3.000000    14.000000    14.000000  ...   \n75%      13.000000     6.000000     5.000000    17.000000    17.000000  ...   \nmax      28.000000    15.000000    13.000000    33.000000    29.000000  ...   \n\n       Away Team Clearances  Away Team Fouls  Away Team Yellow Cards  \\\ncount           1854.000000      1854.000000             1854.000000   \nmean              22.867314        13.795038                2.735167   \nstd                9.511187         4.136638                1.492736   \nmin                2.000000         0.000000                0.000000   \n25%               16.000000        11.000000                2.000000   \n50%               22.000000        14.000000                3.000000   \n75%               29.000000        17.000000                4.000000   \nmax               63.000000        29.000000                8.000000   \n\n       Away Team Second Yellow Cards  Away Team Red Cards  \\\ncount                    1854.000000          1854.000000   \nmean                        0.085221             0.049083   \nstd                         0.290649             0.230597   \nmin                         0.000000             0.000000   \n25%                         0.000000             0.000000   \n50%                         0.000000             0.000000   \n75%                         0.000000             0.000000   \nmax                         2.000000             2.000000   \n\n       Home Team Goals Scored  Away Team Goals Scored  \\\ncount             1854.000000             1854.000000   \nmean                 1.567422                1.165049   \nstd                  1.407150                1.187608   \nmin                  0.000000                0.000000   \n25%                  1.000000                0.000000   \n50%                  1.000000                1.000000   \n75%                  2.000000                2.000000   \nmax                 10.000000                8.000000   \n\n       Home Team Goals Conceeded  Away Team Goals Conceeded         year  \ncount                1854.000000                1854.000000  1854.000000  \nmean                    1.165049                   1.567422  2015.967638  \nstd                     1.187608                   1.407150     1.396561  \nmin                     0.000000                   0.000000  2014.000000  \n25%                     0.000000                   1.000000  2015.000000  \n50%                     1.000000                   1.000000  2016.000000  \n75%                     2.000000                   2.000000  2017.000000  \nmax                     8.000000                  10.000000  2018.000000  \n\n[8 rows x 98 columns]",
      "text/html": "<div>\n<style scoped>\n    .dataframe tbody tr th:only-of-type {\n        vertical-align: middle;\n    }\n\n    .dataframe tbody tr th {\n        vertical-align: top;\n    }\n\n    .dataframe thead th {\n        text-align: right;\n    }\n</style>\n<table border=\"1\" class=\"dataframe\">\n  <thead>\n    <tr style=\"text-align: right;\">\n      <th></th>\n      <th>FTHG</th>\n      <th>FTAG</th>\n      <th>HTHG</th>\n      <th>HTAG</th>\n      <th>HS</th>\n      <th>AS</th>\n      <th>HST</th>\n      <th>AST</th>\n      <th>HF</th>\n      <th>AF</th>\n      <th>...</th>\n      <th>Away Team Clearances</th>\n      <th>Away Team Fouls</th>\n      <th>Away Team Yellow Cards</th>\n      <th>Away Team Second Yellow Cards</th>\n      <th>Away Team Red Cards</th>\n      <th>Home Team Goals Scored</th>\n      <th>Away Team Goals Scored</th>\n      <th>Home Team Goals Conceeded</th>\n      <th>Away Team Goals Conceeded</th>\n      <th>year</th>\n    </tr>\n  </thead>\n  <tbody>\n    <tr>\n      <th>count</th>\n      <td>1854.000000</td>\n      <td>1854.000000</td>\n      <td>1854.000000</td>\n      <td>1854.000000</td>\n      <td>1854.000000</td>\n      <td>1854.000000</td>\n      <td>1854.000000</td>\n      <td>1854.000000</td>\n      <td>1854.000000</td>\n      <td>1854.000000</td>\n      <td>...</td>\n      <td>1854.000000</td>\n      <td>1854.000000</td>\n      <td>1854.000000</td>\n      <td>1854.000000</td>\n      <td>1854.000000</td>\n      <td>1854.000000</td>\n      <td>1854.000000</td>\n      <td>1854.000000</td>\n      <td>1854.000000</td>\n      <td>1854.000000</td>\n    </tr>\n    <tr>\n      <th>mean</th>\n      <td>1.560410</td>\n      <td>1.158576</td>\n      <td>0.679072</td>\n      <td>0.499461</td>\n      <td>13.514563</td>\n      <td>10.447681</td>\n      <td>4.837109</td>\n      <td>3.740022</td>\n      <td>13.814455</td>\n      <td>13.830097</td>\n      <td>...</td>\n      <td>22.867314</td>\n      <td>13.795038</td>\n      <td>2.735167</td>\n      <td>0.085221</td>\n      <td>0.049083</td>\n      <td>1.567422</td>\n      <td>1.165049</td>\n      <td>1.165049</td>\n      <td>1.567422</td>\n      <td>2015.967638</td>\n    </tr>\n    <tr>\n      <th>std</th>\n      <td>1.370559</td>\n      <td>1.182572</td>\n      <td>0.852933</td>\n      <td>0.724820</td>\n      <td>4.791334</td>\n      <td>4.327052</td>\n      <td>2.557573</td>\n      <td>2.209811</td>\n      <td>4.273576</td>\n      <td>4.188456</td>\n      <td>...</td>\n      <td>9.511187</td>\n      <td>4.136638</td>\n      <td>1.492736</td>\n      <td>0.290649</td>\n      <td>0.230597</td>\n      <td>1.407150</td>\n      <td>1.187608</td>\n      <td>1.187608</td>\n      <td>1.407150</td>\n      <td>1.396561</td>\n    </tr>\n    <tr>\n      <th>min</th>\n      <td>0.000000</td>\n      <td>0.000000</td>\n      <td>0.000000</td>\n      <td>0.000000</td>\n      <td>2.000000</td>\n      <td>0.000000</td>\n      <td>0.000000</td>\n      <td>0.000000</td>\n      <td>1.000000</td>\n      <td>0.000000</td>\n      <td>...</td>\n      <td>2.000000</td>\n      <td>0.000000</td>\n      <td>0.000000</td>\n      <td>0.000000</td>\n      <td>0.000000</td>\n      <td>0.000000</td>\n      <td>0.000000</td>\n      <td>0.000000</td>\n      <td>0.000000</td>\n      <td>2014.000000</td>\n    </tr>\n    <tr>\n      <th>25%</th>\n      <td>1.000000</td>\n      <td>0.000000</td>\n      <td>0.000000</td>\n      <td>0.000000</td>\n      <td>10.000000</td>\n      <td>7.000000</td>\n      <td>3.000000</td>\n      <td>2.000000</td>\n      <td>11.000000</td>\n      <td>11.000000</td>\n      <td>...</td>\n      <td>16.000000</td>\n      <td>11.000000</td>\n      <td>2.000000</td>\n      <td>0.000000</td>\n      <td>0.000000</td>\n      <td>1.000000</td>\n      <td>0.000000</td>\n      <td>0.000000</td>\n      <td>1.000000</td>\n      <td>2015.000000</td>\n    </tr>\n    <tr>\n      <th>50%</th>\n      <td>1.000000</td>\n      <td>1.000000</td>\n      <td>0.000000</td>\n      <td>0.000000</td>\n      <td>13.000000</td>\n      <td>10.000000</td>\n      <td>5.000000</td>\n      <td>3.000000</td>\n      <td>14.000000</td>\n      <td>14.000000</td>\n      <td>...</td>\n      <td>22.000000</td>\n      <td>14.000000</td>\n      <td>3.000000</td>\n      <td>0.000000</td>\n      <td>0.000000</td>\n      <td>1.000000</td>\n      <td>1.000000</td>\n      <td>1.000000</td>\n      <td>1.000000</td>\n      <td>2016.000000</td>\n    </tr>\n    <tr>\n      <th>75%</th>\n      <td>2.000000</td>\n      <td>2.000000</td>\n      <td>1.000000</td>\n      <td>1.000000</td>\n      <td>16.000000</td>\n      <td>13.000000</td>\n      <td>6.000000</td>\n      <td>5.000000</td>\n      <td>17.000000</td>\n      <td>17.000000</td>\n      <td>...</td>\n      <td>29.000000</td>\n      <td>17.000000</td>\n      <td>4.000000</td>\n      <td>0.000000</td>\n      <td>0.000000</td>\n      <td>2.000000</td>\n      <td>2.000000</td>\n      <td>2.000000</td>\n      <td>2.000000</td>\n      <td>2017.000000</td>\n    </tr>\n    <tr>\n      <th>max</th>\n      <td>10.000000</td>\n      <td>8.000000</td>\n      <td>5.000000</td>\n      <td>5.000000</td>\n      <td>34.000000</td>\n      <td>28.000000</td>\n      <td>15.000000</td>\n      <td>13.000000</td>\n      <td>33.000000</td>\n      <td>29.000000</td>\n      <td>...</td>\n      <td>63.000000</td>\n      <td>29.000000</td>\n      <td>8.000000</td>\n      <td>2.000000</td>\n      <td>2.000000</td>\n      <td>10.000000</td>\n      <td>8.000000</td>\n      <td>8.000000</td>\n      <td>10.000000</td>\n      <td>2018.000000</td>\n    </tr>\n  </tbody>\n</table>\n<p>8 rows × 98 columns</p>\n</div>"
     },
     "execution_count": 103,
     "metadata": {},
     "output_type": "execute_result"
    }
   ],
   "source": [
    "spanishData.describe()"
   ],
   "metadata": {
    "collapsed": false,
    "pycharm": {
     "name": "#%%\n"
    }
   }
  },
  {
   "cell_type": "markdown",
   "source": [
    "## Italian Serie A data mergeing\n"
   ],
   "metadata": {
    "collapsed": false,
    "pycharm": {
     "name": "#%% md\n"
    }
   }
  },
  {
   "cell_type": "code",
   "execution_count": 104,
   "outputs": [
    {
     "name": "stdout",
     "output_type": "stream",
     "text": [
      "[2014 2015 2016 2017 2018 2019 2020]\n"
     ]
    }
   ],
   "source": [
    "italian = leagues.get_group('italian')\n",
    "ita_by_years = italian.groupby('year')\n",
    "print(italian[\"year\"].unique())"
   ],
   "metadata": {
    "collapsed": false,
    "pycharm": {
     "name": "#%%\n"
    }
   }
  },
  {
   "cell_type": "markdown",
   "source": [
    "### 2014-2015 Season"
   ],
   "metadata": {
    "collapsed": false,
    "pycharm": {
     "name": "#%% md\n"
    }
   }
  },
  {
   "cell_type": "code",
   "execution_count": 105,
   "outputs": [
    {
     "ename": "FileNotFoundError",
     "evalue": "[Errno 2] No such file or directory: 'italian-serie-a/data/season-1415_csv.csv'",
     "output_type": "error",
     "traceback": [
      "\u001B[1;31m---------------------------------------------------------------------------\u001B[0m",
      "\u001B[1;31mFileNotFoundError\u001B[0m                         Traceback (most recent call last)",
      "\u001B[1;32m<ipython-input-105-5eb774a8a73c>\u001B[0m in \u001B[0;36m<module>\u001B[1;34m\u001B[0m\n\u001B[0;32m      1\u001B[0m \u001B[0mdf2014\u001B[0m \u001B[1;33m=\u001B[0m \u001B[0mita_by_years\u001B[0m\u001B[1;33m.\u001B[0m\u001B[0mget_group\u001B[0m\u001B[1;33m(\u001B[0m\u001B[1;36m2014\u001B[0m\u001B[1;33m)\u001B[0m\u001B[1;33m\u001B[0m\u001B[1;33m\u001B[0m\u001B[0m\n\u001B[1;32m----> 2\u001B[1;33m \u001B[0mdfdates\u001B[0m \u001B[1;33m=\u001B[0m \u001B[0mpd\u001B[0m\u001B[1;33m.\u001B[0m\u001B[0mread_csv\u001B[0m\u001B[1;33m(\u001B[0m\u001B[1;34m'italian-serie-a/data/season-1415_csv.csv'\u001B[0m\u001B[1;33m)\u001B[0m\u001B[1;33m\u001B[0m\u001B[1;33m\u001B[0m\u001B[0m\n\u001B[0m\u001B[0;32m      3\u001B[0m \u001B[0mdfdates\u001B[0m\u001B[1;33m[\u001B[0m\u001B[1;34m'HomeTeam'\u001B[0m\u001B[1;33m]\u001B[0m \u001B[1;33m=\u001B[0m \u001B[0mdfdates\u001B[0m\u001B[1;33m[\u001B[0m\u001B[1;34m'HomeTeam'\u001B[0m\u001B[1;33m]\u001B[0m\u001B[1;33m.\u001B[0m\u001B[0mstr\u001B[0m\u001B[1;33m.\u001B[0m\u001B[0mupper\u001B[0m\u001B[1;33m(\u001B[0m\u001B[1;33m)\u001B[0m\u001B[1;33m\u001B[0m\u001B[1;33m\u001B[0m\u001B[0m\n\u001B[0;32m      4\u001B[0m \u001B[0mdfdates\u001B[0m\u001B[1;33m[\u001B[0m\u001B[1;34m'AwayTeam'\u001B[0m\u001B[1;33m]\u001B[0m \u001B[1;33m=\u001B[0m \u001B[0mdfdates\u001B[0m\u001B[1;33m[\u001B[0m\u001B[1;34m'AwayTeam'\u001B[0m\u001B[1;33m]\u001B[0m\u001B[1;33m.\u001B[0m\u001B[0mstr\u001B[0m\u001B[1;33m.\u001B[0m\u001B[0mupper\u001B[0m\u001B[1;33m(\u001B[0m\u001B[1;33m)\u001B[0m\u001B[1;33m\u001B[0m\u001B[1;33m\u001B[0m\u001B[0m\n\u001B[0;32m      5\u001B[0m \u001B[0mt1\u001B[0m \u001B[1;33m=\u001B[0m \u001B[0mdf2014\u001B[0m\u001B[1;33m[\u001B[0m\u001B[1;34m'Home Team'\u001B[0m\u001B[1;33m]\u001B[0m\u001B[1;33m.\u001B[0m\u001B[0munique\u001B[0m\u001B[1;33m(\u001B[0m\u001B[1;33m)\u001B[0m\u001B[1;33m\u001B[0m\u001B[1;33m\u001B[0m\u001B[0m\n",
      "\u001B[1;32m~\\anaconda3\\lib\\site-packages\\pandas\\io\\parsers.py\u001B[0m in \u001B[0;36mread_csv\u001B[1;34m(filepath_or_buffer, sep, delimiter, header, names, index_col, usecols, squeeze, prefix, mangle_dupe_cols, dtype, engine, converters, true_values, false_values, skipinitialspace, skiprows, skipfooter, nrows, na_values, keep_default_na, na_filter, verbose, skip_blank_lines, parse_dates, infer_datetime_format, keep_date_col, date_parser, dayfirst, cache_dates, iterator, chunksize, compression, thousands, decimal, lineterminator, quotechar, quoting, doublequote, escapechar, comment, encoding, dialect, error_bad_lines, warn_bad_lines, delim_whitespace, low_memory, memory_map, float_precision)\u001B[0m\n\u001B[0;32m    684\u001B[0m     )\n\u001B[0;32m    685\u001B[0m \u001B[1;33m\u001B[0m\u001B[0m\n\u001B[1;32m--> 686\u001B[1;33m     \u001B[1;32mreturn\u001B[0m \u001B[0m_read\u001B[0m\u001B[1;33m(\u001B[0m\u001B[0mfilepath_or_buffer\u001B[0m\u001B[1;33m,\u001B[0m \u001B[0mkwds\u001B[0m\u001B[1;33m)\u001B[0m\u001B[1;33m\u001B[0m\u001B[1;33m\u001B[0m\u001B[0m\n\u001B[0m\u001B[0;32m    687\u001B[0m \u001B[1;33m\u001B[0m\u001B[0m\n\u001B[0;32m    688\u001B[0m \u001B[1;33m\u001B[0m\u001B[0m\n",
      "\u001B[1;32m~\\anaconda3\\lib\\site-packages\\pandas\\io\\parsers.py\u001B[0m in \u001B[0;36m_read\u001B[1;34m(filepath_or_buffer, kwds)\u001B[0m\n\u001B[0;32m    450\u001B[0m \u001B[1;33m\u001B[0m\u001B[0m\n\u001B[0;32m    451\u001B[0m     \u001B[1;31m# Create the parser.\u001B[0m\u001B[1;33m\u001B[0m\u001B[1;33m\u001B[0m\u001B[1;33m\u001B[0m\u001B[0m\n\u001B[1;32m--> 452\u001B[1;33m     \u001B[0mparser\u001B[0m \u001B[1;33m=\u001B[0m \u001B[0mTextFileReader\u001B[0m\u001B[1;33m(\u001B[0m\u001B[0mfp_or_buf\u001B[0m\u001B[1;33m,\u001B[0m \u001B[1;33m**\u001B[0m\u001B[0mkwds\u001B[0m\u001B[1;33m)\u001B[0m\u001B[1;33m\u001B[0m\u001B[1;33m\u001B[0m\u001B[0m\n\u001B[0m\u001B[0;32m    453\u001B[0m \u001B[1;33m\u001B[0m\u001B[0m\n\u001B[0;32m    454\u001B[0m     \u001B[1;32mif\u001B[0m \u001B[0mchunksize\u001B[0m \u001B[1;32mor\u001B[0m \u001B[0miterator\u001B[0m\u001B[1;33m:\u001B[0m\u001B[1;33m\u001B[0m\u001B[1;33m\u001B[0m\u001B[0m\n",
      "\u001B[1;32m~\\anaconda3\\lib\\site-packages\\pandas\\io\\parsers.py\u001B[0m in \u001B[0;36m__init__\u001B[1;34m(self, f, engine, **kwds)\u001B[0m\n\u001B[0;32m    944\u001B[0m             \u001B[0mself\u001B[0m\u001B[1;33m.\u001B[0m\u001B[0moptions\u001B[0m\u001B[1;33m[\u001B[0m\u001B[1;34m\"has_index_names\"\u001B[0m\u001B[1;33m]\u001B[0m \u001B[1;33m=\u001B[0m \u001B[0mkwds\u001B[0m\u001B[1;33m[\u001B[0m\u001B[1;34m\"has_index_names\"\u001B[0m\u001B[1;33m]\u001B[0m\u001B[1;33m\u001B[0m\u001B[1;33m\u001B[0m\u001B[0m\n\u001B[0;32m    945\u001B[0m \u001B[1;33m\u001B[0m\u001B[0m\n\u001B[1;32m--> 946\u001B[1;33m         \u001B[0mself\u001B[0m\u001B[1;33m.\u001B[0m\u001B[0m_make_engine\u001B[0m\u001B[1;33m(\u001B[0m\u001B[0mself\u001B[0m\u001B[1;33m.\u001B[0m\u001B[0mengine\u001B[0m\u001B[1;33m)\u001B[0m\u001B[1;33m\u001B[0m\u001B[1;33m\u001B[0m\u001B[0m\n\u001B[0m\u001B[0;32m    947\u001B[0m \u001B[1;33m\u001B[0m\u001B[0m\n\u001B[0;32m    948\u001B[0m     \u001B[1;32mdef\u001B[0m \u001B[0mclose\u001B[0m\u001B[1;33m(\u001B[0m\u001B[0mself\u001B[0m\u001B[1;33m)\u001B[0m\u001B[1;33m:\u001B[0m\u001B[1;33m\u001B[0m\u001B[1;33m\u001B[0m\u001B[0m\n",
      "\u001B[1;32m~\\anaconda3\\lib\\site-packages\\pandas\\io\\parsers.py\u001B[0m in \u001B[0;36m_make_engine\u001B[1;34m(self, engine)\u001B[0m\n\u001B[0;32m   1176\u001B[0m     \u001B[1;32mdef\u001B[0m \u001B[0m_make_engine\u001B[0m\u001B[1;33m(\u001B[0m\u001B[0mself\u001B[0m\u001B[1;33m,\u001B[0m \u001B[0mengine\u001B[0m\u001B[1;33m=\u001B[0m\u001B[1;34m\"c\"\u001B[0m\u001B[1;33m)\u001B[0m\u001B[1;33m:\u001B[0m\u001B[1;33m\u001B[0m\u001B[1;33m\u001B[0m\u001B[0m\n\u001B[0;32m   1177\u001B[0m         \u001B[1;32mif\u001B[0m \u001B[0mengine\u001B[0m \u001B[1;33m==\u001B[0m \u001B[1;34m\"c\"\u001B[0m\u001B[1;33m:\u001B[0m\u001B[1;33m\u001B[0m\u001B[1;33m\u001B[0m\u001B[0m\n\u001B[1;32m-> 1178\u001B[1;33m             \u001B[0mself\u001B[0m\u001B[1;33m.\u001B[0m\u001B[0m_engine\u001B[0m \u001B[1;33m=\u001B[0m \u001B[0mCParserWrapper\u001B[0m\u001B[1;33m(\u001B[0m\u001B[0mself\u001B[0m\u001B[1;33m.\u001B[0m\u001B[0mf\u001B[0m\u001B[1;33m,\u001B[0m \u001B[1;33m**\u001B[0m\u001B[0mself\u001B[0m\u001B[1;33m.\u001B[0m\u001B[0moptions\u001B[0m\u001B[1;33m)\u001B[0m\u001B[1;33m\u001B[0m\u001B[1;33m\u001B[0m\u001B[0m\n\u001B[0m\u001B[0;32m   1179\u001B[0m         \u001B[1;32melse\u001B[0m\u001B[1;33m:\u001B[0m\u001B[1;33m\u001B[0m\u001B[1;33m\u001B[0m\u001B[0m\n\u001B[0;32m   1180\u001B[0m             \u001B[1;32mif\u001B[0m \u001B[0mengine\u001B[0m \u001B[1;33m==\u001B[0m \u001B[1;34m\"python\"\u001B[0m\u001B[1;33m:\u001B[0m\u001B[1;33m\u001B[0m\u001B[1;33m\u001B[0m\u001B[0m\n",
      "\u001B[1;32m~\\anaconda3\\lib\\site-packages\\pandas\\io\\parsers.py\u001B[0m in \u001B[0;36m__init__\u001B[1;34m(self, src, **kwds)\u001B[0m\n\u001B[0;32m   2006\u001B[0m         \u001B[0mkwds\u001B[0m\u001B[1;33m[\u001B[0m\u001B[1;34m\"usecols\"\u001B[0m\u001B[1;33m]\u001B[0m \u001B[1;33m=\u001B[0m \u001B[0mself\u001B[0m\u001B[1;33m.\u001B[0m\u001B[0musecols\u001B[0m\u001B[1;33m\u001B[0m\u001B[1;33m\u001B[0m\u001B[0m\n\u001B[0;32m   2007\u001B[0m \u001B[1;33m\u001B[0m\u001B[0m\n\u001B[1;32m-> 2008\u001B[1;33m         \u001B[0mself\u001B[0m\u001B[1;33m.\u001B[0m\u001B[0m_reader\u001B[0m \u001B[1;33m=\u001B[0m \u001B[0mparsers\u001B[0m\u001B[1;33m.\u001B[0m\u001B[0mTextReader\u001B[0m\u001B[1;33m(\u001B[0m\u001B[0msrc\u001B[0m\u001B[1;33m,\u001B[0m \u001B[1;33m**\u001B[0m\u001B[0mkwds\u001B[0m\u001B[1;33m)\u001B[0m\u001B[1;33m\u001B[0m\u001B[1;33m\u001B[0m\u001B[0m\n\u001B[0m\u001B[0;32m   2009\u001B[0m         \u001B[0mself\u001B[0m\u001B[1;33m.\u001B[0m\u001B[0munnamed_cols\u001B[0m \u001B[1;33m=\u001B[0m \u001B[0mself\u001B[0m\u001B[1;33m.\u001B[0m\u001B[0m_reader\u001B[0m\u001B[1;33m.\u001B[0m\u001B[0munnamed_cols\u001B[0m\u001B[1;33m\u001B[0m\u001B[1;33m\u001B[0m\u001B[0m\n\u001B[0;32m   2010\u001B[0m \u001B[1;33m\u001B[0m\u001B[0m\n",
      "\u001B[1;32mpandas\\_libs\\parsers.pyx\u001B[0m in \u001B[0;36mpandas._libs.parsers.TextReader.__cinit__\u001B[1;34m()\u001B[0m\n",
      "\u001B[1;32mpandas\\_libs\\parsers.pyx\u001B[0m in \u001B[0;36mpandas._libs.parsers.TextReader._setup_parser_source\u001B[1;34m()\u001B[0m\n",
      "\u001B[1;31mFileNotFoundError\u001B[0m: [Errno 2] No such file or directory: 'italian-serie-a/data/season-1415_csv.csv'"
     ]
    }
   ],
   "source": [
    "df2014 = ita_by_years.get_group(2014)\n",
    "dfdates = pd.read_csv('italian-serie-a/data/season-1415_csv.csv')\n",
    "dfdates['HomeTeam'] = dfdates['HomeTeam'].str.upper()\n",
    "dfdates['AwayTeam'] = dfdates['AwayTeam'].str.upper()\n",
    "t1 = df2014['Home Team'].unique()\n",
    "t2 = dfdates['HomeTeam'].unique()\n",
    "\n",
    "names = dict()\n",
    "t1.sort()\n",
    "t2.sort()\n",
    "t2[19] = \"HELLAS\"\n",
    "t2.sort()\n",
    "t2[7] = \"VERONA\"\n",
    "for i in range(len(t1)):\n",
    "    print(t2[i] + '--' + t1[i])\n",
    "    names[t2[i]] = t1[i]"
   ],
   "metadata": {
    "collapsed": false,
    "pycharm": {
     "name": "#%%\n"
    }
   }
  },
  {
   "cell_type": "code",
   "execution_count": null,
   "outputs": [],
   "source": [
    "dfdates['HomeTeam'] = dfdates['HomeTeam'].apply(lambda x: names[x])\n",
    "dfdates['AwayTeam'] = dfdates['AwayTeam'].apply(lambda x: names[x])\n",
    "print(dfdates['AwayTeam'].unique())"
   ],
   "metadata": {
    "collapsed": false,
    "pycharm": {
     "name": "#%%\n"
    }
   }
  },
  {
   "cell_type": "code",
   "execution_count": null,
   "outputs": [],
   "source": [
    "it2014combo = pd.merge(dfdates, df2014, left_on=['HomeTeam','AwayTeam'], right_on=['Home Team', 'Away Team'])\n",
    "it2014combo.head()"
   ],
   "metadata": {
    "collapsed": false,
    "pycharm": {
     "name": "#%%\n"
    }
   }
  },
  {
   "cell_type": "markdown",
   "source": [
    "#### 2015-2016 season"
   ],
   "metadata": {
    "collapsed": false
   }
  },
  {
   "cell_type": "code",
   "execution_count": null,
   "outputs": [],
   "source": [
    "df2015 = ita_by_years.get_group(2015)\n",
    "dfdates = pd.read_csv('italian-serie-a/data/season-1516_csv.csv')\n",
    "dfdates['HomeTeam'] = dfdates['HomeTeam'].str.upper()\n",
    "dfdates['AwayTeam'] = dfdates['AwayTeam'].str.upper()\n",
    "t1 = df2015['Home Team'].unique()\n",
    "t2 = dfdates['HomeTeam'].unique()\n",
    "\n",
    "names = dict()\n",
    "t1.sort()\n",
    "t2.sort()\n",
    "t2[19] = \"HELLAS\"\n",
    "t2.sort()\n",
    "t2[8] = \"VERONA\"\n",
    "for i in range(len(t1)):\n",
    "    print(t2[i] + '--' + t1[i])\n",
    "    names[t2[i]] = t1[i]"
   ],
   "metadata": {
    "collapsed": false,
    "pycharm": {
     "name": "#%%\n"
    }
   }
  },
  {
   "cell_type": "code",
   "execution_count": null,
   "outputs": [],
   "source": [
    "dfdates['HomeTeam'] = dfdates['HomeTeam'].apply(lambda x: names[x])\n",
    "dfdates['AwayTeam'] = dfdates['AwayTeam'].apply(lambda x: names[x])\n",
    "print(dfdates['AwayTeam'].unique())"
   ],
   "metadata": {
    "collapsed": false,
    "pycharm": {
     "name": "#%%\n"
    }
   }
  },
  {
   "cell_type": "code",
   "execution_count": null,
   "outputs": [],
   "source": [
    "it2015combo = pd.merge(dfdates, df2015, left_on=['HomeTeam','AwayTeam'], right_on=['Home Team', 'Away Team'])\n",
    "it2015combo.head()"
   ],
   "metadata": {
    "collapsed": false,
    "pycharm": {
     "name": "#%%\n"
    }
   }
  },
  {
   "cell_type": "markdown",
   "source": [
    "#### 2016-2017 season"
   ],
   "metadata": {
    "collapsed": false
   }
  },
  {
   "cell_type": "code",
   "execution_count": null,
   "outputs": [],
   "source": [
    "df2016 = ita_by_years.get_group(2016)\n",
    "dfdates = pd.read_csv('italian-serie-a/data/season-1617_csv.csv')\n",
    "dfdates['HomeTeam'] = dfdates['HomeTeam'].str.upper()\n",
    "dfdates['AwayTeam'] = dfdates['AwayTeam'].str.upper()\n",
    "t1 = df2016['Home Team'].unique()\n",
    "t2 = dfdates['HomeTeam'].unique()\n",
    "\n",
    "names = dict()\n",
    "t1.sort()\n",
    "t2.sort()\n",
    "\n",
    "for i in range(len(t1)):\n",
    "    print(t2[i] + '--' + t1[i])\n",
    "    names[t2[i]] = t1[i]"
   ],
   "metadata": {
    "collapsed": false,
    "pycharm": {
     "name": "#%%\n"
    }
   }
  },
  {
   "cell_type": "code",
   "execution_count": null,
   "outputs": [],
   "source": [
    "dfdates['HomeTeam'] = dfdates['HomeTeam'].apply(lambda x: names[x])\n",
    "dfdates['AwayTeam'] = dfdates['AwayTeam'].apply(lambda x: names[x])\n",
    "print(dfdates['AwayTeam'].unique())"
   ],
   "metadata": {
    "collapsed": false,
    "pycharm": {
     "name": "#%%\n"
    }
   }
  },
  {
   "cell_type": "code",
   "execution_count": null,
   "outputs": [],
   "source": [
    "it2016combo = pd.merge(dfdates, df2016, left_on=['HomeTeam','AwayTeam'], right_on=['Home Team', 'Away Team'])\n",
    "it2016combo.head()"
   ],
   "metadata": {
    "collapsed": false,
    "pycharm": {
     "name": "#%%\n"
    }
   }
  },
  {
   "cell_type": "markdown",
   "source": [
    "#### 2017-2018 season"
   ],
   "metadata": {
    "collapsed": false
   }
  },
  {
   "cell_type": "code",
   "execution_count": null,
   "outputs": [],
   "source": [
    "df2017 = ita_by_years.get_group(2017)\n",
    "dfdates = pd.read_csv('italian-serie-a/data/season-1718_csv.csv')\n",
    "dfdates['HomeTeam'] = dfdates['HomeTeam'].str.upper()\n",
    "dfdates['AwayTeam'] = dfdates['AwayTeam'].str.upper()\n",
    "t1 = df2017['Home Team'].unique()\n",
    "t2 = dfdates['HomeTeam'].unique()\n",
    "\n",
    "names = dict()\n",
    "t1.sort()\n",
    "t2.sort()\n",
    "t2[19] = \"HELLAS\"\n",
    "t2.sort()\n",
    "t2[8] = \"VERONA\"\n",
    "for i in range(len(t1)):\n",
    "    print(t2[i] + '--' + t1[i])\n",
    "    names[t2[i]] = t1[i]"
   ],
   "metadata": {
    "collapsed": false,
    "pycharm": {
     "name": "#%%\n"
    }
   }
  },
  {
   "cell_type": "code",
   "source": [
    "dfdates['HomeTeam'] = dfdates['HomeTeam'].apply(lambda x: names[x])\n",
    "dfdates['AwayTeam'] = dfdates['AwayTeam'].apply(lambda x: names[x])\n",
    "print(dfdates['AwayTeam'].unique())"
   ],
   "metadata": {
    "collapsed": false,
    "pycharm": {
     "name": "#%%\n"
    }
   },
   "execution_count": null,
   "outputs": []
  },
  {
   "cell_type": "code",
   "execution_count": null,
   "outputs": [],
   "source": [
    "it2017combo = pd.merge(dfdates, df2017, left_on=['HomeTeam','AwayTeam'], right_on=['Home Team', 'Away Team'])\n",
    "it2017combo.head()"
   ],
   "metadata": {
    "collapsed": false,
    "pycharm": {
     "name": "#%%\n"
    }
   }
  },
  {
   "cell_type": "markdown",
   "source": [
    "#### 2018-2019 season"
   ],
   "metadata": {
    "collapsed": false
   }
  },
  {
   "cell_type": "code",
   "execution_count": null,
   "outputs": [],
   "source": [
    "df2018 = ita_by_years.get_group(2018)\n",
    "dfdates = pd.read_csv('italian-serie-a/data/season-1819_csv.csv')\n",
    "dfdates['HomeTeam'] = dfdates['HomeTeam'].str.upper()\n",
    "dfdates['AwayTeam'] = dfdates['AwayTeam'].str.upper()\n",
    "t1 = df2018['Home Team'].unique()\n",
    "t2 = dfdates['HomeTeam'].unique()\n",
    "\n",
    "names = dict()\n",
    "t1.sort()\n",
    "t2.sort()\n",
    "\n",
    "for i in range(len(t1)):\n",
    "    print(t2[i] + '--' + t1[i])\n",
    "    names[t2[i]] = t1[i]"
   ],
   "metadata": {
    "collapsed": false,
    "pycharm": {
     "name": "#%%\n"
    }
   }
  },
  {
   "cell_type": "code",
   "execution_count": null,
   "outputs": [],
   "source": [
    "dfdates['HomeTeam'] = dfdates['HomeTeam'].apply(lambda x: names[x])\n",
    "dfdates['AwayTeam'] = dfdates['AwayTeam'].apply(lambda x: names[x])\n",
    "print(dfdates['AwayTeam'].unique())"
   ],
   "metadata": {
    "collapsed": false,
    "pycharm": {
     "name": "#%%\n"
    }
   }
  },
  {
   "cell_type": "code",
   "execution_count": null,
   "outputs": [],
   "source": [
    "it2018combo = pd.merge(dfdates, df2018, left_on=['HomeTeam','AwayTeam'], right_on=['Home Team', 'Away Team'])\n",
    "it2018combo.head()"
   ],
   "metadata": {
    "collapsed": false,
    "pycharm": {
     "name": "#%%\n"
    }
   }
  },
  {
   "cell_type": "markdown",
   "source": [
    "### combine the dataframes"
   ],
   "metadata": {
    "collapsed": false
   }
  },
  {
   "cell_type": "code",
   "execution_count": null,
   "outputs": [],
   "source": [
    "italianData= pd.DataFrame().append([it2014combo,it2015combo,it2016combo,it2017combo, it2018combo])\n",
    "italianData.head()"
   ],
   "metadata": {
    "collapsed": false,
    "pycharm": {
     "name": "#%%\n"
    }
   }
  },
  {
   "cell_type": "code",
   "execution_count": null,
   "outputs": [],
   "source": [
    "italianData['Date'] = pd.to_datetime(italianData['Date'], dayfirst=1)\n",
    "italianData.sort_values(by=['Date'],inplace=True,ascending=1)\n",
    "italianData.head(10)"
   ],
   "metadata": {
    "collapsed": false,
    "pycharm": {
     "name": "#%%\n"
    }
   }
  },
  {
   "cell_type": "markdown",
   "source": [
    "## english Data"
   ],
   "metadata": {
    "collapsed": false
   }
  },
  {
   "cell_type": "code",
   "execution_count": null,
   "outputs": [],
   "source": [
    "english = leagues.get_group('english')\n",
    "eng_by_years = english.groupby('year')\n",
    "print(english[\"year\"].unique())"
   ],
   "metadata": {
    "collapsed": false,
    "pycharm": {
     "name": "#%%\n"
    }
   }
  },
  {
   "cell_type": "markdown",
   "source": [
    "#### 2014-2015 season"
   ],
   "metadata": {
    "collapsed": false
   }
  },
  {
   "cell_type": "code",
   "execution_count": null,
   "outputs": [],
   "source": [
    "df2014 = eng_by_years.get_group(2014)\n",
    "dfdates = pd.read_csv('english-premier-league/data/season-1415_csv.csv')\n",
    "dfdates['HomeTeam'] = dfdates['HomeTeam'].str.upper()\n",
    "dfdates['AwayTeam'] = dfdates['AwayTeam'].str.upper()\n",
    "t1 = df2014['Home Team'].unique()\n",
    "t2 = dfdates['HomeTeam'].unique()\n",
    "\n",
    "names = dict()\n",
    "t1.sort()\n",
    "t2.sort()\n",
    "\n",
    "for i in range(len(t1)):\n",
    "    print(t2[i] + '--' + t1[i])\n",
    "    names[t2[i]] = t1[i]"
   ],
   "metadata": {
    "collapsed": false,
    "pycharm": {
     "name": "#%%\n"
    }
   }
  },
  {
   "cell_type": "code",
   "source": [
    "dfdates['HomeTeam'] = dfdates['HomeTeam'].apply(lambda x: names[x])\n",
    "dfdates['AwayTeam'] = dfdates['AwayTeam'].apply(lambda x: names[x])\n",
    "print(dfdates['AwayTeam'].unique())"
   ],
   "metadata": {
    "collapsed": false,
    "pycharm": {
     "name": "#%%\n"
    }
   },
   "execution_count": null,
   "outputs": []
  },
  {
   "cell_type": "code",
   "execution_count": null,
   "outputs": [],
   "source": [
    "eng2014combo = pd.merge(dfdates, df2014, left_on=['HomeTeam','AwayTeam'], right_on=['Home Team', 'Away Team'])\n",
    "eng2014combo.head()"
   ],
   "metadata": {
    "collapsed": false,
    "pycharm": {
     "name": "#%%\n"
    }
   }
  },
  {
   "cell_type": "markdown",
   "source": [
    "#### 2015-2016 season"
   ],
   "metadata": {
    "collapsed": false
   }
  },
  {
   "cell_type": "code",
   "execution_count": null,
   "outputs": [],
   "source": [
    "df2015 = eng_by_years.get_group(2015)\n",
    "dfdates = pd.read_csv('english-premier-league/data/season-1516_csv.csv')\n",
    "dfdates['HomeTeam'] = dfdates['HomeTeam'].str.upper()\n",
    "dfdates['AwayTeam'] = dfdates['AwayTeam'].str.upper()\n",
    "t1 = df2015['Home Team'].unique()\n",
    "t2 = dfdates['HomeTeam'].unique()\n",
    "\n",
    "names = dict()\n",
    "t1.sort()\n",
    "t2.sort()\n",
    "\n",
    "for i in range(len(t1)):\n",
    "    print(t2[i] + '--' + t1[i])\n",
    "    names[t2[i]] = t1[i]"
   ],
   "metadata": {
    "collapsed": false,
    "pycharm": {
     "name": "#%%\n"
    }
   }
  },
  {
   "cell_type": "code",
   "execution_count": null,
   "outputs": [],
   "source": [
    "dfdates['HomeTeam'] = dfdates['HomeTeam'].apply(lambda x: names[x])\n",
    "dfdates['AwayTeam'] = dfdates['AwayTeam'].apply(lambda x: names[x])\n",
    "print(dfdates['AwayTeam'].unique())"
   ],
   "metadata": {
    "collapsed": false,
    "pycharm": {
     "name": "#%%\n"
    }
   }
  },
  {
   "cell_type": "code",
   "execution_count": null,
   "outputs": [],
   "source": [
    "eng2015combo = pd.merge(dfdates, df2015, left_on=['HomeTeam','AwayTeam'], right_on=['Home Team', 'Away Team'])\n",
    "eng2015combo.head()"
   ],
   "metadata": {
    "collapsed": false,
    "pycharm": {
     "name": "#%%\n"
    }
   }
  },
  {
   "cell_type": "markdown",
   "source": [
    "#### 2016-2017 season"
   ],
   "metadata": {
    "collapsed": false
   }
  },
  {
   "cell_type": "code",
   "execution_count": null,
   "outputs": [],
   "source": [
    "df2016 = eng_by_years.get_group(2016)\n",
    "dfdates = pd.read_csv('english-premier-league/data/season-1617_csv.csv')\n",
    "dfdates['HomeTeam'] = dfdates['HomeTeam'].str.upper()\n",
    "dfdates['AwayTeam'] = dfdates['AwayTeam'].str.upper()\n",
    "t1 = df2016['Home Team'].unique()\n",
    "t2 = dfdates['HomeTeam'].unique()\n",
    "\n",
    "names = dict()\n",
    "t1.sort()\n",
    "t2.sort()\n",
    "\n",
    "for i in range(len(t1)):\n",
    "    print(t2[i] + '--' + t1[i])\n",
    "    names[t2[i]] = t1[i]"
   ],
   "metadata": {
    "collapsed": false,
    "pycharm": {
     "name": "#%%\n"
    }
   }
  },
  {
   "cell_type": "code",
   "execution_count": null,
   "outputs": [],
   "source": [
    "dfdates['HomeTeam'] = dfdates['HomeTeam'].apply(lambda x: names[x])\n",
    "dfdates['AwayTeam'] = dfdates['AwayTeam'].apply(lambda x: names[x])\n",
    "print(dfdates['AwayTeam'].unique())"
   ],
   "metadata": {
    "collapsed": false,
    "pycharm": {
     "name": "#%%\n"
    }
   }
  },
  {
   "cell_type": "code",
   "execution_count": null,
   "outputs": [],
   "source": [
    "eng2016combo = pd.merge(dfdates, df2016, left_on=['HomeTeam','AwayTeam'], right_on=['Home Team', 'Away Team'])\n",
    "eng2016combo.head()"
   ],
   "metadata": {
    "collapsed": false,
    "pycharm": {
     "name": "#%%\n"
    }
   }
  },
  {
   "cell_type": "markdown",
   "source": [
    "#### 2017-2018 season"
   ],
   "metadata": {
    "collapsed": false
   }
  },
  {
   "cell_type": "code",
   "execution_count": null,
   "outputs": [],
   "source": [
    "df2017 = eng_by_years.get_group(2017)\n",
    "dfdates = pd.read_csv('english-premier-league/data/season-1718_csv.csv')\n",
    "dfdates['HomeTeam'] = dfdates['HomeTeam'].str.upper()\n",
    "dfdates['AwayTeam'] = dfdates['AwayTeam'].str.upper()\n",
    "t1 = df2017['Home Team'].unique()\n",
    "t2 = dfdates['HomeTeam'].unique()\n",
    "\n",
    "names = dict()\n",
    "t1.sort()\n",
    "t2.sort()\n",
    "\n",
    "for i in range(len(t1)):\n",
    "    print(t2[i] + '--' + t1[i])\n",
    "    names[t2[i]] = t1[i]"
   ],
   "metadata": {
    "collapsed": false,
    "pycharm": {
     "name": "#%%\n"
    }
   }
  },
  {
   "cell_type": "code",
   "execution_count": null,
   "outputs": [],
   "source": [
    "dfdates['HomeTeam'] = dfdates['HomeTeam'].apply(lambda x: names[x])\n",
    "dfdates['AwayTeam'] = dfdates['AwayTeam'].apply(lambda x: names[x])\n",
    "print(dfdates['AwayTeam'].unique())"
   ],
   "metadata": {
    "collapsed": false,
    "pycharm": {
     "name": "#%%\n"
    }
   }
  },
  {
   "cell_type": "code",
   "execution_count": null,
   "outputs": [],
   "source": [
    "eng2017combo = pd.merge(dfdates, df2017, left_on=['HomeTeam','AwayTeam'], right_on=['Home Team', 'Away Team'])\n",
    "eng2017combo.head()"
   ],
   "metadata": {
    "collapsed": false,
    "pycharm": {
     "name": "#%%\n"
    }
   }
  },
  {
   "cell_type": "markdown",
   "source": [
    "#### 2018-2019 season"
   ],
   "metadata": {
    "collapsed": false
   }
  },
  {
   "cell_type": "code",
   "execution_count": null,
   "outputs": [],
   "source": [
    "df2018 = eng_by_years.get_group(2018)\n",
    "dfdates = pd.read_csv('english-premier-league/data/season-1819_csv.csv')\n",
    "dfdates['HomeTeam'] = dfdates['HomeTeam'].str.upper()\n",
    "dfdates['AwayTeam'] = dfdates['AwayTeam'].str.upper()\n",
    "t1 = df2018['Home Team'].unique()\n",
    "t2 = dfdates['HomeTeam'].unique()\n",
    "\n",
    "names = dict()\n",
    "t1.sort()\n",
    "t2.sort()\n",
    "\n",
    "for i in range(len(t1)):\n",
    "    print(t2[i] + '--' + t1[i])\n",
    "    names[t2[i]] = t1[i]"
   ],
   "metadata": {
    "collapsed": false,
    "pycharm": {
     "name": "#%%\n"
    }
   }
  },
  {
   "cell_type": "code",
   "execution_count": null,
   "outputs": [],
   "source": [
    "dfdates['HomeTeam'] = dfdates['HomeTeam'].apply(lambda x: names[x])\n",
    "dfdates['AwayTeam'] = dfdates['AwayTeam'].apply(lambda x: names[x])\n",
    "print(dfdates['AwayTeam'].unique())"
   ],
   "metadata": {
    "collapsed": false,
    "pycharm": {
     "name": "#%%\n"
    }
   }
  },
  {
   "cell_type": "code",
   "execution_count": null,
   "outputs": [],
   "source": [
    "eng2018combo = pd.merge(dfdates, df2018, left_on=['HomeTeam','AwayTeam'], right_on=['Home Team', 'Away Team'])\n",
    "eng2018combo.head()"
   ],
   "metadata": {
    "collapsed": false,
    "pycharm": {
     "name": "#%%\n"
    }
   }
  },
  {
   "cell_type": "markdown",
   "source": [
    "### combing the english dataframes"
   ],
   "metadata": {
    "collapsed": false
   }
  },
  {
   "cell_type": "code",
   "execution_count": null,
   "outputs": [],
   "source": [
    "englishData = pd.DataFrame().append([eng2014combo,eng2015combo,eng2016combo,eng2017combo, eng2018combo])\n",
    "englishData.head()"
   ],
   "metadata": {
    "collapsed": false,
    "pycharm": {
     "name": "#%%\n"
    }
   }
  },
  {
   "cell_type": "code",
   "execution_count": null,
   "outputs": [],
   "source": [
    "englishData['Date'] = pd.to_datetime(englishData['Date'], dayfirst=1)\n",
    "englishData.sort_values(by=['Date'],inplace=True,ascending=1)\n",
    "englishData.head(10)"
   ],
   "metadata": {
    "collapsed": false,
    "pycharm": {
     "name": "#%%\n"
    }
   }
  },
  {
   "cell_type": "markdown",
   "source": [
    "## French data"
   ],
   "metadata": {
    "collapsed": false
   }
  },
  {
   "cell_type": "code",
   "execution_count": null,
   "outputs": [],
   "source": [
    "french = leagues.get_group('french')\n",
    "frn_by_years = french.groupby('year')\n",
    "print(french[\"year\"].unique())"
   ],
   "metadata": {
    "collapsed": false,
    "pycharm": {
     "name": "#%%\n"
    }
   }
  },
  {
   "cell_type": "code",
   "execution_count": null,
   "outputs": [],
   "source": [
    "df2014 = frn_by_years.get_group(2014)\n",
    "dfdates = pd.read_csv('french-ligue-1/data/season-1415_csv.csv')\n",
    "dfdates['HomeTeam'] = dfdates['HomeTeam'].str.upper()\n",
    "dfdates['AwayTeam'] = dfdates['AwayTeam'].str.upper()\n",
    "t1 = df2014['Home Team'].unique()\n",
    "t2 = dfdates['HomeTeam'].unique()\n",
    "\n",
    "names = dict()\n",
    "t1.sort()\n",
    "t2.sort()\n",
    "t2[0] = \"SC BASTIA\"\n",
    "t2[5] = \"RC LENS\"\n",
    "t2[10] = \"FC METZ\"\n",
    "t2[3] = \"THONON ÉVIAN\"\n",
    "t2[16] = 'STADE DE REIMS'\n",
    "t2[17] = \"STADE RENNAIS\"\n",
    "t2[len(t2) - 2] = \"SAINT-ÉTIENNE\"\n",
    "t2.sort()\n",
    "t2[2] = \"METZ\"\n",
    "t2[len(t2) - 5] = \"BASTIA\"\n",
    "t2[len(t2) - 7] = \"LENS\"\n",
    "t2[len(t2) - 2]= \"EVIAN THONON GAILLARD\"\n",
    "t2[len(t2) - 3] = 'RENNES'\n",
    "t2[len(t2) - 4] = \"REIMS\"\n",
    "t2[len(t2) - 6]= \"ST ETIENNE\"\n",
    "\n",
    "\n",
    "\n",
    "for i in range(len(t1)):\n",
    "    print(t2[i] + '--' + t1[i])\n",
    "    names[t2[i]] = t1[i]"
   ],
   "metadata": {
    "collapsed": false,
    "pycharm": {
     "name": "#%%\n"
    }
   }
  },
  {
   "cell_type": "code",
   "execution_count": null,
   "outputs": [],
   "source": [
    "dfdates['HomeTeam'] = dfdates['HomeTeam'].apply(lambda x: names[x])\n",
    "dfdates['AwayTeam'] = dfdates['AwayTeam'].apply(lambda x: names[x])\n",
    "print(dfdates['AwayTeam'].unique())"
   ],
   "metadata": {
    "collapsed": false,
    "pycharm": {
     "name": "#%%\n"
    }
   }
  },
  {
   "cell_type": "code",
   "execution_count": null,
   "outputs": [],
   "source": [
    "fr2014combo = pd.merge(dfdates, df2014, left_on=['HomeTeam','AwayTeam'], right_on=['Home Team', 'Away Team'])\n",
    "fr2014combo.head()"
   ],
   "metadata": {
    "collapsed": false,
    "pycharm": {
     "name": "#%%\n"
    }
   }
  },
  {
   "cell_type": "markdown",
   "source": [
    "#### 2015-2016 season"
   ],
   "metadata": {
    "collapsed": false
   }
  },
  {
   "cell_type": "code",
   "execution_count": null,
   "outputs": [],
   "source": [
    "df2015 = frn_by_years.get_group(2015)\n",
    "dfdates = pd.read_csv('french-ligue-1/data/season-1516_csv.csv')\n",
    "dfdates['HomeTeam'] = dfdates['HomeTeam'].str.upper()\n",
    "dfdates['AwayTeam'] = dfdates['AwayTeam'].str.upper()\n",
    "t1 = df2015['Home Team'].unique()\n",
    "t2 = dfdates['HomeTeam'].unique()\n",
    "\n",
    "names = dict()\n",
    "t1.sort()\n",
    "t2.sort()\n",
    "t2[0] ='GFC AJACCIO'\n",
    "t2[2] = \"SC BASTIA\"\n",
    "t2[len(t2) - 5] = 'STADE DE REIMS'\n",
    "t2[len(t2) - 4] = \"STADE RENNAIS\"\n",
    "t2[len(t2) - 3] = \"SAINT-ÉTIENNE\"\n",
    "t2.sort()\n",
    "t2[3] = \"AJACCIO GFCO\"\n",
    "t2[len(t2) - 5] = \"BASTIA\"\n",
    "t2[len(t2) - 3] = 'RENNES'\n",
    "t2[len(t2) - 4] = \"REIMS\"\n",
    "t2[len(t2) - 6]= \"ST ETIENNE\"\n",
    "\n",
    "\n",
    "\n",
    "for i in range(len(t1)):\n",
    "    print(t2[i] + '--' + t1[i])\n",
    "    names[t2[i]] = t1[i]"
   ],
   "metadata": {
    "collapsed": false,
    "pycharm": {
     "name": "#%%\n"
    }
   }
  },
  {
   "cell_type": "code",
   "execution_count": null,
   "outputs": [],
   "source": [
    "dfdates['HomeTeam'] = dfdates['HomeTeam'].apply(lambda x: names[x])\n",
    "dfdates['AwayTeam'] = dfdates['AwayTeam'].apply(lambda x: names[x])\n",
    "print(dfdates['AwayTeam'].unique())"
   ],
   "metadata": {
    "collapsed": false,
    "pycharm": {
     "name": "#%%\n"
    }
   }
  },
  {
   "cell_type": "code",
   "execution_count": null,
   "outputs": [],
   "source": [
    "fr2015combo = pd.merge(dfdates, df2015, left_on=['HomeTeam','AwayTeam'], right_on=['Home Team', 'Away Team'])\n",
    "fr2015combo.head()"
   ],
   "metadata": {
    "collapsed": false,
    "pycharm": {
     "name": "#%%\n"
    }
   }
  },
  {
   "cell_type": "markdown",
   "source": [
    "#### 2016-2017 season"
   ],
   "metadata": {
    "collapsed": false
   }
  },
  {
   "cell_type": "code",
   "execution_count": null,
   "outputs": [],
   "source": [
    "df2016 = frn_by_years.get_group(2016)\n",
    "dfdates = pd.read_csv('french-ligue-1/data/season-1617_csv.csv')\n",
    "dfdates['HomeTeam'] = dfdates['HomeTeam'].str.upper()\n",
    "dfdates['AwayTeam'] = dfdates['AwayTeam'].str.upper()\n",
    "t1 = df2016['Home Team'].unique()\n",
    "t2 = dfdates['HomeTeam'].unique()\n",
    "\n",
    "names = dict()\n",
    "t1.sort()\n",
    "t2.sort()\n",
    "\n",
    "t2[1] = \"SC BASTIA\"\n",
    "t2[10] = \"FC METZ\"\n",
    "t2[len(t2) - 3] = \"STADE RENNAIS\"\n",
    "t2[len(t2) - 2] = \"SAINT-ÉTIENNE\"\n",
    "t2.sort()\n",
    "\n",
    "t2[len(t2) - 3] = \"BASTIA\"\n",
    "t2[len(t2) - 2] = 'RENNES'\n",
    "t2[4] = 'METZ'\n",
    "t2[len(t2) - 4]= \"ST ETIENNE\"\n",
    "\n",
    "\n",
    "\n",
    "for i in range(len(t1)):\n",
    "    print(t2[i] + '--' + t1[i])\n",
    "    names[t2[i]] = t1[i]"
   ],
   "metadata": {
    "collapsed": false,
    "pycharm": {
     "name": "#%%\n"
    }
   }
  },
  {
   "cell_type": "code",
   "execution_count": null,
   "outputs": [],
   "source": [
    "dfdates['HomeTeam'] = dfdates['HomeTeam'].apply(lambda x: names[x])\n",
    "dfdates['AwayTeam'] = dfdates['AwayTeam'].apply(lambda x: names[x])\n",
    "print(dfdates['AwayTeam'].unique())"
   ],
   "metadata": {
    "collapsed": false,
    "pycharm": {
     "name": "#%%\n"
    }
   }
  },
  {
   "cell_type": "code",
   "execution_count": null,
   "outputs": [],
   "source": [
    "fr2016combo = pd.merge(dfdates, df2016, left_on=['HomeTeam','AwayTeam'], right_on=['Home Team', 'Away Team'])\n",
    "fr2016combo.head()"
   ],
   "metadata": {
    "collapsed": false,
    "pycharm": {
     "name": "#%%\n"
    }
   }
  },
  {
   "cell_type": "markdown",
   "source": [
    "#### 2017-2018 season"
   ],
   "metadata": {
    "collapsed": false
   }
  },
  {
   "cell_type": "code",
   "execution_count": null,
   "outputs": [],
   "source": [
    "df2017 = frn_by_years.get_group(2017)\n",
    "dfdates = pd.read_csv('french-ligue-1/data/season-1718_csv.csv')\n",
    "dfdates['HomeTeam'] = dfdates['HomeTeam'].str.upper()\n",
    "dfdates['AwayTeam'] = dfdates['AwayTeam'].str.upper()\n",
    "t1 = df2017['Home Team'].unique()\n",
    "t2 = dfdates['HomeTeam'].unique()\n",
    "\n",
    "names = dict()\n",
    "t1.sort()\n",
    "t2.sort()\n",
    "\n",
    "t2[9] = \"FC METZ\"\n",
    "t2[len(t2) - 5] = \"STADE RENNAIS\"\n",
    "t2[len(t2) - 4] = \"SAINT-ÉTIENNE\"\n",
    "t2.sort()\n",
    "t2[len(t2) - 4] = 'RENNES'\n",
    "t2[5] = 'METZ'\n",
    "t2[len(t2) - 5]= \"ST ETIENNE\"\n",
    "\n",
    "for i in range(len(t1)):\n",
    "    print(t2[i] + '--' + t1[i])\n",
    "    names[t2[i]] = t1[i]"
   ],
   "metadata": {
    "collapsed": false,
    "pycharm": {
     "name": "#%%\n"
    }
   }
  },
  {
   "cell_type": "code",
   "execution_count": null,
   "outputs": [],
   "source": [
    "dfdates['HomeTeam'] = dfdates['HomeTeam'].apply(lambda x: names[x])\n",
    "dfdates['AwayTeam'] = dfdates['AwayTeam'].apply(lambda x: names[x])\n",
    "print(dfdates['AwayTeam'].unique())"
   ],
   "metadata": {
    "collapsed": false,
    "pycharm": {
     "name": "#%%\n"
    }
   }
  },
  {
   "cell_type": "code",
   "execution_count": null,
   "outputs": [],
   "source": [
    "fr2017combo = pd.merge(dfdates, df2017, left_on=['HomeTeam','AwayTeam'], right_on=['Home Team', 'Away Team'])\n",
    "fr2017combo.head()"
   ],
   "metadata": {
    "collapsed": false,
    "pycharm": {
     "name": "#%%\n"
    }
   }
  },
  {
   "cell_type": "markdown",
   "source": [
    "#### 2018-2019 season"
   ],
   "metadata": {
    "collapsed": false
   }
  },
  {
   "cell_type": "code",
   "execution_count": null,
   "outputs": [],
   "source": [
    "df2018 = frn_by_years.get_group(2018)\n",
    "dfdates = pd.read_csv('french-ligue-1/data/season-1819_csv.csv')\n",
    "dfdates['HomeTeam'] = dfdates['HomeTeam'].str.upper()\n",
    "dfdates['AwayTeam'] = dfdates['AwayTeam'].str.upper()\n",
    "t1 = df2018['Home Team'].unique()\n",
    "t2 = dfdates['HomeTeam'].unique()\n",
    "\n",
    "names = dict()\n",
    "t1.sort()\n",
    "t2.sort()\n",
    "\n",
    "# t2[1] = \"SC BASTIA\"\n",
    "#  t2[9] = \"FC METZ\"\n",
    "t2[len(t2) - 4] = \"STADE RENNAIS\"\n",
    "t2[len(t2) - 3] = \"SAINT-ÉTIENNE\"\n",
    "t2[len(t2) - 5] = \"STADE DE REIMS\"\n",
    "t2.sort()\n",
    "#\n",
    "t2[len(t2) - 4] = \"REIMS\"\n",
    "t2[len(t2) - 3] = 'RENNES'\n",
    "t2[len(t2) - 5] =\"ST ETIENNE\"\n",
    "\n",
    "\n",
    "for i in range(len(t1)):\n",
    "    print(t2[i] + '--' + t1[i])\n",
    "    names[t2[i]] = t1[i]"
   ],
   "metadata": {
    "collapsed": false,
    "pycharm": {
     "name": "#%%\n"
    }
   }
  },
  {
   "cell_type": "code",
   "execution_count": null,
   "outputs": [],
   "source": [
    "dfdates['HomeTeam'] = dfdates['HomeTeam'].apply(lambda x: names[x])\n",
    "dfdates['AwayTeam'] = dfdates['AwayTeam'].apply(lambda x: names[x])\n",
    "print(dfdates['AwayTeam'].unique())"
   ],
   "metadata": {
    "collapsed": false,
    "pycharm": {
     "name": "#%%\n"
    }
   }
  },
  {
   "cell_type": "code",
   "execution_count": null,
   "outputs": [],
   "source": [
    "fr2018combo = pd.merge(dfdates, df2018, left_on=['HomeTeam','AwayTeam'], right_on=['Home Team', 'Away Team'])\n",
    "fr2018combo.head()"
   ],
   "metadata": {
    "collapsed": false,
    "pycharm": {
     "name": "#%%\n"
    }
   }
  },
  {
   "cell_type": "markdown",
   "source": [
    "### combining the french datasets"
   ],
   "metadata": {
    "collapsed": false
   }
  },
  {
   "cell_type": "code",
   "execution_count": null,
   "outputs": [],
   "source": [
    "frenchData = pd.DataFrame().append([fr2014combo,fr2015combo,fr2016combo,fr2017combo,fr2018combo])\n",
    "frenchData.head()\n"
   ],
   "metadata": {
    "collapsed": false,
    "pycharm": {
     "name": "#%%\n"
    }
   }
  },
  {
   "cell_type": "code",
   "execution_count": null,
   "outputs": [],
   "source": [
    "frenchData['Date'] = pd.to_datetime(frenchData['Date'], dayfirst=1)\n",
    "frenchData.sort_values(by=['Date'],inplace=True,ascending=1)\n",
    "frenchData.head(10)"
   ],
   "metadata": {
    "collapsed": false,
    "pycharm": {
     "name": "#%%\n"
    }
   }
  },
  {
   "cell_type": "markdown",
   "source": [
    "## German bundesliga data"
   ],
   "metadata": {
    "collapsed": false
   }
  },
  {
   "cell_type": "code",
   "execution_count": null,
   "outputs": [],
   "source": [
    "german = leagues.get_group('german')\n",
    "grm_by_years = german.groupby('year')\n",
    "print(german[\"year\"].unique())"
   ],
   "metadata": {
    "collapsed": false,
    "pycharm": {
     "name": "#%%\n"
    }
   }
  },
  {
   "cell_type": "markdown",
   "source": [
    "#### 2016-2017 season"
   ],
   "metadata": {
    "collapsed": false
   }
  },
  {
   "cell_type": "code",
   "execution_count": null,
   "outputs": [],
   "source": [
    "df2016 = grm_by_years.get_group(2016)\n",
    "dfdates = pd.read_csv('german-bundesliga/data/season-1617_csv.csv')\n",
    "dfdates['HomeTeam'] = dfdates['HomeTeam'].str.upper()\n",
    "dfdates['AwayTeam'] = dfdates['AwayTeam'].str.upper()\n",
    "t1 = df2016['Home Team'].unique()\n",
    "t2 = dfdates['HomeTeam'].unique()\n",
    "\n",
    "names = dict()\n",
    "t1.sort()\n",
    "t2.sort()\n",
    "t2[5] = \"1. FC KÖLN\"\n",
    "t2[7] = \"HSV\"\n",
    "t2.sort()\n",
    "t2[0] = \"FC KOLN\"\n",
    "t2[9] = \"HAMBURG\"\n",
    "\n",
    "\n",
    "\n",
    "for i in range(len(t1)):\n",
    "    print(t2[i] + '--' + t1[i])\n",
    "    names[t2[i]] = t1[i]"
   ],
   "metadata": {
    "collapsed": false,
    "pycharm": {
     "name": "#%%\n"
    }
   }
  },
  {
   "cell_type": "code",
   "execution_count": null,
   "outputs": [],
   "source": [
    "dfdates['HomeTeam'] = dfdates['HomeTeam'].apply(lambda x: names[x])\n",
    "dfdates['AwayTeam'] = dfdates['AwayTeam'].apply(lambda x: names[x])\n",
    "print(dfdates['AwayTeam'].unique())"
   ],
   "metadata": {
    "collapsed": false,
    "pycharm": {
     "name": "#%%\n"
    }
   }
  },
  {
   "cell_type": "code",
   "execution_count": null,
   "outputs": [],
   "source": [
    "gr2016combo = pd.merge(dfdates, df2016, left_on=['HomeTeam', 'AwayTeam'], right_on=['Home Team', 'Away Team'])\n",
    "gr2016combo.head()"
   ],
   "metadata": {
    "collapsed": false,
    "pycharm": {
     "name": "#%%\n"
    }
   }
  },
  {
   "cell_type": "markdown",
   "source": [
    "#### 2017-2018 season"
   ],
   "metadata": {
    "collapsed": false
   }
  },
  {
   "cell_type": "code",
   "execution_count": null,
   "outputs": [],
   "source": [
    "df2017 = grm_by_years.get_group(2017)\n",
    "dfdates = pd.read_csv('german-bundesliga/data/season-1718_csv.csv')\n",
    "dfdates['HomeTeam'] = dfdates['HomeTeam'].str.upper()\n",
    "dfdates['AwayTeam'] = dfdates['AwayTeam'].str.upper()\n",
    "t1 = df2017['Home Team'].unique()\n",
    "t2 = dfdates['HomeTeam'].unique()\n",
    "\n",
    "names = dict()\n",
    "t1.sort()\n",
    "t2.sort()\n",
    "t2[4] = \"1. FC KÖLN\"\n",
    "t2[3] = \"FRANKFURT\"\n",
    "t2[6] = \"HSV\"\n",
    "t2.sort()\n",
    "t2[0] = \"FC KOLN\"\n",
    "t2[4] = \"EIN FRANKFURT\"\n",
    "t2[9] = \"HAMBURG\"\n",
    "\n",
    "\n",
    "\n",
    "for i in range(len(t1)):\n",
    "    print(t2[i] + '--' + t1[i])\n",
    "    names[t2[i]] = t1[i]"
   ],
   "metadata": {
    "collapsed": false,
    "pycharm": {
     "name": "#%%\n"
    }
   }
  },
  {
   "cell_type": "code",
   "execution_count": null,
   "outputs": [],
   "source": [
    "dfdates['HomeTeam'] = dfdates['HomeTeam'].apply(lambda x: names[x])\n",
    "dfdates['AwayTeam'] = dfdates['AwayTeam'].apply(lambda x: names[x])\n",
    "print(dfdates['AwayTeam'].unique())"
   ],
   "metadata": {
    "collapsed": false,
    "pycharm": {
     "name": "#%%\n"
    }
   }
  },
  {
   "cell_type": "code",
   "execution_count": null,
   "outputs": [],
   "source": [
    "gr2017combo = pd.merge(dfdates, df2017, left_on=['HomeTeam', 'AwayTeam'], right_on=['Home Team', 'Away Team'])\n",
    "gr2017combo.head()"
   ],
   "metadata": {
    "collapsed": false,
    "pycharm": {
     "name": "#%%\n"
    }
   }
  },
  {
   "cell_type": "markdown",
   "source": [
    "#### 2018-2019 season"
   ],
   "metadata": {
    "collapsed": false
   }
  },
  {
   "cell_type": "code",
   "execution_count": null,
   "outputs": [],
   "source": [
    "df2018 = grm_by_years.get_group(2018)\n",
    "dfdates = pd.read_csv('german-bundesliga/data/season-1819_csv.csv')\n",
    "dfdates['HomeTeam'] = dfdates['HomeTeam'].str.upper()\n",
    "dfdates['AwayTeam'] = dfdates['AwayTeam'].str.upper()\n",
    "t1 = df2018['Home Team'].unique()\n",
    "t2 = dfdates['HomeTeam'].unique()\n",
    "\n",
    "names = dict()\n",
    "t1.sort()\n",
    "t2.sort()\n",
    "\n",
    "t2[3] = \"FRANKFURT\"\n",
    "\n",
    "t2.sort()\n",
    "\n",
    "t2[4] = \"EIN FRANKFURT\"\n",
    "\n",
    "\n",
    "\n",
    "\n",
    "for i in range(len(t1)):\n",
    "    print(t2[i] + '--' + t1[i])\n",
    "    names[t2[i]] = t1[i]"
   ],
   "metadata": {
    "collapsed": false,
    "pycharm": {
     "name": "#%%\n"
    }
   }
  },
  {
   "cell_type": "code",
   "execution_count": null,
   "outputs": [],
   "source": [
    "dfdates['HomeTeam'] = dfdates['HomeTeam'].apply(lambda x: names[x])\n",
    "dfdates['AwayTeam'] = dfdates['AwayTeam'].apply(lambda x: names[x])\n",
    "print(dfdates['AwayTeam'].unique())"
   ],
   "metadata": {
    "collapsed": false,
    "pycharm": {
     "name": "#%%\n"
    }
   }
  },
  {
   "cell_type": "code",
   "execution_count": null,
   "outputs": [],
   "source": [
    "gr2018combo = pd.merge(dfdates, df2018, left_on=['HomeTeam', 'AwayTeam'], right_on=['Home Team', 'Away Team'])\n",
    "gr2018combo.head()"
   ],
   "metadata": {
    "collapsed": false,
    "pycharm": {
     "name": "#%%\n"
    }
   }
  },
  {
   "cell_type": "markdown",
   "source": [
    "### Combining the german datasets"
   ],
   "metadata": {
    "collapsed": false
   }
  },
  {
   "cell_type": "code",
   "execution_count": null,
   "outputs": [],
   "source": [
    "germanData = pd.DataFrame().append([gr2016combo,gr2017combo,gr2018combo])\n",
    "germanData.head()"
   ],
   "metadata": {
    "collapsed": false,
    "pycharm": {
     "name": "#%%\n"
    }
   }
  },
  {
   "cell_type": "code",
   "execution_count": null,
   "outputs": [],
   "source": [
    "germanData['Date'] = pd.to_datetime(germanData['Date'], dayfirst=1)\n",
    "germanData.sort_values(by=['Date'],inplace=True,ascending=1)\n",
    "germanData.head(10)"
   ],
   "metadata": {
    "collapsed": false,
    "pycharm": {
     "name": "#%%\n"
    }
   }
  },
  {
   "cell_type": "markdown",
   "source": [
    "### Combining the contrie dataframes"
   ],
   "metadata": {
    "collapsed": false
   }
  },
  {
   "cell_type": "code",
   "execution_count": 106,
   "outputs": [
    {
     "ename": "NameError",
     "evalue": "name 'englishData' is not defined",
     "output_type": "error",
     "traceback": [
      "\u001B[1;31m---------------------------------------------------------------------------\u001B[0m",
      "\u001B[1;31mNameError\u001B[0m                                 Traceback (most recent call last)",
      "\u001B[1;32m<ipython-input-106-71de7f77caa4>\u001B[0m in \u001B[0;36m<module>\u001B[1;34m\u001B[0m\n\u001B[1;32m----> 1\u001B[1;33m \u001B[0mdata\u001B[0m \u001B[1;33m=\u001B[0m \u001B[0mpd\u001B[0m\u001B[1;33m.\u001B[0m\u001B[0mDataFrame\u001B[0m\u001B[1;33m(\u001B[0m\u001B[1;33m)\u001B[0m\u001B[1;33m.\u001B[0m\u001B[0mappend\u001B[0m\u001B[1;33m(\u001B[0m\u001B[1;33m[\u001B[0m\u001B[0mspanishData\u001B[0m\u001B[1;33m,\u001B[0m\u001B[0menglishData\u001B[0m\u001B[1;33m,\u001B[0m \u001B[0mitalianData\u001B[0m\u001B[1;33m,\u001B[0m \u001B[0mgermanData\u001B[0m\u001B[1;33m,\u001B[0m \u001B[0mfrenchData\u001B[0m\u001B[1;33m]\u001B[0m\u001B[1;33m)\u001B[0m\u001B[1;33m\u001B[0m\u001B[1;33m\u001B[0m\u001B[0m\n\u001B[0m\u001B[0;32m      2\u001B[0m \u001B[0mdata\u001B[0m\u001B[1;33m.\u001B[0m\u001B[0mhead\u001B[0m\u001B[1;33m(\u001B[0m\u001B[1;33m)\u001B[0m\u001B[1;33m\u001B[0m\u001B[1;33m\u001B[0m\u001B[0m\n",
      "\u001B[1;31mNameError\u001B[0m: name 'englishData' is not defined"
     ]
    }
   ],
   "source": [
    "data = pd.DataFrame().append([spanishData,englishData, italianData, germanData, frenchData])\n",
    "data.head()"
   ],
   "metadata": {
    "collapsed": false,
    "pycharm": {
     "name": "#%%\n"
    }
   }
  },
  {
   "cell_type": "markdown",
   "id": "f816006c-868c-4863-b0b8-e56e8a1ec8f3",
   "metadata": {
    "tags": []
   },
   "source": [
    "### Part 3 - Data Description\n",
    "\n",
    "- Create a data description (data dictionary) for your data sets.\n",
    "    - Describe each variable\n",
    "    - If categorical, what levels are present? If the levels are encoded, what do the codes mean?\n",
    "    - If numeric, provide min, max, median and any other univariate stats you'd like to add in. \n",
    "- Where appropriate, provide histograms or other visualizations to characterize each variable."
   ]
  },
  {
   "cell_type": "code",
   "execution_count": null,
   "id": "78e72e20-2c70-4d51-9662-d373f5c2306c",
   "metadata": {},
   "outputs": [],
   "source": [
    "fig,(ax1,ax2) = plt.subplots(ncols=2)\n",
    "sn.barplot(data = metadata[['Home Team Goals Scored','Away Team Goals Scored','league']], x = 'league', y = ['Home Team Goals Scored', ax = ax1 )\n",
    "sn.barplot(data = metadata[['Home Team Goals Scored','Away Team Goals Scored','league']], x = 'league', y = 'Away Team Goals Scored', ax = ax2 )\n"
   ]
  },
  {
   "cell_type": "code",
   "execution_count": null,
   "outputs": [],
   "source": [
    "fig,(ax1,ax2) = plt.subplots(ncols=2)\n",
    "sn.barplot(data = metadata[['Home Team Goals Conceeded','Away Team Goals Conceeded','league']], x = 'league', y = 'Home Team Goals Conceeded', ax = ax1 )\n",
    "sn.barplot(data = metadata[['Home Team Goals Conceeded','Away Team Goals Conceeded','league']], x = 'league', y = 'Away Team Goals Conceeded', ax = ax2 )"
   ],
   "metadata": {
    "collapsed": false,
    "pycharm": {
     "name": "#%%\n"
    }
   }
  },
  {
   "cell_type": "code",
   "execution_count": 107,
   "outputs": [],
   "source": [
    "allData = pd.read_csv('combined_data.csv')"
   ],
   "metadata": {
    "collapsed": false,
    "pycharm": {
     "name": "#%%\n"
    }
   }
  },
  {
   "cell_type": "code",
   "execution_count": 110,
   "outputs": [
    {
     "data": {
      "text/plain": "         Unnamed: 0  Match Excitement  Home Team Rating  Away Team Rating  \\\ncount  12062.000000      12062.000000      12062.000000      12062.000000   \nmean    6030.500000          5.391494          6.399702          6.142539   \nstd     3482.143808          1.719655          0.988037          0.992074   \nmin        0.000000          1.400000          2.100000          1.300000   \n25%     3015.250000          4.100000          5.700000          5.500000   \n50%     6030.500000          5.300000          6.400000          6.100000   \n75%     9045.750000          6.400000          7.000000          6.800000   \nmax    12061.000000         10.000000         10.000000         10.000000   \n\n       Home Team Possession %  Away Team Possession %  \\\ncount            12062.000000            12062.000000   \nmean                51.199469               48.800531   \nstd                 11.275257               11.275257   \nmin                 17.000000               16.000000   \n25%                 43.000000               41.000000   \n50%                 51.000000               49.000000   \n75%                 59.000000               57.000000   \nmax                 84.000000               83.000000   \n\n       Home Team Off Target Shots  Home Team On Target Shots  \\\ncount                12062.000000               12062.000000   \nmean                     5.644338                   4.723180   \nstd                      2.781520                   2.559607   \nmin                      0.000000                   0.000000   \n25%                      4.000000                   3.000000   \n50%                      5.000000                   4.000000   \n75%                      7.000000                   6.000000   \nmax                     20.000000                  18.000000   \n\n       Home Team Total Shots  Home Team Blocked Shots  ...  \\\ncount           12062.000000             12062.000000  ...   \nmean               13.690764                 3.338501  ...   \nstd                 5.244448                 2.246498  ...   \nmin                 0.000000                 0.000000  ...   \n25%                10.000000                 2.000000  ...   \n50%                13.000000                 3.000000  ...   \n75%                17.000000                 5.000000  ...   \nmax                47.000000                19.000000  ...   \n\n       Away Team Clearances  Away Team Fouls  Away Team Yellow Cards  \\\ncount          12062.000000     12062.000000            12062.000000   \nmean              22.792323        13.083154                2.162245   \nstd               10.141781         4.205046                1.365581   \nmin                1.000000         0.000000                0.000000   \n25%               15.000000        10.000000                1.000000   \n50%               22.000000        13.000000                2.000000   \n75%               29.000000        16.000000                3.000000   \nmax               79.000000        32.000000                9.000000   \n\n       Away Team Second Yellow Cards  Away Team Red Cards  \\\ncount                   12062.000000         12062.000000   \nmean                        0.060852             0.057785   \nstd                         0.244216             0.243772   \nmin                         0.000000             0.000000   \n25%                         0.000000             0.000000   \n50%                         0.000000             0.000000   \n75%                         0.000000             0.000000   \nmax                         2.000000             2.000000   \n\n       Home Team Goals Scored  Away Team Goals Scored  \\\ncount            12062.000000            12062.000000   \nmean                 1.531172                1.206351   \nstd                  1.305178                1.168266   \nmin                  0.000000                0.000000   \n25%                  1.000000                0.000000   \n50%                  1.000000                1.000000   \n75%                  2.000000                2.000000   \nmax                 10.000000                9.000000   \n\n       Home Team Goals Conceeded  Away Team Goals Conceeded          year  \ncount               12062.000000               12062.000000  12062.000000  \nmean                    1.206351                   1.531172   2017.109352  \nstd                     1.168266                   1.305178      1.965096  \nmin                     0.000000                   0.000000   2014.000000  \n25%                     0.000000                   1.000000   2015.000000  \n50%                     1.000000                   1.000000   2017.000000  \n75%                     2.000000                   2.000000   2019.000000  \nmax                     9.000000                  10.000000   2020.000000  \n\n[8 rows x 37 columns]",
      "text/html": "<div>\n<style scoped>\n    .dataframe tbody tr th:only-of-type {\n        vertical-align: middle;\n    }\n\n    .dataframe tbody tr th {\n        vertical-align: top;\n    }\n\n    .dataframe thead th {\n        text-align: right;\n    }\n</style>\n<table border=\"1\" class=\"dataframe\">\n  <thead>\n    <tr style=\"text-align: right;\">\n      <th></th>\n      <th>Unnamed: 0</th>\n      <th>Match Excitement</th>\n      <th>Home Team Rating</th>\n      <th>Away Team Rating</th>\n      <th>Home Team Possession %</th>\n      <th>Away Team Possession %</th>\n      <th>Home Team Off Target Shots</th>\n      <th>Home Team On Target Shots</th>\n      <th>Home Team Total Shots</th>\n      <th>Home Team Blocked Shots</th>\n      <th>...</th>\n      <th>Away Team Clearances</th>\n      <th>Away Team Fouls</th>\n      <th>Away Team Yellow Cards</th>\n      <th>Away Team Second Yellow Cards</th>\n      <th>Away Team Red Cards</th>\n      <th>Home Team Goals Scored</th>\n      <th>Away Team Goals Scored</th>\n      <th>Home Team Goals Conceeded</th>\n      <th>Away Team Goals Conceeded</th>\n      <th>year</th>\n    </tr>\n  </thead>\n  <tbody>\n    <tr>\n      <th>count</th>\n      <td>12062.000000</td>\n      <td>12062.000000</td>\n      <td>12062.000000</td>\n      <td>12062.000000</td>\n      <td>12062.000000</td>\n      <td>12062.000000</td>\n      <td>12062.000000</td>\n      <td>12062.000000</td>\n      <td>12062.000000</td>\n      <td>12062.000000</td>\n      <td>...</td>\n      <td>12062.000000</td>\n      <td>12062.000000</td>\n      <td>12062.000000</td>\n      <td>12062.000000</td>\n      <td>12062.000000</td>\n      <td>12062.000000</td>\n      <td>12062.000000</td>\n      <td>12062.000000</td>\n      <td>12062.000000</td>\n      <td>12062.000000</td>\n    </tr>\n    <tr>\n      <th>mean</th>\n      <td>6030.500000</td>\n      <td>5.391494</td>\n      <td>6.399702</td>\n      <td>6.142539</td>\n      <td>51.199469</td>\n      <td>48.800531</td>\n      <td>5.644338</td>\n      <td>4.723180</td>\n      <td>13.690764</td>\n      <td>3.338501</td>\n      <td>...</td>\n      <td>22.792323</td>\n      <td>13.083154</td>\n      <td>2.162245</td>\n      <td>0.060852</td>\n      <td>0.057785</td>\n      <td>1.531172</td>\n      <td>1.206351</td>\n      <td>1.206351</td>\n      <td>1.531172</td>\n      <td>2017.109352</td>\n    </tr>\n    <tr>\n      <th>std</th>\n      <td>3482.143808</td>\n      <td>1.719655</td>\n      <td>0.988037</td>\n      <td>0.992074</td>\n      <td>11.275257</td>\n      <td>11.275257</td>\n      <td>2.781520</td>\n      <td>2.559607</td>\n      <td>5.244448</td>\n      <td>2.246498</td>\n      <td>...</td>\n      <td>10.141781</td>\n      <td>4.205046</td>\n      <td>1.365581</td>\n      <td>0.244216</td>\n      <td>0.243772</td>\n      <td>1.305178</td>\n      <td>1.168266</td>\n      <td>1.168266</td>\n      <td>1.305178</td>\n      <td>1.965096</td>\n    </tr>\n    <tr>\n      <th>min</th>\n      <td>0.000000</td>\n      <td>1.400000</td>\n      <td>2.100000</td>\n      <td>1.300000</td>\n      <td>17.000000</td>\n      <td>16.000000</td>\n      <td>0.000000</td>\n      <td>0.000000</td>\n      <td>0.000000</td>\n      <td>0.000000</td>\n      <td>...</td>\n      <td>1.000000</td>\n      <td>0.000000</td>\n      <td>0.000000</td>\n      <td>0.000000</td>\n      <td>0.000000</td>\n      <td>0.000000</td>\n      <td>0.000000</td>\n      <td>0.000000</td>\n      <td>0.000000</td>\n      <td>2014.000000</td>\n    </tr>\n    <tr>\n      <th>25%</th>\n      <td>3015.250000</td>\n      <td>4.100000</td>\n      <td>5.700000</td>\n      <td>5.500000</td>\n      <td>43.000000</td>\n      <td>41.000000</td>\n      <td>4.000000</td>\n      <td>3.000000</td>\n      <td>10.000000</td>\n      <td>2.000000</td>\n      <td>...</td>\n      <td>15.000000</td>\n      <td>10.000000</td>\n      <td>1.000000</td>\n      <td>0.000000</td>\n      <td>0.000000</td>\n      <td>1.000000</td>\n      <td>0.000000</td>\n      <td>0.000000</td>\n      <td>1.000000</td>\n      <td>2015.000000</td>\n    </tr>\n    <tr>\n      <th>50%</th>\n      <td>6030.500000</td>\n      <td>5.300000</td>\n      <td>6.400000</td>\n      <td>6.100000</td>\n      <td>51.000000</td>\n      <td>49.000000</td>\n      <td>5.000000</td>\n      <td>4.000000</td>\n      <td>13.000000</td>\n      <td>3.000000</td>\n      <td>...</td>\n      <td>22.000000</td>\n      <td>13.000000</td>\n      <td>2.000000</td>\n      <td>0.000000</td>\n      <td>0.000000</td>\n      <td>1.000000</td>\n      <td>1.000000</td>\n      <td>1.000000</td>\n      <td>1.000000</td>\n      <td>2017.000000</td>\n    </tr>\n    <tr>\n      <th>75%</th>\n      <td>9045.750000</td>\n      <td>6.400000</td>\n      <td>7.000000</td>\n      <td>6.800000</td>\n      <td>59.000000</td>\n      <td>57.000000</td>\n      <td>7.000000</td>\n      <td>6.000000</td>\n      <td>17.000000</td>\n      <td>5.000000</td>\n      <td>...</td>\n      <td>29.000000</td>\n      <td>16.000000</td>\n      <td>3.000000</td>\n      <td>0.000000</td>\n      <td>0.000000</td>\n      <td>2.000000</td>\n      <td>2.000000</td>\n      <td>2.000000</td>\n      <td>2.000000</td>\n      <td>2019.000000</td>\n    </tr>\n    <tr>\n      <th>max</th>\n      <td>12061.000000</td>\n      <td>10.000000</td>\n      <td>10.000000</td>\n      <td>10.000000</td>\n      <td>84.000000</td>\n      <td>83.000000</td>\n      <td>20.000000</td>\n      <td>18.000000</td>\n      <td>47.000000</td>\n      <td>19.000000</td>\n      <td>...</td>\n      <td>79.000000</td>\n      <td>32.000000</td>\n      <td>9.000000</td>\n      <td>2.000000</td>\n      <td>2.000000</td>\n      <td>10.000000</td>\n      <td>9.000000</td>\n      <td>9.000000</td>\n      <td>10.000000</td>\n      <td>2020.000000</td>\n    </tr>\n  </tbody>\n</table>\n<p>8 rows × 37 columns</p>\n</div>"
     },
     "execution_count": 110,
     "metadata": {},
     "output_type": "execute_result"
    }
   ],
   "source": [
    "allData.describe()"
   ],
   "metadata": {
    "collapsed": false,
    "pycharm": {
     "name": "#%%\n"
    }
   }
  },
  {
   "cell_type": "markdown",
   "source": [
    "###Data Dictionary\n",
    "Home Team (NC): Name of the home team playing in the game\n",
    "Away Team (NC): Name of the away team playing in the game\n",
    "Score (NC): Final score of the game\n",
    "Half Time Score (NC): Score of the game when half time is called\n",
    "Year (OC): Year in which the game was played\n",
    "League (NC): League that the teams belong to\n",
    "\n",
    "Match Excitement (N): Excitement of fans expressed as a number\n",
    "    MEAN: 5.39\n",
    "    MIN: 1.40\n",
    "    MED: 5.30\n",
    "    MAX: 10.00\n",
    "\n",
    "Home Team Rating (N): Numeric rating of home team\n",
    "    MEAN: 6.49\n",
    "    MIN: 2.10\n",
    "    MED: 6.40\n",
    "    MAX: 10.00\n",
    "\n",
    "Away Team Rating (N): Numeric rating of away team\n",
    "    MEAN: 6.14\n",
    "    MIN: 1.30\n",
    "    MED: 6.10\n",
    "    MAX: 10.00\n",
    "\n",
    "Home Team Possession % (N): Home team's possession of the ball throughout the entire game\n",
    "    MEAN: 51.20\n",
    "    MIN: 17.00\n",
    "    MED: 51.00\n",
    "    MAX: 84.00\n",
    "\n",
    "Away Team Possession % (N): Away team's possession of the ball throughout the entire game\n",
    "    MEAN: 48.80\n",
    "    MIN: 16.00\n",
    "    MED: 49.00\n",
    "    MAX: 83.00\n",
    "\n",
    "Home Team Off Target Shots (N): Number of off target shots made by the home team\n",
    "    MEAN: 5.64\n",
    "    MIN: 0.00\n",
    "    MED: 5.00\n",
    "    MAX: 20.00\n",
    "\n",
    "Home Team On Target Shots (N): Number of on target shots made by the home team\n",
    "    MEAN: 4.72\n",
    "    MIN: 0.00\n",
    "    MED: 4.00\n",
    "    MAX: 18.00\n",
    "\n",
    "Home Team Total Shots (N): Total shots taken by the home team\n",
    "    MEAN: 13.69\n",
    "    MIN: 0.00\n",
    "    MED: 13.00\n",
    "    MAX: 47.00\n",
    "\n",
    "Home Team Blocked Shots (N): Total shots made by the home team blocked by away team\n",
    "    MEAN: 3.34\n",
    "    MIN: 0.00\n",
    "    MED: 3.00\n",
    "    MAX: 19.00\n",
    "\n",
    "Home Team Corners (N): Number of corner kicks awarded to the home team\n",
    "    MEAN: 5.49\n",
    "    MIN: 0.00\n",
    "    MED: 5.00\n",
    "    MAX: 20.00\n",
    "\n",
    "Home Team Throw Ins (N): Number of throw ins awarded to the home team\n",
    "    MEAN: 22.35\n",
    "    MIN: 4.00\n",
    "    MED: 22.00\n",
    "    MAX: 49.00\n",
    "\n",
    "Home Team Pass Success % (N): Successful passes made by the home team expressed as a percentage of total passes made\n",
    "    MEAN: 78.73\n",
    "    MIN: 42.00\n",
    "    MED: 80.00\n",
    "    MAX: 94.00\n",
    "\n",
    "Home Team Aerials Won (N): Number of aerials won by the home team\n",
    "    MEAN: 17.08\n",
    "    MIN: 0.00\n",
    "    MED: 16.00\n",
    "    MAX: 67.00\n",
    "\n",
    "Home Team Clearances (N): Number of ball clearances made by the home team\n",
    "    MEAN: 19.33\n",
    "    MIN: 0.00\n",
    "    MED: 18.00\n",
    "    MAX: 68.00\n",
    "\n",
    "Home Team Fouls (N): Number of fouls made by the home team\n",
    "    MEAN: 12.78\n",
    "    MIN: 0.00\n",
    "    MED: 13.00\n",
    "    MAX: 33.00\n",
    "\n",
    "Home Team Yellow Cards (N): Number of yellow cards given to the home team as the result of a foul\n",
    "    MEAN: 1.94\n",
    "    MIN: 0.00\n",
    "    MED: 2.00\n",
    "    MAX: 8.00\n",
    "\n",
    "Home Team Second Yellow Cards (N): Number of second yellow cards given to the home team (must be a player that already has a yellow card) as the result of a foul\n",
    "    MEAN: 0.04\n",
    "    MIN: 0.00\n",
    "    MED: 0.00\n",
    "    MAX: 2.00\n",
    "\n",
    "Home Team Red Cards (N): Number of red cards given to the home team as the result of a foul or second yellow card\n",
    "    MEAN: 0.05\n",
    "    MIN: 0.00\n",
    "    MED: 0.00\n",
    "    MAX: 2.00\n",
    "\n",
    "Away Team Off Target Shots (N): Number of off target shots made by the Away team\n",
    "    MEAN: 4.61\n",
    "    MIN: 0.00\n",
    "    MED: 4.00\n",
    "    MAX: 17.00\n",
    "\n",
    "Away Team On Target Shots (N): Number of on target shots made by the Away team\n",
    "    MEAN: 3.88\n",
    "    MIN: 0.00\n",
    "    MED: 4.00\n",
    "    MAX: 15.00\n",
    "\n",
    "Away Team Total Shots (N): Total shots taken by the Away team\n",
    "    MEAN: 11.21\n",
    "    MIN: 0.00\n",
    "    MED: 11.00\n",
    "    MAX: 39.00\n",
    "\n",
    "Away Team Blocked Shots (N): Total shots made by the Away team blocked by away team\n",
    "    MEAN: 2.73\n",
    "    MIN: 0.00\n",
    "    MED: 2.00\n",
    "    MAX: 16.00\n",
    "\n",
    "Away Team Corners (N): Number of corner kicks awarded to the Away team\n",
    "    MEAN: 4.47\n",
    "    MIN: 0.00\n",
    "    MED: 4.00\n",
    "    MAX: 32.00\n",
    "\n",
    "Away Team Throw Ins (N): Number of throw ins awarded to the Away team\n",
    "    MEAN: 21.48\n",
    "    MIN: 3.00\n",
    "    MED: 21.00\n",
    "    MAX: 52.00\n",
    "\n",
    "Away Team Pass Success % (N): Successful passes made by the Away team expressed as a percentage of total passes made\n",
    "    MEAN: 77.48\n",
    "    MIN: 41.00\n",
    "    MED: 78.00\n",
    "    MAX: 95.00\n",
    "\n",
    "Away Team Aerials Won (N): Number of aerials won by the Away team\n",
    "    MEAN: 16.74\n",
    "    MIN: 0.00\n",
    "    MED: 16.00\n",
    "    MAX: 53.00\n",
    "\n",
    "Away Team Clearances (N): Number of ball clearances made by the Away team\n",
    "    MEAN: 22.79\n",
    "    MIN: 1.00\n",
    "    MED: 22.00\n",
    "    MAX: 79.00\n",
    "\n",
    "Away Team Fouls (N): Number of fouls made by the Away team\n",
    "    MEAN: 13.08\n",
    "    MIN: 0.00\n",
    "    MED: 13.00\n",
    "    MAX: 32.00\n",
    "\n",
    "Away Team Yellow Cards (N): Number of yellow cards given to the Away team as the result of a foul\n",
    "    MEAN: 2.16\n",
    "    MIN: 0.00\n",
    "    MED: 2.00\n",
    "    MAX: 9.00\n",
    "\n",
    "Away Team Second Yellow Cards (N): Number of second yellow cards given to the Away team (must be a player that already has a yellow card) as the result of a foul\n",
    "    MEAN: 0.06\n",
    "    MIN: 0.00\n",
    "    MED: 0.00\n",
    "    MAX: 2.00\n",
    "\n",
    "Away Team Red Cards (N): Number of red cards given to the Away team as the result of a foul or second yellow card\n",
    "    MEAN: 0.06\n",
    "    MIN: 0.00\n",
    "    MED: 0.00\n",
    "    MAX: 2.00\n",
    "\n",
    "Home Team Goals Scored (N): Number of goals scored by the home team\n",
    "    MEAN: 1.53\n",
    "    MIN: 0.00\n",
    "    MED: 1.00\n",
    "    MAX: 10.00\n",
    "\n",
    "Home Team Goals Conceded (N): Number of goals conceded by the home team\n",
    "    MEAN: 1.21\n",
    "    MIN: 0.00\n",
    "    MED: 1.00\n",
    "    MAX: 9.00\n",
    "\n",
    "Away Team Goals Scored (N): Number of goals scored by the away team\n",
    "    MEAN: 1.21\n",
    "    MIN: 0.00\n",
    "    MED: 1.00\n",
    "    MAX: 9.00\n",
    "\n",
    "Away Team Goals Conceded (N): Number of goals conceded by the away team\n",
    "    MEAN: 1.53\n",
    "    MIN: 0.00\n",
    "    MED: 1.00\n",
    "    MAX: 10.00"
   ],
   "metadata": {
    "collapsed": false,
    "pycharm": {
     "name": "#%% md\n"
    }
   }
  },
  {
   "cell_type": "markdown",
   "source": [
    "### Part 4 - Explore Bivariate relationships\n",
    "\n",
    "- Choose a reasoned set of variables to explore further.  You don't have to explore all possible pairs of variables, nor do we want to grade that much.  Choose 7 - 9 variables. One should be a variable that you'd like to predict (target variable) using the others (predictor variables).\n",
    "- List your predictor variables\n",
    "- List your target variable\n",
    "- Briefly describe why you have chosen these.\n",
    "\n",
    "Use any of the available visualizations from Seaborn to explore the relationships between the variables. Explore the relationships among the predictor variables as well as the relationship between each predictor variable and the target variable.  Which of the predictor variables are most strongly related?  Are there any interesting relationships between categorical predictors and numeric predictors?  If there are any dichotomous variables, does that influence any of the relationships? Are the relationships positive or negative?\n",
    "\n",
    "Below each plot, you should provide a description and interpretation of the plot.  Make sure to include why the variables in that plot were chosen and what you hope the reader would gain from it as well."
   ],
   "metadata": {
    "collapsed": false
   }
  },
  {
   "cell_type": "code",
   "execution_count": null,
   "id": "4058bb4e-b6a0-4d4f-b271-cd0ec29951ab",
   "metadata": {},
   "outputs": [],
   "source": []
  }
 ],
 "metadata": {
  "kernelspec": {
   "display_name": "Python 3 (ipykernel)",
   "language": "python",
   "name": "python3"
  },
  "language_info": {
   "codemirror_mode": {
    "name": "ipython",
    "version": 3
   },
   "file_extension": ".py",
   "mimetype": "text/x-python",
   "name": "python",
   "nbconvert_exporter": "python",
   "pygments_lexer": "ipython3",
   "version": "3.9.7"
  }
 },
 "nbformat": 4,
 "nbformat_minor": 5
}